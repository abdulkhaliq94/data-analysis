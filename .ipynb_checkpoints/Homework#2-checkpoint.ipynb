{
 "cells": [
  {
   "cell_type": "markdown",
   "metadata": {},
   "source": [
    "# Chapter 4: NumPy Basics: Arrays and Vectorized Computation"
   ]
  },
  {
   "cell_type": "code",
   "execution_count": 1,
   "metadata": {},
   "outputs": [],
   "source": [
    "import numpy as np"
   ]
  },
  {
   "cell_type": "markdown",
   "metadata": {},
   "source": [
    "## Dataset:80 Cereals - Nutrition data on 80cereal products\n",
    "The data file can be downloaded from <a href=\"https://www.kaggle.com/\" target=\"_blank\"><strong>Kaggle.com</strong></a>\n",
    "\n",
    "> If you like to eat cereal, do yourself a favor and avoid this dataset at all costs. After seeing these data it will never be the same for me to eat Fruity Pebbles again. - Kaggle\n",
    "\n",
    "- Download the zip file from Kaggle (login required)\n",
    "- Unzip to get cereal.csv file\n",
    "- Move the csv file to a proper folder\n",
    "- Open the csv file using notepad and excel to examine its content"
   ]
  },
  {
   "cell_type": "code",
   "execution_count": 2,
   "metadata": {},
   "outputs": [
    {
     "name": "stdout",
     "output_type": "stream",
     "text": [
      "My current working directory: C:\\Users\\abdul\\OneDrive\\Desktop\\Fall2019\\CMP 464 - Data Analysis\\data-analysis\n",
      "Make sure the csv file exists: ['cereal.csv']\n"
     ]
    }
   ],
   "source": [
    "import os\n",
    "print(\"My current working directory:\", os.getcwd())\n",
    "print(\"Make sure the csv file exists:\", os.listdir('../Data/cereals'))\n",
    "# my cereal file can be accessed as \"Data/cereals/cereal.csv\""
   ]
  },
  {
   "cell_type": "code",
   "execution_count": 3,
   "metadata": {},
   "outputs": [
    {
     "name": "stdout",
     "output_type": "stream",
     "text": [
      "['name' 'mfr' 'type' 'calories' 'protein' 'fat' 'sodium' 'fiber' 'carbo'\n",
      " 'sugars' 'potass' 'vitamins' 'shelf' 'weight' 'cups' 'rating']\n"
     ]
    }
   ],
   "source": [
    "# Load cereal.csv as a numpy array named raw_data\n",
    "raw_data = np.loadtxt(\"../Data/cereals/cereal.csv\",\n",
    "                      dtype=str,\n",
    "                      delimiter=\",\")\n",
    "print(raw_data[0, :])"
   ]
  },
  {
   "cell_type": "code",
   "execution_count": 4,
   "metadata": {},
   "outputs": [
    {
     "name": "stdout",
     "output_type": "stream",
     "text": [
      "Shape:  (78, 16)\n"
     ]
    }
   ],
   "source": [
    "print(\"Shape: \", raw_data.shape)"
   ]
  },
  {
   "cell_type": "code",
   "execution_count": 5,
   "metadata": {},
   "outputs": [
    {
     "name": "stdout",
     "output_type": "stream",
     "text": [
      "name, mfr, type, calories, protein, fat, sodium, fiber, carbo, sugars, potass, vitamins, shelf, weight, cups, rating\n"
     ]
    }
   ],
   "source": [
    "# Create a list of feature names (call it feature_names)\n",
    "feature_names = raw_data[0, :]\n",
    "# print(\"Feature names:\", raw_data[0, :])\n",
    "\n",
    "# Print a list in a nicer format:\n",
    "# Create a string that joins all values from the array\n",
    "feature_string = \", \".join(feature_names)\n",
    "print(feature_string)"
   ]
  },
  {
   "cell_type": "code",
   "execution_count": 6,
   "metadata": {},
   "outputs": [
    {
     "name": "stdout",
     "output_type": "stream",
     "text": [
      "Shape of data: (77, 16)\n"
     ]
    }
   ],
   "source": [
    "# Assign the rest to data\n",
    "data = raw_data[1:, :]\n",
    "\n",
    "# Print the shape of data\n",
    "print(\"Shape of data:\", data.shape)"
   ]
  },
  {
   "cell_type": "markdown",
   "metadata": {},
   "source": [
    "### Content\n",
    "What are the features?\n",
    "\n",
    "- Name: Name of cereal\n",
    "- mfr: Manufacturer of cereal\n",
    "    - A = American Home Food Products;\n",
    "    - G = General Mills\n",
    "    - K = Kelloggs\n",
    "    - N = Nabisco\n",
    "    - P = Post\n",
    "    - Q = Quaker Oats\n",
    "    - R = Ralston Purina\n",
    "- type:\n",
    "   - cold\n",
    "   - hot\n",
    "- calories: calories per serving\n",
    "- protein: grams of protein\n",
    "- fat: grams of fat\n",
    "- sodium: milligrams of sodium\n",
    "- fiber: grams of dietary fiber\n",
    "- carbo: grams of complex carbohydrates\n",
    "- sugars: grams of sugars\n",
    "- potass: milligrams of potassium\n",
    "- vitamins: vitamins and minerals - 0, 25, or 100, indicating the typical percentage of FDA recommended\n",
    "- shelf: display shelf (1, 2, or 3, counting from the floor)\n",
    "- weight: weight in ounces of one serving\n",
    "- cups: number of cups in one serving\n",
    "- rating: a rating of the cereals (Possibly from Consumer Reports?)\n",
    "\n",
    "\n",
    "Next, let's examine some important features"
   ]
  },
  {
   "cell_type": "code",
   "execution_count": 7,
   "metadata": {},
   "outputs": [
    {
     "name": "stdout",
     "output_type": "stream",
     "text": [
      "100% Bran\n",
      "100% Natural Bran\n",
      "All-Bran\n",
      "All-Bran with Extra Fiber\n",
      "Almond Delight\n",
      "Apple Cinnamon Cheerios\n",
      "Apple Jacks\n",
      "Basic 4\n",
      "Bran Chex\n",
      "Bran Flakes\n",
      "Cap'n'Crunch\n",
      "Cheerios\n",
      "Cinnamon Toast Crunch\n",
      "Clusters\n",
      "Cocoa Puffs\n",
      "Corn Chex\n",
      "Corn Flakes\n",
      "Corn Pops\n",
      "Count Chocula\n",
      "Cracklin' Oat Bran\n",
      "Cream of Wheat (Quick)\n",
      "Crispix\n",
      "Crispy Wheat & Raisins\n",
      "Double Chex\n",
      "Froot Loops\n",
      "Frosted Flakes\n",
      "Frosted Mini-Wheats\n",
      "Fruit & Fibre Dates; Walnuts; and Oats\n",
      "Fruitful Bran\n",
      "Fruity Pebbles\n",
      "Golden Crisp\n",
      "Golden Grahams\n",
      "Grape Nuts Flakes\n",
      "Grape-Nuts\n",
      "Great Grains Pecan\n",
      "Honey Graham Ohs\n",
      "Honey Nut Cheerios\n",
      "Honey-comb\n",
      "Just Right Crunchy  Nuggets\n",
      "Just Right Fruit & Nut\n",
      "Kix\n",
      "Life\n",
      "Lucky Charms\n",
      "Maypo\n",
      "Muesli Raisins; Dates; & Almonds\n",
      "Muesli Raisins; Peaches; & Pecans\n",
      "Mueslix Crispy Blend\n",
      "Multi-Grain Cheerios\n",
      "Nut&Honey Crunch\n",
      "Nutri-Grain Almond-Raisin\n",
      "Nutri-grain Wheat\n",
      "Oatmeal Raisin Crisp\n",
      "Post Nat. Raisin Bran\n",
      "Product 19\n",
      "Puffed Rice\n",
      "Puffed Wheat\n",
      "Quaker Oat Squares\n",
      "Quaker Oatmeal\n",
      "Raisin Bran\n",
      "Raisin Nut Bran\n",
      "Raisin Squares\n",
      "Rice Chex\n",
      "Rice Krispies\n",
      "Shredded Wheat\n",
      "Shredded Wheat 'n'Bran\n",
      "Shredded Wheat spoon size\n",
      "Smacks\n",
      "Special K\n",
      "Strawberry Fruit Wheats\n",
      "Total Corn Flakes\n",
      "Total Raisin Bran\n",
      "Total Whole Grain\n",
      "Triples\n",
      "Trix\n",
      "Wheat Chex\n",
      "Wheaties\n",
      "Wheaties Honey Gold\n"
     ]
    }
   ],
   "source": [
    "# ---------Names------------\n",
    "# Display the list of cereal names\n",
    "print(\"\\n\".join(data[:, 0]))"
   ]
  },
  {
   "cell_type": "code",
   "execution_count": 8,
   "metadata": {},
   "outputs": [
    {
     "name": "stdout",
     "output_type": "stream",
     "text": [
      "Smacks\n",
      "Shredded Wheat 'n'Bran\n",
      "Frosted Mini-Wheats\n",
      "Multi-Grain Cheerios\n",
      "Rice Chex\n",
      "Mueslix Crispy Blend\n",
      "Almond Delight\n",
      "Cinnamon Toast Crunch\n",
      "Clusters\n",
      "Quaker Oatmeal\n",
      "Apple Jacks\n",
      "All-Bran\n",
      "Oatmeal Raisin Crisp\n",
      "Wheat Chex\n",
      "Fruitful Bran\n",
      "Honey Graham Ohs\n",
      "Count Chocula\n",
      "Double Chex\n",
      "Nut&Honey Crunch\n",
      "Post Nat. Raisin Bran\n",
      "Raisin Squares\n",
      "Shredded Wheat spoon size\n",
      "Wheaties Honey Gold\n",
      "Crispy Wheat & Raisins\n",
      "Special K\n",
      "Triples\n",
      "Nutri-grain Wheat\n",
      "Honey-comb\n",
      "Bran Flakes\n",
      "Cocoa Puffs\n",
      "Kix\n",
      "Apple Cinnamon Cheerios\n",
      "Trix\n",
      "Quaker Oat Squares\n",
      "Raisin Nut Bran\n",
      "Shredded Wheat\n",
      "Maypo\n",
      "Life\n",
      "Muesli Raisins; Dates; & Almonds\n",
      "Corn Chex\n",
      "Honey Nut Cheerios\n",
      "Raisin Bran\n",
      "Just Right Fruit & Nut\n",
      "Nutri-Grain Almond-Raisin\n",
      "Just Right Crunchy  Nuggets\n",
      "Wheaties\n",
      "Corn Flakes\n",
      "100% Natural Bran\n",
      "Basic 4\n",
      "Bran Chex\n",
      "Total Whole Grain\n",
      "Cream of Wheat (Quick)\n",
      "Grape Nuts Flakes\n",
      "Product 19\n",
      "Golden Crisp\n",
      "Crispix\n",
      "Puffed Wheat\n",
      "Golden Grahams\n",
      "Total Corn Flakes\n",
      "Lucky Charms\n",
      "All-Bran with Extra Fiber\n",
      "Cracklin' Oat Bran\n",
      "Grape-Nuts\n",
      "Fruit & Fibre Dates; Walnuts; and Oats\n",
      "Frosted Flakes\n",
      "Corn Pops\n",
      "Froot Loops\n",
      "Cheerios\n",
      "Strawberry Fruit Wheats\n",
      "Puffed Rice\n",
      "Rice Krispies\n",
      "Cap'n'Crunch\n",
      "Total Raisin Bran\n",
      "Great Grains Pecan\n",
      "Muesli Raisins; Peaches; & Pecans\n",
      "Fruity Pebbles\n",
      "100% Bran\n"
     ]
    }
   ],
   "source": [
    "# The names are nicely sorted. How to sort an array?\n",
    "\n",
    "# To make an example, let's shuffle the array first\n",
    "name_data = np.array(data[:, 0])\n",
    "example = np.array(name_data)\n",
    "np.random.shuffle(example)\n",
    "print(\"\\n\".join(example))"
   ]
  },
  {
   "cell_type": "code",
   "execution_count": 9,
   "metadata": {},
   "outputs": [
    {
     "name": "stdout",
     "output_type": "stream",
     "text": [
      "['100% Bran' '100% Natural Bran' 'All-Bran' 'All-Bran with Extra Fiber'\n",
      " 'Almond Delight' 'Apple Cinnamon Cheerios' 'Apple Jacks' 'Basic 4'\n",
      " 'Bran Chex' 'Bran Flakes' \"Cap'n'Crunch\" 'Cheerios'\n",
      " 'Cinnamon Toast Crunch' 'Clusters' 'Cocoa Puffs' 'Corn Chex'\n",
      " 'Corn Flakes' 'Corn Pops' 'Count Chocula' \"Cracklin' Oat Bran\"\n",
      " 'Cream of Wheat (Quick)' 'Crispix' 'Crispy Wheat & Raisins' 'Double Chex'\n",
      " 'Froot Loops' 'Frosted Flakes' 'Frosted Mini-Wheats'\n",
      " 'Fruit & Fibre Dates; Walnuts; and Oats' 'Fruitful Bran' 'Fruity Pebbles'\n",
      " 'Golden Crisp' 'Golden Grahams' 'Grape Nuts Flakes' 'Grape-Nuts'\n",
      " 'Great Grains Pecan' 'Honey Graham Ohs' 'Honey Nut Cheerios' 'Honey-comb'\n",
      " 'Just Right Crunchy  Nuggets' 'Just Right Fruit & Nut' 'Kix' 'Life'\n",
      " 'Lucky Charms' 'Maypo' 'Muesli Raisins; Dates; & Almonds'\n",
      " 'Muesli Raisins; Peaches; & Pecans' 'Mueslix Crispy Blend'\n",
      " 'Multi-Grain Cheerios' 'Nut&Honey Crunch' 'Nutri-Grain Almond-Raisin'\n",
      " 'Nutri-grain Wheat' 'Oatmeal Raisin Crisp' 'Post Nat. Raisin Bran'\n",
      " 'Product 19' 'Puffed Rice' 'Puffed Wheat' 'Quaker Oat Squares'\n",
      " 'Quaker Oatmeal' 'Raisin Bran' 'Raisin Nut Bran' 'Raisin Squares'\n",
      " 'Rice Chex' 'Rice Krispies' 'Shredded Wheat' \"Shredded Wheat 'n'Bran\"\n",
      " 'Shredded Wheat spoon size' 'Smacks' 'Special K'\n",
      " 'Strawberry Fruit Wheats' 'Total Corn Flakes' 'Total Raisin Bran'\n",
      " 'Total Whole Grain' 'Triples' 'Trix' 'Wheat Chex' 'Wheaties'\n",
      " 'Wheaties Honey Gold']\n"
     ]
    }
   ],
   "source": [
    "# Now use sort() to sort the array\n",
    "# print(np.sort(example)) # this creates a new sorted list\n",
    "example.sort()\n",
    "print(example)# this will sort the list itself"
   ]
  },
  {
   "cell_type": "code",
   "execution_count": 10,
   "metadata": {},
   "outputs": [
    {
     "name": "stdout",
     "output_type": "stream",
     "text": [
      "(array([15], dtype=int64),)\n",
      "[68.402973 33.983679 59.425505 93.704912 34.384843 29.509541 33.174094\n",
      " 37.038562 49.120253 53.313813 18.042851 50.764999 19.823573 40.400208\n",
      " 22.736446 41.445019 45.863324 35.782791 22.396513 40.448772 64.533816\n",
      " 46.895644 36.176196 44.330856 32.207582 31.435973 58.345141 40.917047\n",
      " 41.015492 28.025765 35.252444 23.804043 52.076897 53.371007 45.811716\n",
      " 21.871292 31.072217 28.742414 36.523683 36.471512 39.241114 45.328074\n",
      " 26.734515 54.850917 37.136863 34.139765 30.313351 40.105965 29.924285\n",
      " 40.69232  59.642837 30.450843 37.840594 41.50354  60.756112 63.005645\n",
      " 49.511874 50.828392 39.259197 39.7034   55.333142 41.998933 40.560159\n",
      " 68.235885 74.472949 72.801787 31.230054 53.131324 59.363993 38.839746\n",
      " 28.592785 46.658844 39.106174 27.753301 49.787445 51.592193 36.187559]\n"
     ]
    }
   ],
   "source": [
    "# ------------- ratings ------------\n",
    "# What is the index of rating in feature_names?\n",
    "print(np.where(feature_names == \"rating\"))\n",
    "rating_data = np.array(data[:, 15]) # create a new numpy array with ratings\n",
    "# print(rating_data)\n",
    "# print(rating_data.dtype)\n",
    "# change the data type from string to float\n",
    "rating_data = rating_data.astype(float)\n",
    "print(rating_data)\n",
    "# rating_data_int = rating_data.astype(int)\n",
    "# print(rating_data_int)"
   ]
  },
  {
   "cell_type": "code",
   "execution_count": 11,
   "metadata": {},
   "outputs": [
    {
     "name": "stdout",
     "output_type": "stream",
     "text": [
      "maximum rating: 93.704912\n",
      "minimum rating: 18.042851\n",
      "average rating: 42.66570498701299\n",
      "(array([3], dtype=int64),)\n",
      "Product with highest rating: All-Bran with Extra Fiber\n",
      "(array([10], dtype=int64),)\n",
      "Cap'n'Crunch\n"
     ]
    }
   ],
   "source": [
    "# Find the maximum rating\n",
    "print(\"maximum rating:\", np.max(rating_data))\n",
    "print(\"minimum rating:\", np.min(rating_data))\n",
    "print(\"average rating:\", np.mean(rating_data))\n",
    "\n",
    "# Find the index corresponding to the highest rating\n",
    "highest_rating = np.max(rating_data)\n",
    "highest_rating_index = np.where(rating_data == highest_rating)\n",
    "print(highest_rating_index)\n",
    "print(\"Product with highest rating:\", data[3, 0])\n",
    "\n",
    "lowest_rating = np.min(rating_data)\n",
    "lowest_rating_i = np.where(rating_data == lowest_rating)\n",
    "print(lowest_rating_i)\n",
    "print(data[10,0])"
   ]
  },
  {
   "cell_type": "code",
   "execution_count": 12,
   "metadata": {},
   "outputs": [
    {
     "name": "stdout",
     "output_type": "stream",
     "text": [
      "[10 12 35 18 14 31 42 73 29 70 37  5 48 46 51 36 66 25 24  6  1 45  4 30\n",
      " 17 22 76 39 38  7 44 52 69 72 40 58 59 47 13 19 62 49 27 28 15 53 61 23\n",
      " 41 34 16 71 21  8 56 74 11 57 75 32 67  9 33 43 60 26 68  2 50 54 55 20\n",
      " 63  0 65 64  3]\n",
      "[68.235885 68.402973 72.801787 74.472949 93.704912]\n",
      "['Shredded Wheat' '100% Bran' 'Shredded Wheat spoon size'\n",
      " \"Shredded Wheat 'n'Bran\" 'All-Bran with Extra Fiber']\n",
      "[10 12 35 18 14 31 42 73 29 70 37  5 48 46 51 36 66 25 24  6  1 45  4 30\n",
      " 17 22 76 39 38  7 44 52 69 72 40 58 59 47 13 19 62 49 27 28 15 53 61 23\n",
      " 41 34 16 71 21  8 56 74 11 57 75 32 67  9 33 43 60 26 68  2 50 54 55 20\n",
      " 63  0 65 64  3]\n",
      "[18.042851 19.823573 21.871292 22.396513 22.736446]\n",
      "[\"Cap'n'Crunch\" 'Cinnamon Toast Crunch' 'Honey Graham Ohs' 'Count Chocula'\n",
      " 'Cocoa Puffs']\n"
     ]
    }
   ],
   "source": [
    "# Sort the ratings using sort() and argsort()\n",
    "sorted_rating_indices = np.argsort(rating_data)\n",
    "print(sorted_rating_indices)\n",
    "\n",
    "# Find the top five ratings\n",
    "indices= sorted_rating_indices[-5:]\n",
    "print(rating_data[indices])\n",
    "# Find the top five highest-rated cereal products\n",
    "print(name_data[indices])\n",
    "\n",
    "# find the top five lowest-rated cereal products\n",
    "\n",
    "sorted_rating_indices = np.argsort(rating_data)\n",
    "print(sorted_rating_indices)\n",
    "\n",
    "# Find the top five ratings\n",
    "indices= sorted_rating_indices[:5]\n",
    "print(rating_data[indices])\n",
    "# Find the top five highest-rated cereal products\n",
    "print(name_data[indices])"
   ]
  },
  {
   "cell_type": "code",
   "execution_count": 13,
   "metadata": {},
   "outputs": [
    {
     "name": "stdout",
     "output_type": "stream",
     "text": [
      "(array([9], dtype=int64),)\n",
      "sugars data:\n",
      "[ 6.  8.  5.  0.  8. 10. 14.  8.  6.  5. 12.  1.  9.  7. 13.  3.  2. 12.\n",
      " 13.  7.  0.  3. 10.  5. 13. 11.  7. 10. 12. 12. 15.  9.  5.  3.  4. 11.\n",
      " 10. 11.  6.  9.  3.  6. 12.  3. 11. 11. 13.  6.  9.  7.  2. 10. 14.  3.\n",
      "  0.  0.  6. -1. 12.  8.  6.  2.  3.  0.  0.  0. 15.  3.  5.  3. 14.  3.\n",
      "  3. 12.  3.  3.  8.]\n"
     ]
    },
    {
     "data": {
      "text/plain": [
       "[<matplotlib.lines.Line2D at 0x2479a8f8b88>]"
      ]
     },
     "execution_count": 13,
     "metadata": {},
     "output_type": "execute_result"
    },
    {
     "data": {
      "image/png": "[encoded data removed]",
      "text/plain": [
       "<Figure size 432x288 with 1 Axes>"
      ]
     },
     "metadata": {
      "needs_background": "light"
     },
     "output_type": "display_data"
    }
   ],
   "source": [
    "# ------------- sugars -------------\n",
    "# What is the index of sugars in feature_names?\n",
    "print(np.where(feature_names == \"sugars\"))  # Output: 9\n",
    "sugars_data = data[:, 9].astype(float)\n",
    "print(\"sugars data:\")\n",
    "print(sugars_data)\n",
    "\n",
    "# Is there any correlation between sugars and rating?\n",
    "import matplotlib.pyplot as plt\n",
    "%matplotlib inline \n",
    "# A \"magic\" command so that figure is shown in this notebook\n",
    "plt.plot(rating_data,\n",
    "         sugars_data,\n",
    "         marker='o',\n",
    "         linestyle='')"
   ]
  },
  {
   "cell_type": "code",
   "execution_count": 14,
   "metadata": {},
   "outputs": [
    {
     "data": {
      "text/plain": [
       "[<matplotlib.lines.Line2D at 0x24797eb3dc8>]"
      ]
     },
     "execution_count": 14,
     "metadata": {},
     "output_type": "execute_result"
    },
    {
     "data": {
      "image/png": "[encoded data removed]",
      "text/plain": [
       "<Figure size 432x288 with 1 Axes>"
      ]
     },
     "metadata": {
      "needs_background": "light"
     },
     "output_type": "display_data"
    }
   ],
   "source": [
    "plt.plot(rating_data,\n",
    "         sugars_data,\n",
    "         marker='s', # {. o ^ s +}\n",
    "         c='black', # {b, g, r}\n",
    "         alpha=0.7, # transparency\n",
    "         linestyle='')"
   ]
  },
  {
   "cell_type": "code",
   "execution_count": 15,
   "metadata": {},
   "outputs": [
    {
     "name": "stdout",
     "output_type": "stream",
     "text": [
      "(array([13], dtype=int64),)\n",
      "[1.   1.   1.   1.   1.   1.   1.   1.33 1.   1.   1.   1.   1.   1.\n",
      " 1.   1.   1.   1.   1.   1.   1.   1.   1.   1.   1.   1.   1.   1.25\n",
      " 1.33 1.   1.   1.   1.   1.   1.   1.   1.   1.   1.   1.3  1.   1.\n",
      " 1.   1.   1.   1.   1.5  1.   1.   1.33 1.   1.25 1.33 1.   0.5  0.5\n",
      " 1.   1.   1.33 1.   1.   1.   1.   0.83 1.   1.   1.   1.   1.   1.\n",
      " 1.5  1.   1.   1.   1.   1.   1.  ]\n",
      "{0.5, 1.0, 1.5, 1.3, 1.33, 1.25, 0.83}\n",
      "Number of different weights: 7\n"
     ]
    }
   ],
   "source": [
    "# ------------- Weight -------------\n",
    "# What is the index of weight in feature_names?\n",
    "print(np.where(feature_names == \"weight\")) # output: 13\n",
    "weight_data = np.array(data[:, 13]).astype(float)\n",
    "print(weight_data)\n",
    "\n",
    "# How many different weights per serving are there?\n",
    "weight_set = set(weight_data)\n",
    "print(weight_set)\n",
    "print(\"Number of different weights:\", len(weight_set))"
   ]
  },
  {
   "cell_type": "markdown",
   "metadata": {},
   "source": [
    "## Measure nutrition by serving\n",
    "\n",
    "The following project is inspired by <a href=\"https://www.kaggle.com/frankwwu/how-cereal-manufacturers-mislead-consumers\" target=\"_blank\"><strong>The Kaggle Kernel</strong></a>\n",
    "\n",
    "Manufacturers like to measure nutrition with serving. Every manufacturer chaotically defines the serving with different weights and cups. Thus, for consumers, comparing nutrition measured with different serving is very confusing in practice. Imagine you are comparing nutrition facts of different cereals in a grocery store and they are measured with different serving, you definitely need a calculator and a piece of paper."
   ]
  },
  {
   "cell_type": "code",
   "execution_count": 16,
   "metadata": {},
   "outputs": [
    {
     "name": "stdout",
     "output_type": "stream",
     "text": [
      "[ 6.          8.          5.          0.          8.         10.\n",
      " 14.          6.01503759  6.          5.         12.          1.\n",
      "  9.          7.         13.          3.          2.         12.\n",
      " 13.          7.          0.          3.         10.          5.\n",
      " 13.         11.          7.          8.          9.02255639 12.\n",
      " 15.          9.          5.          3.          4.         11.\n",
      " 10.         11.          6.          6.92307692  3.          6.\n",
      " 12.          3.         11.         11.          8.66666667  6.\n",
      "  9.          5.26315789  2.          8.         10.52631579  3.\n",
      "  0.          0.          6.         -1.          9.02255639  8.\n",
      "  6.          2.          3.          0.          0.          0.\n",
      " 15.          3.          5.          3.          9.33333333  3.\n",
      "  3.         12.          3.          3.          8.        ]\n"
     ]
    },
    {
     "data": {
      "text/plain": [
       "[<matplotlib.lines.Line2D at 0x2479b24d348>]"
      ]
     },
     "execution_count": 16,
     "metadata": {},
     "output_type": "execute_result"
    },
    {
     "data": {
      "image/png": "[encoded data removed]",
      "text/plain": [
       "<Figure size 432x288 with 1 Axes>"
      ]
     },
     "metadata": {
      "needs_background": "light"
     },
     "output_type": "display_data"
    }
   ],
   "source": [
    "# Divide sugars by weight\n",
    "sugars_adjusted = sugars_data / weight_data\n",
    "print(sugars_adjusted)\n",
    "plt.plot(rating_data,\n",
    "         sugars_adjusted,\n",
    "         c='b',\n",
    "         linestyle='',\n",
    "         marker='o')"
   ]
  },
  {
   "cell_type": "code",
   "execution_count": 17,
   "metadata": {},
   "outputs": [
    {
     "name": "stdout",
     "output_type": "stream",
     "text": [
      "15.0\n",
      "0.0\n"
     ]
    }
   ],
   "source": [
    "# What is the maximum and minimum amount of sugar in a unified serving?\n",
    "print(np.max(sugars_adjusted))\n",
    "print(np.min(sugars_adjusted[sugars_adjusted != -1]))"
   ]
  },
  {
   "cell_type": "markdown",
   "metadata": {},
   "source": [
    "## Create our own ratings\n",
    "\n",
    "- good-cereal-rating = protein + fiber + vitamins\n",
    "- bad-cereal-rating = fat + sodium + potass + sugars"
   ]
  },
  {
   "cell_type": "code",
   "execution_count": 18,
   "metadata": {},
   "outputs": [
    {
     "name": "stdout",
     "output_type": "stream",
     "text": [
      "[ 39.    5.   38.   43.   28.   28.5  28.   30.   31.   33.   26.   33.\n",
      "  26.   30.   26.   27.   28.   27.   26.   32.    4.   28.   29.   28.\n",
      "  28.   27.   31.   33.   33.   26.   27.   26.   31.   31.   31.   27.\n",
      "  29.5  26.  103.  105.   27.   31.   27.   29.   32.   32.   31.   29.\n",
      "  27.   31.   31.   29.5  34.  104.    1.    3.   31.    7.7  33.   30.5\n",
      "  29.   26.   27.    5.    7.    6.   28.   32.   30.  102.  107.  106.\n",
      "  27.   26.   31.   31.   28. ]\n"
     ]
    }
   ],
   "source": [
    "good_rating = data[:, 4].astype(float) + data[:, 7].astype(float) + data[:, 11].astype(float)\n",
    "print(good_rating)"
   ]
  },
  {
   "cell_type": "code",
   "execution_count": 19,
   "metadata": {},
   "outputs": [
    {
     "data": {
      "text/plain": [
       "[<matplotlib.lines.Line2D at 0x2479b2389c8>]"
      ]
     },
     "execution_count": 19,
     "metadata": {},
     "output_type": "execute_result"
    },
    {
     "data": {
      "image/png": "[encoded data removed]",
      "text/plain": [
       "<Figure size 432x288 with 1 Axes>"
      ]
     },
     "metadata": {
      "needs_background": "light"
     },
     "output_type": "display_data"
    }
   ],
   "source": [
    "plt.plot(rating_data, good_rating, 'b-^') # b is color, . is marker"
   ]
  },
  {
   "cell_type": "code",
   "execution_count": 20,
   "metadata": {},
   "outputs": [
    {
     "name": "stdout",
     "output_type": "stream",
     "text": [
      "{'R', 'G', 'A', 'N', 'P', 'Q', 'K'}\n",
      "8\n",
      "['100% Natural Bran' \"Cap'n'Crunch\" 'Honey Graham Ohs' 'Life'\n",
      " 'Puffed Rice' 'Puffed Wheat' 'Quaker Oat Squares' 'Quaker Oatmeal']\n",
      "R 8\n",
      "G 22\n",
      "A 1\n",
      "N 6\n",
      "P 9\n",
      "Q 8\n",
      "K 23\n",
      "['A' 'G' 'K' 'N' 'P' 'Q' 'R']\n",
      "[ 1 22 23  6  9  8  8]\n"
     ]
    }
   ],
   "source": [
    "# mfr: manufacturer\n",
    "# How many different mfr are there?\n",
    "np.where(feature_names == \"mfr\")\n",
    "set_mfr = set(data[:,1])\n",
    "print(set_mfr)\n",
    "len(set_mfr)\n",
    "\n",
    "# How many products are made by mfr \"Q\"?\n",
    "indices = np.where(data[:, 1] == \"Q\")\n",
    "print(len(indices[0]))\n",
    "\n",
    "# What are the products made by \"Q\"?\n",
    "print(name_data[indices])\n",
    "\n",
    "# How many products are there for each mfr?\n",
    "for i in set_mfr:\n",
    "    indices = np.where(data[:, 1] == i)\n",
    "    print(i, len(indices[0])) \n",
    "    \n",
    "# Actually, the frequencies can be obtain from np.unique\n",
    "mfr, mfr_freq = np.unique(data[:, 1], return_counts=True)\n",
    "print(mfr)\n",
    "print(mfr_freq)"
   ]
  },
  {
   "cell_type": "markdown",
   "metadata": {},
   "source": [
    "## More on NumPy Arrays\n",
    "\n",
    "- Create a numpy array\n",
    "- Change data type\n",
    "- Arithmetic\n",
    "- Boolean indexing\n",
    "- Fancy indexing\n",
    "- Reshape numpy arrays\n",
    "- Element-wise array functions\n",
    "- Statistical methods"
   ]
  },
  {
   "cell_type": "markdown",
   "metadata": {},
   "source": [
    "# 1. Fat\n",
    "    - Calculate fat per ounce\n",
    "    - What is the maximum and minimum value for fat per ounce?"
   ]
  },
  {
   "cell_type": "code",
   "execution_count": 21,
   "metadata": {},
   "outputs": [
    {
     "name": "stdout",
     "output_type": "stream",
     "text": [
      "(array([5], dtype=int64),)\n",
      "[1. 5. 1. 0. 2. 2. 0. 2. 1. 0. 2. 2. 3. 2. 1. 0. 0. 0. 1. 3. 0. 0. 1. 0.\n",
      " 1. 0. 0. 2. 0. 1. 0. 1. 1. 0. 3. 2. 1. 0. 1. 1. 1. 2. 1. 1. 3. 3. 2. 1.\n",
      " 1. 2. 0. 2. 1. 0. 0. 0. 1. 2. 1. 2. 0. 0. 0. 0. 0. 0. 1. 0. 0. 1. 1. 1.\n",
      " 1. 1. 1. 1. 1.]\n",
      "[1.         5.         1.         0.         2.         2.\n",
      " 0.         1.5037594  1.         0.         2.         2.\n",
      " 3.         2.         1.         0.         0.         0.\n",
      " 1.         3.         0.         0.         1.         0.\n",
      " 1.         0.         0.         1.6        0.         1.\n",
      " 0.         1.         1.         0.         3.         2.\n",
      " 1.         0.         1.         0.76923077 1.         2.\n",
      " 1.         1.         3.         3.         1.33333333 1.\n",
      " 1.         1.5037594  0.         1.6        0.7518797  0.\n",
      " 0.         0.         1.         2.         0.7518797  2.\n",
      " 0.         0.         0.         0.         0.         0.\n",
      " 1.         0.         0.         1.         0.66666667 1.\n",
      " 1.         1.         1.         1.         1.        ]\n",
      "\n",
      "Maximum value for fat per ounce 5.0\n",
      "Minimum value for fat per ounce 0.0\n"
     ]
    }
   ],
   "source": [
    "# Finding the right column for fat\n",
    "print(np.where(feature_names == \"fat\"))\n",
    "fat_data = np.array(data[:, 5]).astype(float)\n",
    "print(fat_data)\n",
    "\n",
    "# Calculating fat per ounce\n",
    "fat_per_ounce = fat_data / weight_data\n",
    "print(fat_per_ounce)\n",
    "\n",
    "# Finding the maximum and minimum values for fat per ounce\n",
    "print(\"\\nMaximum value for fat per ounce\", np.max(fat_per_ounce))\n",
    "print(\"Minimum value for fat per ounce\", np.min(fat_per_ounce))"
   ]
  },
  {
   "cell_type": "markdown",
   "metadata": {},
   "source": [
    "2. Calories\n",
    "    - Calculate calories per ounce\n",
    "    - find the top 5 cereals with highest calories\n",
    "    - find the top 5 cereals with lowest calories"
   ]
  },
  {
   "cell_type": "code",
   "execution_count": 22,
   "metadata": {},
   "outputs": [
    {
     "name": "stdout",
     "output_type": "stream",
     "text": [
      "(array([3], dtype=int64),)\n",
      "[ 70. 120.  70.  50. 110. 110. 110. 130.  90.  90. 120. 110. 120. 110.\n",
      " 110. 110. 100. 110. 110. 110. 100. 110. 100. 100. 110. 110. 100. 120.\n",
      " 120. 110. 100. 110. 100. 110. 120. 120. 110. 110. 110. 140. 110. 100.\n",
      " 110. 100. 150. 150. 160. 100. 120. 140.  90. 130. 120. 100.  50.  50.\n",
      " 100. 100. 120. 100.  90. 110. 110.  80.  90.  90. 110. 110.  90. 110.\n",
      " 140. 100. 110. 110. 100. 100. 110.]\n",
      "\n",
      "Calories:\n",
      "  [ 70.         120.          70.          50.         110.\n",
      " 110.         110.          97.7443609   90.          90.\n",
      " 120.         110.         120.         110.         110.\n",
      " 110.         100.         110.         110.         110.\n",
      " 100.         110.         100.         100.         110.\n",
      " 110.         100.          96.          90.22556391 110.\n",
      " 100.         110.         100.         110.         120.\n",
      " 120.         110.         110.         110.         107.69230769\n",
      " 110.         100.         110.         100.         150.\n",
      " 150.         106.66666667 100.         120.         105.26315789\n",
      "  90.         104.          90.22556391 100.         100.\n",
      " 100.         100.         100.          90.22556391 100.\n",
      "  90.         110.         110.          96.38554217  90.\n",
      "  90.         110.         110.          90.         110.\n",
      "  93.33333333 100.         110.         110.         100.\n",
      " 100.         110.        ]\n",
      "\n",
      "Top 5 cereals with highest calories:  150.0\n",
      "Top 5 cereals with lowest calories:  50.0\n"
     ]
    }
   ],
   "source": [
    "# Finding the right column for calories\n",
    "print(np.where(feature_names == \"calories\"))\n",
    "calorie_data = np.array(data[:, 3]).astype(float)\n",
    "print(calorie_data)\n",
    "\n",
    "# Calculating calories per ounce\n",
    "calories_per_ounce = calorie_data / weight_data\n",
    "print(\"\\nCalories:\\n \", calories_per_ounce)\n",
    "\n",
    "# Find the top 5 cereals with highest calories\n",
    "calories_per_ounce.argsort()\n",
    "print(\"\\nTop 5 cereals with highest calories: \", np.max(calories_per_ounce))\n",
    "\n",
    "# Find the top 5 cereals with lowest calories\n",
    "print(\"Top 5 cereals with lowest calories: \", np.min(calories_per_ounce))"
   ]
  },
  {
   "cell_type": "markdown",
   "metadata": {},
   "source": [
    "3. Bad rating\n",
    "    - Calculate bad-cereal-rating for each cereal\n",
    "    - Plot Ratings vs. Bad-Cereal-Ratings.\n",
    "    - Do they agree with each other?"
   ]
  },
  {
   "cell_type": "code",
   "execution_count": 23,
   "metadata": {},
   "outputs": [
    {
     "name": "stdout",
     "output_type": "stream",
     "text": [
      "(array([5], dtype=int64),) \n",
      " (array([6], dtype=int64),)\n",
      "(array([10], dtype=int64),) \n",
      " (array([9], dtype=int64),)\n",
      "[417. 163. 586. 470. 209. 262. 169. 320. 332. 405. 269. 398. 267. 254.\n",
      " 249. 308. 327. 122. 259. 310.  79. 253. 271. 275. 169. 236. 107. 372.\n",
      " 442. 173. 100. 335. 231. 263. 182. 278. 351. 226. 237. 275. 304. 253.\n",
      " 248.  99. 279. 334. 325. 317. 240. 359. 262. 302. 475. 368.  15.  50.\n",
      " 252. 111. 463. 290. 116. 272. 328.  95. 140. 120. 126. 288. 110. 239.\n",
      " 435. 314. 314. 178. 349. 314. 269.]\n"
     ]
    },
    {
     "data": {
      "text/plain": [
       "[<matplotlib.lines.Line2D at 0x2479b2af508>]"
      ]
     },
     "execution_count": 23,
     "metadata": {},
     "output_type": "execute_result"
    },
    {
     "data": {
      "image/png": "[encoded data removed]",
      "text/plain": [
       "<Figure size 432x288 with 1 Axes>"
      ]
     },
     "metadata": {
      "needs_background": "light"
     },
     "output_type": "display_data"
    }
   ],
   "source": [
    "# 3. Bad rating\n",
    "# - Calculate bad-cereal-rating for each cereal\n",
    "\n",
    "print(np.where(feature_names == 'fat'), '\\n', np.where(feature_names == 'sodium'))\n",
    "print(np.where(feature_names == 'potass'), '\\n', np.where(feature_names == 'sugars'))\n",
    "\n",
    "bad_cereal_rating = data[:, 5].astype(float) + data[:, 6].astype(float) + data[:, 10].astype(float) + data[:, 9].astype(float)\n",
    "print(bad_cereal_rating)\n",
    "\n",
    "# - Plot Ratings vs. Bad-Cereal-Ratings\n",
    "plt.plot(rating_data, bad_cereal_rating, 'b-d') # b is color, . is marker"
   ]
  },
  {
   "cell_type": "markdown",
   "metadata": {},
   "source": [
    "- Do they agree with each other?"
   ]
  },
  {
   "cell_type": "markdown",
   "metadata": {},
   "source": [
    "No, they do not agree with each other given the Ratings_data and Bad_Cereal_Rating data are closely matched when plotted.\n",
    "It is completely different compared to good_ratings data plot we did above."
   ]
  }
 ],
 "metadata": {
  "kernelspec": {
   "display_name": "Python 3",
   "language": "python",
   "name": "python3"
  },
  "language_info": {
   "codemirror_mode": {
    "name": "ipython",
    "version": 3
   },
   "file_extension": ".py",
   "mimetype": "text/x-python",
   "name": "python",
   "nbconvert_exporter": "python",
   "pygments_lexer": "ipython3",
   "version": "3.7.4"
  }
 },
 "nbformat": 4,
 "nbformat_minor": 2
}
