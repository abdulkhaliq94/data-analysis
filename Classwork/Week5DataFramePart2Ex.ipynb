{
 "cells": [
  {
   "cell_type": "code",
   "execution_count": 1,
   "metadata": {},
   "outputs": [],
   "source": [
    "import os\n",
    "import numpy as np\n",
    "import pandas as pd\n",
    "import matplotlib.pyplot as plt\n",
    "%matplotlib inline  \n",
    "# Without this line, plots won't show unless plt.show() is used."
   ]
  },
  {
   "cell_type": "markdown",
   "metadata": {},
   "source": [
    "## 1. Load the data\n",
    "- Use the function defined in last week's notebook to load the MovieLens-small dataset.\n",
    "- Use `pd.read_csv()` to load `ratings.csv`\n",
    "- Show basic information of the dataset:\n",
    "    - Shape\n",
    "    - Feature names\n",
    "    - Feature data types\n",
    "    - First 5 rows\n",
    "    - Statistics of numerical features (Use .describe())\n",
    "    - Frequencies of categorical features (Use .value_counts())\n",
    "    - Any missing values? (Use pd.isnull())"
   ]
  },
  {
   "cell_type": "code",
   "execution_count": 2,
   "metadata": {},
   "outputs": [],
   "source": [
    "import urllib.request\n",
    "import zipfile\n",
    "\n",
    "def get_movielens(file_path, file_name, delete_zip_file=False):\n",
    "    url = \"http://files.grouplens.org/datasets/movielens/\" + file_name\n",
    "    # Check if the file_path exists; if not, create this path.\n",
    "    if not os.path.exists(file_path):\n",
    "        os.mkdir(file_path)\n",
    "    if not os.path.exists(file_path + file_name):\n",
    "        urllib.request.urlretrieve(url, file_path + file_name)\n",
    "        print(\"File\", file_name, \"downloaded.\")\n",
    "    with zipfile.ZipFile(file_path + file_name, \"r\") as f:\n",
    "        f.extractall(file_path)\n",
    "        print(\"Files extracted:\")\n",
    "        print(f.printdir())\n",
    "    if delete_zip_file:\n",
    "        os.remove(file_path + file_name)"
   ]
  },
  {
   "cell_type": "code",
   "execution_count": 3,
   "metadata": {},
   "outputs": [
    {
     "name": "stdout",
     "output_type": "stream",
     "text": [
      "Files extracted:\n",
      "File Name                                             Modified             Size\n",
      "ml-latest-small/                               2018-09-26 15:50:12            0\n",
      "ml-latest-small/links.csv                      2018-09-26 15:50:10       197979\n",
      "ml-latest-small/tags.csv                       2018-09-26 15:49:40       118660\n",
      "ml-latest-small/ratings.csv                    2018-09-26 15:49:38      2483723\n",
      "ml-latest-small/README.txt                     2018-09-26 15:50:12         8342\n",
      "ml-latest-small/movies.csv                     2018-09-26 15:49:56       494431\n",
      "None\n"
     ]
    }
   ],
   "source": [
    "file_path = \"../../Data/\"\n",
    "zip_file = \"ml-latest-small.zip\"\n",
    "get_movielens(file_path, zip_file)"
   ]
  },
  {
   "cell_type": "code",
   "execution_count": 4,
   "metadata": {},
   "outputs": [
    {
     "data": {
      "text/html": [
       "<div>\n",
       "<style scoped>\n",
       "    .dataframe tbody tr th:only-of-type {\n",
       "        vertical-align: middle;\n",
       "    }\n",
       "\n",
       "    .dataframe tbody tr th {\n",
       "        vertical-align: top;\n",
       "    }\n",
       "\n",
       "    .dataframe thead th {\n",
       "        text-align: right;\n",
       "    }\n",
       "</style>\n",
       "<table border=\"1\" class=\"dataframe\">\n",
       "  <thead>\n",
       "    <tr style=\"text-align: right;\">\n",
       "      <th></th>\n",
       "      <th>userId</th>\n",
       "      <th>movieId</th>\n",
       "      <th>rating</th>\n",
       "      <th>timestamp</th>\n",
       "    </tr>\n",
       "  </thead>\n",
       "  <tbody>\n",
       "    <tr>\n",
       "      <td>0</td>\n",
       "      <td>1</td>\n",
       "      <td>1</td>\n",
       "      <td>4.0</td>\n",
       "      <td>964982703</td>\n",
       "    </tr>\n",
       "    <tr>\n",
       "      <td>1</td>\n",
       "      <td>1</td>\n",
       "      <td>3</td>\n",
       "      <td>4.0</td>\n",
       "      <td>964981247</td>\n",
       "    </tr>\n",
       "    <tr>\n",
       "      <td>2</td>\n",
       "      <td>1</td>\n",
       "      <td>6</td>\n",
       "      <td>4.0</td>\n",
       "      <td>964982224</td>\n",
       "    </tr>\n",
       "  </tbody>\n",
       "</table>\n",
       "</div>"
      ],
      "text/plain": [
       "   userId  movieId  rating  timestamp\n",
       "0       1        1     4.0  964982703\n",
       "1       1        3     4.0  964981247\n",
       "2       1        6     4.0  964982224"
      ]
     },
     "execution_count": 4,
     "metadata": {},
     "output_type": "execute_result"
    }
   ],
   "source": [
    "ratings_df = pd.read_csv(\"../../Data/ml-latest-small/ratings.csv\", delimiter=\",\")\n",
    "ratings_df.head(3)"
   ]
  },
  {
   "cell_type": "code",
   "execution_count": 5,
   "metadata": {},
   "outputs": [
    {
     "name": "stdout",
     "output_type": "stream",
     "text": [
      "Shape: (100836, 4)\n"
     ]
    }
   ],
   "source": [
    "# Print the shape of the data frame\n",
    "print(\"Shape:\", ratings_df.shape)\n"
   ]
  },
  {
   "cell_type": "code",
   "execution_count": 6,
   "metadata": {},
   "outputs": [
    {
     "data": {
      "text/plain": [
       "Index(['userId', 'movieId', 'rating', 'timestamp'], dtype='object')"
      ]
     },
     "execution_count": 6,
     "metadata": {},
     "output_type": "execute_result"
    }
   ],
   "source": [
    "# Print the feature names\n",
    "ratings_df.columns\n"
   ]
  },
  {
   "cell_type": "code",
   "execution_count": 7,
   "metadata": {},
   "outputs": [
    {
     "name": "stdout",
     "output_type": "stream",
     "text": [
      "type\n",
      " userId         int64\n",
      "movieId        int64\n",
      "rating       float64\n",
      "timestamp      int64\n",
      "dtype: object\n"
     ]
    }
   ],
   "source": [
    "# Print the data types of features\n",
    "print(\"type\\n\", ratings_df.dtypes)\n",
    "\n",
    "# Change the data type of userId to float\n",
    "# ratings_df[\"userId\"] = ratings_df[\"userId\"].astype(float)\n",
    "# print(\"type\\n\", ratings_df.dtypes)"
   ]
  },
  {
   "cell_type": "code",
   "execution_count": 8,
   "metadata": {},
   "outputs": [
    {
     "data": {
      "text/html": [
       "<div>\n",
       "<style scoped>\n",
       "    .dataframe tbody tr th:only-of-type {\n",
       "        vertical-align: middle;\n",
       "    }\n",
       "\n",
       "    .dataframe tbody tr th {\n",
       "        vertical-align: top;\n",
       "    }\n",
       "\n",
       "    .dataframe thead th {\n",
       "        text-align: right;\n",
       "    }\n",
       "</style>\n",
       "<table border=\"1\" class=\"dataframe\">\n",
       "  <thead>\n",
       "    <tr style=\"text-align: right;\">\n",
       "      <th></th>\n",
       "      <th>userId</th>\n",
       "      <th>movieId</th>\n",
       "      <th>rating</th>\n",
       "      <th>timestamp</th>\n",
       "      <th>DT</th>\n",
       "      <th>Year</th>\n",
       "    </tr>\n",
       "  </thead>\n",
       "  <tbody>\n",
       "    <tr>\n",
       "      <td>0</td>\n",
       "      <td>1</td>\n",
       "      <td>1</td>\n",
       "      <td>4.0</td>\n",
       "      <td>964982703</td>\n",
       "      <td>2000-07-30 14:45:03</td>\n",
       "      <td>2000</td>\n",
       "    </tr>\n",
       "    <tr>\n",
       "      <td>1</td>\n",
       "      <td>1</td>\n",
       "      <td>3</td>\n",
       "      <td>4.0</td>\n",
       "      <td>964981247</td>\n",
       "      <td>2000-07-30 14:20:47</td>\n",
       "      <td>2000</td>\n",
       "    </tr>\n",
       "    <tr>\n",
       "      <td>2</td>\n",
       "      <td>1</td>\n",
       "      <td>6</td>\n",
       "      <td>4.0</td>\n",
       "      <td>964982224</td>\n",
       "      <td>2000-07-30 14:37:04</td>\n",
       "      <td>2000</td>\n",
       "    </tr>\n",
       "    <tr>\n",
       "      <td>3</td>\n",
       "      <td>1</td>\n",
       "      <td>47</td>\n",
       "      <td>5.0</td>\n",
       "      <td>964983815</td>\n",
       "      <td>2000-07-30 15:03:35</td>\n",
       "      <td>2000</td>\n",
       "    </tr>\n",
       "    <tr>\n",
       "      <td>4</td>\n",
       "      <td>1</td>\n",
       "      <td>50</td>\n",
       "      <td>5.0</td>\n",
       "      <td>964982931</td>\n",
       "      <td>2000-07-30 14:48:51</td>\n",
       "      <td>2000</td>\n",
       "    </tr>\n",
       "  </tbody>\n",
       "</table>\n",
       "</div>"
      ],
      "text/plain": [
       "   userId  movieId  rating  timestamp                  DT  Year\n",
       "0       1        1     4.0  964982703 2000-07-30 14:45:03  2000\n",
       "1       1        3     4.0  964981247 2000-07-30 14:20:47  2000\n",
       "2       1        6     4.0  964982224 2000-07-30 14:37:04  2000\n",
       "3       1       47     5.0  964983815 2000-07-30 15:03:35  2000\n",
       "4       1       50     5.0  964982931 2000-07-30 14:48:51  2000"
      ]
     },
     "execution_count": 8,
     "metadata": {},
     "output_type": "execute_result"
    }
   ],
   "source": [
    "# Add a \"Year\" column that represents the year of the rating (Convert datastamp to datetime)\n",
    "from datetime import datetime\n",
    "ratings_df['DT'] = ratings_df['timestamp'].apply(datetime.fromtimestamp)\n",
    "def datetime_to_year(x):\n",
    "    return x.year\n",
    "ratings_df['Year'] = ratings_df['DT'].apply(datetime_to_year)\n",
    "ratings_df.head()"
   ]
  },
  {
   "cell_type": "code",
   "execution_count": 9,
   "metadata": {},
   "outputs": [
    {
     "data": {
      "text/html": [
       "<div>\n",
       "<style scoped>\n",
       "    .dataframe tbody tr th:only-of-type {\n",
       "        vertical-align: middle;\n",
       "    }\n",
       "\n",
       "    .dataframe tbody tr th {\n",
       "        vertical-align: top;\n",
       "    }\n",
       "\n",
       "    .dataframe thead th {\n",
       "        text-align: right;\n",
       "    }\n",
       "</style>\n",
       "<table border=\"1\" class=\"dataframe\">\n",
       "  <thead>\n",
       "    <tr style=\"text-align: right;\">\n",
       "      <th></th>\n",
       "      <th>userId</th>\n",
       "      <th>movieId</th>\n",
       "      <th>rating</th>\n",
       "      <th>timestamp</th>\n",
       "      <th>Year</th>\n",
       "    </tr>\n",
       "  </thead>\n",
       "  <tbody>\n",
       "    <tr>\n",
       "      <td>count</td>\n",
       "      <td>100836.000000</td>\n",
       "      <td>100836.000000</td>\n",
       "      <td>100836.000000</td>\n",
       "      <td>1.008360e+05</td>\n",
       "      <td>100836.000000</td>\n",
       "    </tr>\n",
       "    <tr>\n",
       "      <td>mean</td>\n",
       "      <td>326.127564</td>\n",
       "      <td>19435.295718</td>\n",
       "      <td>3.501557</td>\n",
       "      <td>1.205946e+09</td>\n",
       "      <td>2007.722619</td>\n",
       "    </tr>\n",
       "    <tr>\n",
       "      <td>std</td>\n",
       "      <td>182.618491</td>\n",
       "      <td>35530.987199</td>\n",
       "      <td>1.042529</td>\n",
       "      <td>2.162610e+08</td>\n",
       "      <td>6.890284</td>\n",
       "    </tr>\n",
       "    <tr>\n",
       "      <td>min</td>\n",
       "      <td>1.000000</td>\n",
       "      <td>1.000000</td>\n",
       "      <td>0.500000</td>\n",
       "      <td>8.281246e+08</td>\n",
       "      <td>1996.000000</td>\n",
       "    </tr>\n",
       "    <tr>\n",
       "      <td>25%</td>\n",
       "      <td>177.000000</td>\n",
       "      <td>1199.000000</td>\n",
       "      <td>3.000000</td>\n",
       "      <td>1.019124e+09</td>\n",
       "      <td>2002.000000</td>\n",
       "    </tr>\n",
       "    <tr>\n",
       "      <td>50%</td>\n",
       "      <td>325.000000</td>\n",
       "      <td>2991.000000</td>\n",
       "      <td>3.500000</td>\n",
       "      <td>1.186087e+09</td>\n",
       "      <td>2007.000000</td>\n",
       "    </tr>\n",
       "    <tr>\n",
       "      <td>75%</td>\n",
       "      <td>477.000000</td>\n",
       "      <td>8122.000000</td>\n",
       "      <td>4.000000</td>\n",
       "      <td>1.435994e+09</td>\n",
       "      <td>2015.000000</td>\n",
       "    </tr>\n",
       "    <tr>\n",
       "      <td>max</td>\n",
       "      <td>610.000000</td>\n",
       "      <td>193609.000000</td>\n",
       "      <td>5.000000</td>\n",
       "      <td>1.537799e+09</td>\n",
       "      <td>2018.000000</td>\n",
       "    </tr>\n",
       "  </tbody>\n",
       "</table>\n",
       "</div>"
      ],
      "text/plain": [
       "              userId        movieId         rating     timestamp  \\\n",
       "count  100836.000000  100836.000000  100836.000000  1.008360e+05   \n",
       "mean      326.127564   19435.295718       3.501557  1.205946e+09   \n",
       "std       182.618491   35530.987199       1.042529  2.162610e+08   \n",
       "min         1.000000       1.000000       0.500000  8.281246e+08   \n",
       "25%       177.000000    1199.000000       3.000000  1.019124e+09   \n",
       "50%       325.000000    2991.000000       3.500000  1.186087e+09   \n",
       "75%       477.000000    8122.000000       4.000000  1.435994e+09   \n",
       "max       610.000000  193609.000000       5.000000  1.537799e+09   \n",
       "\n",
       "                Year  \n",
       "count  100836.000000  \n",
       "mean     2007.722619  \n",
       "std         6.890284  \n",
       "min      1996.000000  \n",
       "25%      2002.000000  \n",
       "50%      2007.000000  \n",
       "75%      2015.000000  \n",
       "max      2018.000000  "
      ]
     },
     "execution_count": 9,
     "metadata": {},
     "output_type": "execute_result"
    }
   ],
   "source": [
    "# Use .describe() to show the statistics of numerical features\n",
    "\n",
    "ratings_df.describe()"
   ]
  },
  {
   "cell_type": "code",
   "execution_count": 10,
   "metadata": {
    "scrolled": true
   },
   "outputs": [
    {
     "name": "stdout",
     "output_type": "stream",
     "text": [
      "5.0    13211\n",
      "4.5     8551\n",
      "4.0    26818\n",
      "3.5    13136\n",
      "3.0    20047\n",
      "2.5     5550\n",
      "2.0     7551\n",
      "1.5     1791\n",
      "1.0     2811\n",
      "0.5     1370\n",
      "Name: rating, dtype: int64\n",
      "2018     6413\n",
      "2017     8203\n",
      "2016     6703\n",
      "2015     6616\n",
      "2014     1439\n",
      "2013     1664\n",
      "2012     4656\n",
      "2011     1690\n",
      "2010     2301\n",
      "2009     4134\n",
      "2008     4375\n",
      "2007     7111\n",
      "2006     4062\n",
      "2005     5813\n",
      "2004     3279\n",
      "2003     4014\n",
      "2002     3478\n",
      "2001     3922\n",
      "2000    10061\n",
      "1999     2439\n",
      "1998      507\n",
      "1997     1916\n",
      "1996     6040\n",
      "Name: Year, dtype: int64\n"
     ]
    }
   ],
   "source": [
    "# Use .value_counts() to show the frequencies of ratings and years\n",
    "\n",
    "# ratings_df[\"rating\"].value_counts() # The frequencies will follow a decreasing order\n",
    "\n",
    "# Show frequencies by the decreasing order of ratings\n",
    "freqs = ratings_df[\"rating\"].value_counts()\n",
    "freqs = freqs.sort_index(ascending=False)\n",
    "print(freqs)\n",
    "\n",
    "freqs = ratings_df['Year'].value_counts()\n",
    "freqs = freqs.sort_index(ascending=False)\n",
    "print(freqs)"
   ]
  },
  {
   "cell_type": "code",
   "execution_count": 11,
   "metadata": {
    "scrolled": true
   },
   "outputs": [
    {
     "data": {
      "text/plain": [
       "userId       0\n",
       "movieId      0\n",
       "rating       0\n",
       "timestamp    0\n",
       "DT           0\n",
       "Year         0\n",
       "dtype: int64"
      ]
     },
     "execution_count": 11,
     "metadata": {},
     "output_type": "execute_result"
    }
   ],
   "source": [
    "# Use pd.isnull() to find the number of missing values for each column\n",
    "np.sum(ratings_df.isnull(), axis=0)"
   ]
  },
  {
   "cell_type": "code",
   "execution_count": 12,
   "metadata": {},
   "outputs": [
    {
     "data": {
      "text/html": [
       "<div>\n",
       "<style scoped>\n",
       "    .dataframe tbody tr th:only-of-type {\n",
       "        vertical-align: middle;\n",
       "    }\n",
       "\n",
       "    .dataframe tbody tr th {\n",
       "        vertical-align: top;\n",
       "    }\n",
       "\n",
       "    .dataframe thead th {\n",
       "        text-align: right;\n",
       "    }\n",
       "</style>\n",
       "<table border=\"1\" class=\"dataframe\">\n",
       "  <thead>\n",
       "    <tr style=\"text-align: right;\">\n",
       "      <th></th>\n",
       "      <th>userId</th>\n",
       "      <th>movieId</th>\n",
       "      <th>rating</th>\n",
       "      <th>timestamp</th>\n",
       "      <th>DT</th>\n",
       "      <th>Year</th>\n",
       "    </tr>\n",
       "  </thead>\n",
       "  <tbody>\n",
       "    <tr>\n",
       "      <td>0</td>\n",
       "      <td>1</td>\n",
       "      <td>1</td>\n",
       "      <td>4.0</td>\n",
       "      <td>964982703</td>\n",
       "      <td>2000-07-30 14:45:03</td>\n",
       "      <td>2000</td>\n",
       "    </tr>\n",
       "    <tr>\n",
       "      <td>1</td>\n",
       "      <td>1</td>\n",
       "      <td>3</td>\n",
       "      <td>4.0</td>\n",
       "      <td>964981247</td>\n",
       "      <td>2000-07-30 14:20:47</td>\n",
       "      <td>2000</td>\n",
       "    </tr>\n",
       "    <tr>\n",
       "      <td>2</td>\n",
       "      <td>1</td>\n",
       "      <td>6</td>\n",
       "      <td>4.0</td>\n",
       "      <td>964982224</td>\n",
       "      <td>2000-07-30 14:37:04</td>\n",
       "      <td>2000</td>\n",
       "    </tr>\n",
       "    <tr>\n",
       "      <td>3</td>\n",
       "      <td>1</td>\n",
       "      <td>47</td>\n",
       "      <td>5.0</td>\n",
       "      <td>964983815</td>\n",
       "      <td>2000-07-30 15:03:35</td>\n",
       "      <td>2000</td>\n",
       "    </tr>\n",
       "    <tr>\n",
       "      <td>4</td>\n",
       "      <td>1</td>\n",
       "      <td>50</td>\n",
       "      <td>5.0</td>\n",
       "      <td>964982931</td>\n",
       "      <td>2000-07-30 14:48:51</td>\n",
       "      <td>2000</td>\n",
       "    </tr>\n",
       "  </tbody>\n",
       "</table>\n",
       "</div>"
      ],
      "text/plain": [
       "   userId  movieId  rating  timestamp                  DT  Year\n",
       "0       1        1     4.0  964982703 2000-07-30 14:45:03  2000\n",
       "1       1        3     4.0  964981247 2000-07-30 14:20:47  2000\n",
       "2       1        6     4.0  964982224 2000-07-30 14:37:04  2000\n",
       "3       1       47     5.0  964983815 2000-07-30 15:03:35  2000\n",
       "4       1       50     5.0  964982931 2000-07-30 14:48:51  2000"
      ]
     },
     "execution_count": 12,
     "metadata": {},
     "output_type": "execute_result"
    }
   ],
   "source": [
    "ratings_df.head()"
   ]
  },
  {
   "cell_type": "markdown",
   "metadata": {},
   "source": [
    "## 2. Analyzing the rating data\n",
    "\n",
    "We will continue the data analysis from last week."
   ]
  },
  {
   "cell_type": "markdown",
   "metadata": {},
   "source": [
    "### A. The distribution of the ratings\n",
    "- Show the frequency of each rating (0.5 - 5.0)\n",
    "- Show the rating frequencies in 2018 (First create a sub DataFrame containing only 2018 ratings)\n",
    "- Show the rating frequencies in 2003\n",
    "- Compare ratings distributions in 2003 and 2018."
   ]
  },
  {
   "cell_type": "code",
   "execution_count": 13,
   "metadata": {},
   "outputs": [
    {
     "name": "stdout",
     "output_type": "stream",
     "text": [
      "Overall rating frequencies:\n",
      " 4.0    26818\n",
      "3.0    20047\n",
      "5.0    13211\n",
      "3.5    13136\n",
      "4.5     8551\n",
      "2.0     7551\n",
      "2.5     5550\n",
      "1.0     2811\n",
      "1.5     1791\n",
      "0.5     1370\n",
      "Name: rating, dtype: int64\n"
     ]
    },
    {
     "data": {
      "text/plain": [
       "[<matplotlib.lines.Line2D at 0x1bd201fde88>]"
      ]
     },
     "execution_count": 13,
     "metadata": {},
     "output_type": "execute_result"
    },
    {
     "data": {
      "image/png": "[encoded data removed]",
      "text/plain": [
       "<Figure size 432x288 with 1 Axes>"
      ]
     },
     "metadata": {
      "needs_background": "light"
     },
     "output_type": "display_data"
    }
   ],
   "source": [
    "# Use value_counts() to find the rating frequencies\n",
    "rating_frequencies = ratings_df['rating'].value_counts()\n",
    "print(\"Overall rating frequencies:\\n\", rating_frequencies)\n",
    "# print(\"Overall rating frequencies:\\n\", rating_frequencies.sort_index())\n",
    "plt.plot(rating_frequencies.index,\n",
    "         rating_frequencies.values,\n",
    "         'b.')\n",
    "# plt.bar(rating_frequencies.index,\n",
    "#         rating_frequencies.values,\n",
    "#         )"
   ]
  },
  {
   "cell_type": "code",
   "execution_count": 14,
   "metadata": {},
   "outputs": [
    {
     "data": {
      "text/plain": [
       "0         False\n",
       "1         False\n",
       "2         False\n",
       "3         False\n",
       "4         False\n",
       "          ...  \n",
       "100831    False\n",
       "100832    False\n",
       "100833    False\n",
       "100834    False\n",
       "100835    False\n",
       "Name: Year, Length: 100836, dtype: bool"
      ]
     },
     "execution_count": 14,
     "metadata": {},
     "output_type": "execute_result"
    }
   ],
   "source": [
    "(ratings_df['Year'] == 2018)"
   ]
  },
  {
   "cell_type": "code",
   "execution_count": 15,
   "metadata": {},
   "outputs": [
    {
     "name": "stdout",
     "output_type": "stream",
     "text": [
      "Shape of the sub data frame: (6413, 6)\n",
      "5.0     763\n",
      "4.5     770\n",
      "4.0    1345\n",
      "3.5     971\n",
      "3.0     857\n",
      "2.5     556\n",
      "2.0     521\n",
      "1.5     268\n",
      "1.0     180\n",
      "0.5     182\n",
      "Name: rating, dtype: int64\n"
     ]
    }
   ],
   "source": [
    "# Find the slice that correspond to 2018 ratings\n",
    "index_2018 = (ratings_df['Year'] == 2018)\n",
    "# print(index_2018)\n",
    "\n",
    "# Extract all 2018 ratings\n",
    "ratings_2018 = ratings_df[index_2018]\n",
    "ratings_2018.head()\n",
    "print(\"Shape of the sub data frame:\", ratings_2018.shape)\n",
    "rating_freq_2018 = ratings_2018['rating'].value_counts()\n",
    "print(rating_freq_2018.sort_index(ascending=False))"
   ]
  },
  {
   "cell_type": "code",
   "execution_count": 16,
   "metadata": {},
   "outputs": [
    {
     "data": {
      "text/plain": [
       "Text(0, 0.5, 'Relative Frequency')"
      ]
     },
     "execution_count": 16,
     "metadata": {},
     "output_type": "execute_result"
    },
    {
     "data": {
      "image/png": "[encoded data removed]",
      "text/plain": [
       "<Figure size 432x288 with 1 Axes>"
      ]
     },
     "metadata": {
      "needs_background": "light"
     },
     "output_type": "display_data"
    }
   ],
   "source": [
    "# What are the rating frequencies in 2003?\n",
    "rating_freq_2003 = ratings_df[ratings_df['Year'] == 2003]['rating'].value_counts()\n",
    "\n",
    "# Plot frequency comparison\n",
    "plt.plot(rating_freq_2003 / np.sum(rating_freq_2003), 'b.', label=\"2003\")\n",
    "plt.plot(rating_freq_2018 / np.sum(rating_freq_2018), 'g^', label=\"2018\")\n",
    "plt.legend()\n",
    "plt.xlabel(\"Rating\")\n",
    "plt.ylabel(\"Relative Frequency\")"
   ]
  },
  {
   "cell_type": "markdown",
   "metadata": {},
   "source": [
    "**Conclusion:** The ratings distribution in 2003 is quite similar to the distribution in 2018. Most ratings are between 3.0 and 4.0."
   ]
  },
  {
   "cell_type": "markdown",
   "metadata": {},
   "source": [
    "### B. How consistant are the average ratings over time?\n",
    "- Find a list of years during which ratings are given.\n",
    "- For each year, extract the ratings given in that year, and then calculate the average rating\n",
    "- Plot the average rating against the year number."
   ]
  },
  {
   "cell_type": "code",
   "execution_count": 17,
   "metadata": {},
   "outputs": [
    {
     "name": "stdout",
     "output_type": "stream",
     "text": [
      "[1996 1997 1998 1999 2000 2001 2002 2003 2004 2005 2006 2007 2008 2009\n",
      " 2010 2011 2012 2013 2014 2015 2016 2017 2018]\n"
     ]
    }
   ],
   "source": [
    "# Get the list of all years in the dataset\n",
    "# set(ratings_df['Year'])\n",
    "years = np.sort(ratings_df['Year'].unique())\n",
    "print(years)"
   ]
  },
  {
   "cell_type": "code",
   "execution_count": 18,
   "metadata": {},
   "outputs": [
    {
     "name": "stdout",
     "output_type": "stream",
     "text": [
      "[3.5359271523178806, 3.7275574112734864, 3.4358974358974357, 3.772447724477245, 3.39250571513766, 3.5122386537480876, 3.606958021851639, 3.4993771798704536, 3.506099420555047, 3.4315327713745054, 3.488060068931561, 3.3088876388693573, 3.6589714285714288, 3.3886066763425253, 3.4634941329856583, 3.7840236686390534, 3.6413230240549828, 3.8774038461538463, 3.5107713690062545, 3.513830108827086, 3.686334477099806, 3.3487748384737293, 3.3891314517386557]\n"
     ]
    }
   ],
   "source": [
    "# Calculate the average rating for each year\n",
    "all_avg_ratings = []\n",
    "for year in years:\n",
    "    index_year = (ratings_df['Year'] == year)\n",
    "    ratings_year = ratings_df[index_year]\n",
    "    avg_rating = np.mean(ratings_year['rating'])\n",
    "    all_avg_ratings.append(avg_rating)\n",
    "print(all_avg_ratings)"
   ]
  },
  {
   "cell_type": "code",
   "execution_count": 19,
   "metadata": {},
   "outputs": [
    {
     "data": {
      "text/plain": [
       "(0, 5)"
      ]
     },
     "execution_count": 19,
     "metadata": {},
     "output_type": "execute_result"
    },
    {
     "data": {
      "image/png": "[encoded data removed]",
      "text/plain": [
       "<Figure size 432x288 with 1 Axes>"
      ]
     },
     "metadata": {
      "needs_background": "light"
     },
     "output_type": "display_data"
    }
   ],
   "source": [
    "# Plot\n",
    "plt.plot(years, all_avg_ratings, 'bs--')\n",
    "plt.ylim([0, 5]) # set the upper and lower limits to the y-axis"
   ]
  },
  {
   "cell_type": "markdown",
   "metadata": {},
   "source": [
    "**Conclusion:** No significant rating inflations"
   ]
  },
  {
   "cell_type": "markdown",
   "metadata": {},
   "source": [
    "### C. How fast does the movie library grow?\n",
    "- For each year, extract all ratings given **in that year or before**.\n",
    "- Find the number of unique movies in the subset.\n",
    "- Plot the number of movies against the year number"
   ]
  },
  {
   "cell_type": "code",
   "execution_count": 20,
   "metadata": {},
   "outputs": [
    {
     "name": "stdout",
     "output_type": "stream",
     "text": [
      "[607, 859, 970, 1497, 2578, 3005, 3370, 3894, 4395, 4867, 5187, 5712, 5972, 6269, 6469, 6654, 6973, 7122, 7337, 7789, 8283, 8832, 9724]\n"
     ]
    }
   ],
   "source": [
    "all_num_unique_movies = []\n",
    "for year in years:\n",
    "    index_ratings_year = (ratings_df['Year'] <= year)\n",
    "    ratings_year = ratings_df[index_ratings_year] \n",
    "    num_unique_movies_year = len(np.unique(ratings_year['movieId'])) # OR\n",
    "#     num_unique_movies_year = len(set(ratings_year['movieId']))\n",
    "    all_num_unique_movies.append(num_unique_movies_year)\n",
    "print(all_num_unique_movies)"
   ]
  },
  {
   "cell_type": "code",
   "execution_count": 21,
   "metadata": {},
   "outputs": [
    {
     "data": {
      "text/plain": [
       "[<matplotlib.lines.Line2D at 0x1bd1f12d488>]"
      ]
     },
     "execution_count": 21,
     "metadata": {},
     "output_type": "execute_result"
    },
    {
     "data": {
      "image/png": "[encoded data removed]",
      "text/plain": [
       "<Figure size 432x288 with 1 Axes>"
      ]
     },
     "metadata": {
      "needs_background": "light"
     },
     "output_type": "display_data"
    }
   ],
   "source": [
    "# plot number of movies vs. year number\n",
    "plt.plot(years, all_num_unique_movies, 'g^-')"
   ]
  },
  {
   "cell_type": "markdown",
   "metadata": {},
   "source": [
    "**Discussion:** How does the number of movies vary?"
   ]
  },
  {
   "cell_type": "markdown",
   "metadata": {},
   "source": [
    "### D. How fast does the user base grow?\n",
    "- For each year, extract all ratings given in that year or before.\n",
    "- Find the number of unique users in the subset.\n",
    "- Plot the number of users against the year number."
   ]
  },
  {
   "cell_type": "code",
   "execution_count": 22,
   "metadata": {},
   "outputs": [
    {
     "name": "stdout",
     "output_type": "stream",
     "text": [
      "[97, 124, 133, 159, 207, 227, 241, 261, 272, 296, 319, 341, 363, 384, 399, 421, 446, 459, 467, 514, 546, 581, 610]\n"
     ]
    },
    {
     "data": {
      "text/plain": [
       "[<matplotlib.lines.Line2D at 0x1bd1efec548>]"
      ]
     },
     "execution_count": 22,
     "metadata": {},
     "output_type": "execute_result"
    },
    {
     "data": {
      "image/png": "[encoded data removed]",
      "text/plain": [
       "<Figure size 432x288 with 1 Axes>"
      ]
     },
     "metadata": {
      "needs_background": "light"
     },
     "output_type": "display_data"
    }
   ],
   "source": [
    "all_num_unique_users = []\n",
    "for year in years:\n",
    "    index_ratings_year = (ratings_df['Year'] <= year)\n",
    "    ratings_year = ratings_df[index_ratings_year] \n",
    "    num_unique_users_year = len(np.unique(ratings_year['userId'])) # OR\n",
    "#     num_unique_movies_year = len(set(ratings_year['movieId']))\n",
    "    all_num_unique_users.append(num_unique_users_year)\n",
    "print(all_num_unique_users)\n",
    "\n",
    "plt.plot(years, all_num_unique_users, 'rD-')"
   ]
  },
  {
   "cell_type": "markdown",
   "metadata": {},
   "source": [
    "**Discussion:** How does the user base grow?"
   ]
  },
  {
   "cell_type": "markdown",
   "metadata": {},
   "source": [
    "### E. Time of ratings"
   ]
  },
  {
   "cell_type": "code",
   "execution_count": 23,
   "metadata": {},
   "outputs": [
    {
     "data": {
      "text/plain": [
       "Timestamp('1996-03-29 14:36:55')"
      ]
     },
     "execution_count": 23,
     "metadata": {},
     "output_type": "execute_result"
    }
   ],
   "source": [
    "# When was the first rating given?\n",
    "ratings_df['DT'].min()"
   ]
  },
  {
   "cell_type": "code",
   "execution_count": 24,
   "metadata": {},
   "outputs": [
    {
     "data": {
      "text/plain": [
       "Timestamp('2018-09-24 10:27:30')"
      ]
     },
     "execution_count": 24,
     "metadata": {},
     "output_type": "execute_result"
    }
   ],
   "source": [
    "# When was the last rating given?\n",
    "ratings_df['DT'].max()"
   ]
  },
  {
   "cell_type": "code",
   "execution_count": 25,
   "metadata": {},
   "outputs": [
    {
     "data": {
      "text/plain": [
       "(0, 24)"
      ]
     },
     "execution_count": 25,
     "metadata": {},
     "output_type": "execute_result"
    },
    {
     "data": {
      "image/png": "[encoded data removed]",
      "text/plain": [
       "<Figure size 432x288 with 1 Axes>"
      ]
     },
     "metadata": {
      "needs_background": "light"
     },
     "output_type": "display_data"
    }
   ],
   "source": [
    "# During what time of day do most users give ratings?\n",
    "# ratings_df['Hour'] = ratings_df['DT'].dt.hour\n",
    "def extract_hour(x):\n",
    "    return x.hour\n",
    "ratings_df['Hour'] = ratings_df['DT'].apply(extract_hour)\n",
    "hour_freq = ratings_df['Hour'].value_counts().sort_index()\n",
    "plt.bar(hour_freq.index, hour_freq.values)\n",
    "plt.xlim(0, 24)"
   ]
  },
  {
   "cell_type": "markdown",
   "metadata": {},
   "source": [
    "**Conclusion:** Most ratings are given between 14:00 and 18:00. There are a significant number of ratings given late at night, possibly because the users live in a different time zone."
   ]
  },
  {
   "cell_type": "markdown",
   "metadata": {},
   "source": [
    "### F. Popular Movies"
   ]
  },
  {
   "cell_type": "code",
   "execution_count": 26,
   "metadata": {},
   "outputs": [
    {
     "name": "stdout",
     "output_type": "stream",
     "text": [
      "[215, 110, 52, 7, 49, 102, 54, 8, 16, 132, 70, 19, 8, 18, 13, 82, 67, 20, 88, 15, 89, 36, 16, 28, 76, 13, 9, 11, 38, 1, 38, 177, 1, 128, 3, 67, 1, 4, 104, 2, 15, 1, 8, 46, 32, 15, 203, 68, 4, 204, 1, 28, 2, 3, 1, 1, 8, 37, 1, 34, 6, 80, 1, 5, 31, 9, 1, 5, 20, 55, 5, 7, 13, 8, 5, 15, 1, 3, 17, 2, 14, 8, 1, 7, 15, 7, 16, 10, 1, 8, 9, 10, 84, 1, 10, 1, 2, 14, 23, 5, 3, 99, 23, 1, 26, 1, 4, 237, 104, 46, 3, 1, 1, 5, 1, 2, 2, 2, 16, 4, 2, 12, 7, 1, 1, 5, 6, 31, 1, 1, 16, 86, 1, 12, 51, 3, 15, 7, 1, 201, 44, 1, 137, 12, 6, 3, 11, 62, 14, 57, 103, 17, 66, 14, 144, 1, 3, 54, 10, 35, 6, 53, 62, 10, 20, 13, 8, 1, 2, 36, 17, 2, 2, 112, 48, 4, 8, 1, 5, 6, 12, 35, 18, 10, 45, 2, 28, 4, 1, 1, 1, 22, 30, 9, 1, 21, 115, 3, 4, 2, 3, 6, 2, 24, 49, 6, 14, 1, 7, 1, 16, 104, 40, 52, 22, 3, 7, 24, 133, 14, 12, 17, 70, 45, 22, 44, 17, 4, 2, 5, 1, 1, 1, 29, 21, 17, 18, 6, 3, 43, 109, 1, 7, 35, 14, 10, 5, 251, 42, 21, 1, 33, 68, 17, 7, 2, 5, 4, 31, 28, 7, 6, 22, 38, 1, 2, 13, 14, 40, 5, 3, 2, 1, 1, 92, 8, 14, 3, 101, 133, 2, 1, 307, 1, 4, 81, 1, 5, 32, 3, 9, 16, 24, 20, 1, 1, 1, 9, 3, 16, 38, 140, 81, 317, 20, 7, 2, 10, 2, 1, 7, 3, 34, 10, 108, 6, 2, 12, 50, 5, 2, 1, 77, 19, 98, 5, 26, 33, 5, 161, 36, 6, 6, 30, 110, 57, 17, 2, 64, 6, 42, 329, 103, 9, 1, 8, 17, 34, 1, 172, 4, 12, 157, 74, 2, 58, 21, 21, 1, 25, 11, 40, 171, 7, 6, 178, 11, 16, 21, 21, 1, 6, 4, 1, 2, 5, 1, 5, 10, 17, 2, 6, 2, 50, 1, 2, 12, 1, 8, 2, 1, 84, 1, 15, 26, 6, 16, 8, 13, 2, 20, 59, 12, 5, 10, 3, 2, 7, 12, 18, 6, 2, 42, 55, 8, 101, 63, 7, 9, 1, 7, 76, 42, 81, 1, 6, 12, 3, 9, 8, 1, 7, 1, 3, 5, 101, 37, 4, 190, 5, 6, 3, 4, 10, 60, 1, 22, 5, 1, 40, 6, 7, 70, 25, 1, 17, 1, 4, 238, 19, 8, 2, 53, 3, 4, 1, 11, 12, 17, 14, 12, 41, 1, 1, 43, 1, 2, 144, 6, 15, 2, 7, 40, 13, 66, 61, 1, 2, 4, 4, 18, 24, 18, 9, 4, 21, 69, 3, 7, 4, 34, 1, 220, 3, 40, 1, 24, 16, 18, 14, 15, 3, 12, 12, 106, 18, 124, 14, 41, 8, 1, 21, 2, 6, 1, 5, 93, 61, 65, 2, 65, 6, 1, 8, 35, 23, 1, 2, 3, 2, 6, 1, 4, 16, 4, 1, 5, 4, 1, 2, 36, 116, 115, 183, 224, 164, 189, 279, 77, 146, 60, 135, 11, 1, 1, 1, 10, 4, 181, 14, 33, 6, 6, 8, 1, 45, 3, 1, 5, 1, 6, 35, 11, 1, 1, 4, 2, 2, 33, 1, 4, 11, 1, 3, 2, 29, 162, 1, 4, 1, 65, 3, 5, 14, 49, 7, 12, 2, 3, 8, 11, 9, 2, 36, 2, 53, 9, 1, 1, 1, 9, 1, 4, 2, 9, 3, 4, 11, 2, 5, 1, 7, 1, 1, 14, 7, 2, 1, 21, 58, 11, 8, 10, 1, 15, 3, 4, 35, 27, 1, 31, 78, 1, 7, 10, 5, 1, 4, 3, 121, 1, 7, 123, 20, 27, 11, 29, 48, 3, 22, 97, 1, 2, 1, 2, 2, 19, 41, 6, 2, 19, 4, 2, 1, 1, 1, 102, 2, 202, 7, 8, 47, 54, 42, 64, 1, 82, 1, 1, 1, 1, 2, 2, 12, 23, 19, 11, 46, 1, 8, 35, 3, 1, 2, 12, 71, 12, 9, 8, 5, 1, 10, 1, 1, 1, 1, 6, 9, 21, 37, 6, 3, 17, 33, 30, 15, 5, 3, 12, 4, 2, 7, 40, 7, 44, 1, 6, 43, 192, 9, 1, 1, 23, 2, 1, 3, 2, 3, 1, 1, 1, 9, 4, 27, 5, 1, 1, 2, 6, 1, 3, 1, 5, 13, 17, 3, 1, 2, 2, 29, 47, 12, 7, 36, 60, 84, 7, 7, 14, 57, 27, 50, 59, 100, 44, 35, 13, 30, 26, 10, 92, 45, 9, 27, 69, 109, 2, 24, 3, 18, 1, 20, 9, 8, 23, 12, 3, 6, 2, 6, 8, 2, 6, 7, 3, 7, 3, 4, 6, 6, 7, 14, 12, 58, 18, 18, 1, 3, 1, 1, 1, 11, 28, 34, 1, 10, 5, 7, 2, 5, 1, 1, 2, 1, 2, 13, 1, 2, 5, 11, 1, 11, 13, 3, 12, 3, 6, 8, 5, 10, 1, 9, 9, 8, 9, 12, 2, 20, 5, 5, 6, 2, 37, 27, 42, 13, 6, 25, 116, 28, 71, 35, 15, 24, 40, 20, 5, 64, 145, 24, 2, 2, 1, 11, 42, 5, 1, 4, 33, 2, 21, 5, 3, 1, 1, 2, 7, 15, 1, 36, 36, 29, 3, 13, 4, 4, 13, 9, 1, 1, 119, 28, 11, 71, 89, 12, 6, 6, 35, 4, 25, 1, 42, 131, 63, 21, 47, 37, 42, 15, 10, 122, 4, 19, 83, 15, 20, 3, 2, 4, 4, 1, 2, 1, 1, 1, 1, 27, 1, 2, 13, 24, 6, 62, 3, 39, 4, 11, 8, 2, 5, 13, 136, 1, 5, 1, 1, 10, 56, 3, 2, 1, 3, 1, 1, 2, 2, 17, 34, 11, 21, 3, 6, 12, 27, 1, 45, 7, 10, 23, 5, 22, 11, 6, 6, 5, 133, 11, 211, 142, 200, 59, 126, 72, 7, 57, 45, 1, 120, 58, 107, 18, 196, 13, 24, 126, 146, 51, 11, 15, 11, 83, 84, 129, 102, 28, 19, 76, 6, 16, 40, 2, 58, 22, 8, 40, 64, 26, 3, 18, 9, 1, 131, 10, 41, 16, 33, 20, 86, 79, 17, 35, 45, 14, 59, 25, 16, 6, 23, 27, 109, 91, 15, 34, 2, 43, 43, 143, 45, 30, 9, 29, 171, 30, 33, 11, 39, 48, 57, 12, 69, 8, 50, 15, 53, 19, 14, 41, 9, 34, 66, 11, 7, 140, 20, 27, 10, 11, 17, 20, 23, 28, 9, 13, 56, 17, 62, 18, 4, 85, 5, 1, 2, 1, 47, 23, 3, 3, 3, 2, 4, 15, 2, 2, 4, 1, 1, 44, 6, 3, 1, 1, 1, 29, 3, 2, 11, 25, 14, 36, 8, 27, 16, 1, 22, 2, 2, 4, 7, 3, 91, 24, 47, 18, 3, 6, 1, 5, 6, 5, 47, 68, 45, 42, 30, 62, 42, 43, 60, 25, 11, 68, 19, 36, 4, 3, 24, 3, 91, 17, 6, 9, 86, 4, 85, 58, 58, 46, 5, 24, 5, 1, 3, 1, 2, 31, 2, 70, 39, 23, 2, 16, 1, 2, 8, 2, 12, 2, 1, 2, 1, 4, 1, 3, 8, 1, 1, 2, 20, 3, 16, 7, 1, 1, 2, 24, 3, 2, 19, 5, 7, 7, 4, 1, 24, 3, 6, 1, 12, 1, 12, 2, 8, 2, 17, 3, 52, 5, 1, 11, 1, 26, 1, 30, 11, 11, 3, 74, 5, 15, 2, 2, 1, 2, 1, 3, 5, 27, 59, 1, 2, 4, 4, 1, 1, 1, 8, 1, 29, 1, 15, 1, 100, 13, 1, 1, 1, 3, 116, 3, 2, 13, 10, 7, 1, 67, 2, 1, 2, 1, 1, 4, 31, 59, 3, 17, 5, 19, 3, 7, 2, 42, 1, 2, 6, 31, 5, 4, 40, 10, 2, 2, 77, 1, 165, 3, 5, 2, 82, 1, 22, 31, 20, 2, 25, 26, 4, 6, 16, 6, 3, 43, 4, 3, 2, 3, 4, 13, 3, 4, 3, 2, 58, 3, 90, 5, 1, 3, 26, 11, 20, 97, 2, 14, 13, 2, 1, 2, 2, 77, 3, 7, 1, 3, 1, 1, 5, 17, 50, 52, 56, 2, 5, 32, 51, 7, 1, 4, 3, 2, 3, 2, 86, 1, 1, 1, 1, 8, 1, 1, 1, 9, 34, 2, 16, 1, 5, 21, 3, 1, 12, 39, 40, 1, 80, 1, 10, 1, 25, 7, 125, 6, 4, 1, 3, 18, 20, 7, 45, 1, 1, 19, 7, 2, 2, 2, 8, 16, 5, 141, 8, 5, 24, 1, 7, 2, 31, 2, 16, 25, 140, 45, 4, 13, 4, 2, 48, 4, 4, 106, 4, 9, 11, 4, 1, 1, 1, 31, 48, 12, 16, 15, 5, 4, 3, 1, 4, 10, 3, 5, 3, 4, 1, 7, 2, 3, 14, 2, 1, 12, 1, 5, 1, 56, 23, 3, 5, 96, 5, 3, 23, 2, 1, 1, 6, 2, 13, 3, 25, 1, 3, 31, 8, 1, 1, 6, 11, 3, 3, 1, 6, 1, 1, 1, 3, 2, 2, 1, 29, 1, 13, 11, 17, 3, 4, 1, 7, 1, 4, 15, 12, 7, 3, 1, 8, 3, 4, 5, 9, 7, 1, 7, 1, 1, 8, 10, 6, 43, 2, 33, 24, 46, 12, 2, 3, 8, 1, 1, 16, 1, 16, 15, 2, 1, 1, 3, 2, 45, 42, 2, 32, 32, 3, 9, 12, 92, 33, 5, 18, 47, 2, 105, 8, 1, 1, 10, 1, 2, 6, 1, 1, 3, 3, 2, 3, 8, 1, 2, 4, 1, 11, 24, 3, 34, 7, 6, 11, 7, 22, 39, 64, 14, 12, 13, 22, 15, 26, 96, 23, 11, 6, 21, 8, 42, 113, 10, 12, 7, 7, 5, 16, 7, 7, 1, 1, 4, 6, 3, 27, 5, 3, 2, 2, 2, 1, 1, 1, 12, 4, 5, 47, 6, 4, 53, 2, 4, 75, 47, 46, 41, 15, 57, 60, 1, 2, 19, 21, 87, 88, 21, 8, 9, 4, 5, 38, 48, 25, 37, 8, 45, 3, 7, 3, 9, 188, 1, 1, 8, 9, 3, 6, 1, 3, 1, 7, 3, 6, 4, 2, 1, 24, 1, 8, 4, 3, 23, 20, 68, 1, 1, 4, 30, 15, 14, 31, 13, 4, 21, 2, 2, 5, 2, 17, 5, 3, 1, 46, 5, 53, 6, 55, 67, 26, 19, 1, 44, 4, 41, 18, 10, 13, 4, 6, 6, 39, 3, 22, 10, 2, 6, 51, 1, 3, 3, 1, 50, 5, 2, 24, 27, 18, 10, 8, 3, 16, 108, 15, 14, 15, 1, 4, 7, 11, 15, 38, 21, 15, 3, 1, 2, 8, 4, 7, 20, 22, 11, 14, 21, 10, 21, 34, 18, 10, 13, 49, 33, 16, 1, 9, 3, 28, 6, 3, 11, 4, 8, 2, 1, 7, 32, 43, 4, 8, 1, 2, 4, 58, 5, 7, 5, 8, 1, 91, 1, 10, 3, 2, 1, 1, 4, 4, 9, 6, 2, 25, 1, 5, 2, 1, 2, 1, 40, 65, 7, 6, 1, 15, 2, 7, 7, 4, 4, 5, 4, 6, 1, 2, 1, 3, 1, 1, 1, 3, 36, 27, 9, 6, 7, 4, 28, 2, 22, 12, 39, 11, 2, 1, 5, 20, 4, 2, 1, 1, 2, 8, 2, 6, 9, 5, 1, 4, 5, 2, 57, 8, 4, 2, 2, 42, 5, 1, 43, 10, 2, 1, 6, 2, 1, 5, 45, 38, 5, 80, 1, 1, 45, 2, 10, 14, 1, 33, 16, 59, 5, 1, 1, 6, 2, 1, 3, 17, 12, 17, 2, 6, 7, 16, 9, 61, 8, 2, 88, 13, 3, 7, 129, 2, 3, 2, 4, 13, 28, 23, 4, 18, 1, 20, 2, 1, 8, 11, 9, 8, 7, 2, 7, 25, 67, 7, 92, 5, 6, 1, 26, 12, 1, 10, 3, 2, 1, 25, 14, 2, 24, 1, 24, 9, 9, 9, 21, 21, 5, 22, 12, 10, 7, 5, 4, 29, 3, 16, 10, 9, 7, 22, 8, 33, 25, 56, 92, 1, 17, 4, 2, 8, 19, 30, 12, 21, 54, 43, 9, 26, 24, 29, 17, 18, 11, 3, 16, 1, 6, 2, 38, 29, 14, 30, 50, 2, 1, 35, 23, 5, 6, 27, 6, 11, 1, 1, 6, 3, 3, 8, 8, 2, 15, 3, 16, 2, 1, 3, 13, 43, 9, 8, 8, 13, 3, 5, 1, 14, 3, 18, 15, 7, 57, 24, 3, 8, 13, 3, 12, 3, 26, 1, 1, 2, 1, 29, 3, 45, 5, 7, 1, 2, 3, 23, 6, 5, 7, 30, 94, 1, 6, 18, 2, 6, 3, 1, 10, 3, 2, 1, 10, 10, 3, 2, 4, 2, 9, 3, 3, 18, 24, 56, 18, 9, 12, 15, 3, 3, 5, 3, 47, 1, 40, 67, 3, 1, 1, 2, 2, 6, 6, 7, 8, 2, 6, 3, 3, 1, 9, 1, 8, 4, 3, 12, 2, 19, 8, 5, 278, 54, 1, 6, 4, 1, 1, 2, 6, 39, 36, 3, 12, 1, 2, 2, 4, 1, 1, 4, 10, 12, 2, 25, 56, 10, 22, 1, 43, 15, 2, 1, 1, 1, 8, 2, 4, 26, 87, 5, 6, 1, 88, 11, 3, 10, 2, 2, 1, 140, 2, 2, 1, 3, 3, 4, 61, 49, 22, 16, 9, 2, 1, 1, 11, 1, 3, 1, 5, 1, 1, 63, 2, 1, 4, 1, 12, 13, 1, 8, 8, 5, 56, 12, 2, 2, 6, 4, 3, 3, 121, 19, 24, 15, 27, 10, 3, 75, 4, 48, 6, 3, 1, 1, 53, 76, 53, 32, 15, 7, 1, 103, 22, 1, 9, 64, 3, 53, 12, 1, 120, 47, 10, 13, 21, 5, 29, 39, 42, 1, 9, 1, 13, 7, 7, 12, 5, 2, 10, 16, 5, 2, 2, 12, 1, 2, 1, 1, 1, 9, 39, 9, 6, 2, 7, 1, 8, 2, 1, 1, 1, 8, 1, 39, 179, 48, 7, 1, 2, 1, 1, 5, 38, 4, 10, 3, 1, 1, 1, 1, 13, 3, 26, 2, 2, 4, 6, 28, 4, 2, 87, 19, 10, 15, 6, 26, 91, 11, 1, 12, 8, 13, 10, 55, 23, 9, 13, 17, 1, 6, 5, 1, 4, 1, 7, 3, 3, 3, 16, 1, 1, 59, 11, 1, 26, 11, 2, 7, 1, 1, 4, 1, 9, 1, 23, 18, 9, 3, 7, 2, 1, 4, 1, 1, 14, 204, 7, 9, 8, 1, 19, 1, 1, 5, 12, 2, 1, 8, 30, 25, 3, 10, 1, 7, 2, 7, 6, 19, 4, 5, 1, 1, 2, 1, 5, 8, 45, 3, 1, 1, 1, 1, 1, 1, 1, 3, 2, 14, 4, 2, 4, 7, 7, 39, 1, 14, 42, 88, 10, 109, 8, 11, 5, 10, 5, 11, 2, 2, 2, 1, 3, 1, 3, 8, 7, 1, 5, 6, 9, 16, 3, 32, 1, 7, 53, 36, 33, 14, 39, 12, 31, 3, 1, 6, 1, 218, 5, 2, 1, 1, 14, 4, 41, 1, 1, 4, 6, 18, 1, 1, 6, 2, 4, 3, 1, 1, 1, 1, 1, 70, 25, 97, 3, 21, 20, 23, 1, 24, 1, 14, 4, 99, 48, 1, 1, 2, 11, 25, 31, 6, 1, 1, 4, 1, 1, 3, 14, 4, 17, 10, 17, 10, 9, 1, 7, 1, 1, 2, 6, 13, 4, 6, 59, 36, 11, 7, 1, 24, 39, 9, 6, 1, 2, 13, 5, 5, 2, 3, 1, 3, 79, 11, 8, 3, 1, 1, 48, 8, 15, 8, 11, 6, 3, 1, 7, 10, 74, 7, 21, 9, 27, 1, 4, 3, 4, 2, 2, 6, 1, 62, 39, 19, 1, 24, 12, 16, 6, 4, 1, 4, 2, 9, 1, 3, 24, 7, 22, 36, 7, 2, 22, 22, 7, 23, 36, 1, 2, 2, 1, 15, 97, 5, 4, 4, 4, 1, 2, 1, 1, 8, 1, 3, 3, 5, 1, 7, 3, 2, 1, 2, 4, 4, 1, 3, 17, 111, 26, 2, 8, 5, 9, 15, 19, 3, 15, 52, 2, 1, 4, 2, 4, 29, 5, 1, 18, 39, 75, 49, 6, 16, 4, 3, 6, 5, 1, 1, 3, 28, 1, 11, 4, 9, 1, 4, 4, 9, 14, 7, 8, 8, 12, 8, 3, 8, 42, 2, 13, 2, 3, 13, 5, 5, 2, 4, 4, 1, 1, 1, 4, 3, 6, 2, 2, 15, 12, 15, 36, 14, 9, 9, 5, 27, 61, 27, 45, 18, 32, 15, 10, 31, 12, 11, 22, 26, 9, 6, 18, 11, 11, 11, 27, 12, 17, 29, 8, 43, 12, 1, 4, 1, 1, 2, 1, 32, 5, 3, 1, 1, 1, 16, 7, 21, 3, 39, 42, 2, 1, 1, 4, 13, 7, 4, 5, 3, 2, 1, 13, 22, 10, 1, 3, 3, 3, 5, 19, 1, 2, 1, 10, 1, 7, 5, 1, 1, 9, 3, 1, 1, 21, 15, 1, 10, 11, 22, 35, 38, 43, 3, 7, 2, 2, 2, 1, 1, 1, 4, 8, 31, 7, 11, 1, 1, 2, 6, 3, 7, 3, 33, 11, 15, 2, 1, 5, 2, 1, 6, 1, 3, 70, 35, 1, 2, 6, 1, 3, 6, 1, 105, 41, 3, 62, 6, 2, 27, 5, 7, 3, 1, 12, 4, 3, 2, 1, 1, 17, 4, 2, 25, 13, 14, 14, 2, 1, 9, 4, 2, 2, 43, 1, 29, 11, 18, 2, 2, 1, 1, 1, 1, 1, 13, 25, 2, 8, 4, 18, 6, 5, 60, 2, 1, 2, 26, 13, 7, 18, 3, 75, 13, 10, 53, 1, 6, 1, 4, 8, 44, 4, 5, 3, 11, 22, 9, 5, 15, 18, 2, 36, 6, 8, 7, 1, 9, 4, 6, 7, 1, 10, 5, 15, 61, 5, 5, 2, 1, 6, 25, 59, 21, 3, 5, 2, 1, 14, 3, 5, 2, 5, 8, 6, 13, 52, 5, 3, 33, 26, 5, 3, 20, 3, 12, 7, 8, 1, 1, 2, 2, 4, 2, 1, 4, 2, 170, 2, 2, 1, 1, 4, 76, 2, 1, 1, 15, 1, 19, 6, 2, 1, 2, 5, 5, 3, 1, 1, 1, 4, 25, 1, 8, 14, 10, 41, 12, 1, 1, 77, 43, 1, 3, 4, 2, 7, 1, 5, 17, 20, 18, 1, 1, 26, 18, 1, 2, 2, 17, 1, 8, 1, 3, 13, 2, 4, 1, 2, 1, 2, 1, 1, 1, 15, 1, 1, 62, 5, 2, 1, 8, 1, 4, 10, 2, 1, 33, 5, 19, 7, 9, 15, 1, 11, 4, 5, 1, 1, 8, 2, 2, 3, 21, 34, 13, 1, 13, 38, 40, 24, 8, 8, 10, 10, 1, 3, 1, 3, 1, 1, 1, 1, 61, 1, 2, 2, 1, 1, 5, 5, 2, 5, 8, 4, 3, 17, 5, 4, 3, 1, 17, 1, 1, 2, 4, 28, 11, 7, 3, 19, 29, 2, 10, 2, 13, 3, 78, 16, 68, 46, 9, 44, 8, 2, 7, 1, 35, 1, 16, 5, 2, 6, 9, 1, 3, 6, 2, 6, 2, 4, 1, 3, 1, 3, 1, 43, 11, 11, 50, 4, 1, 6, 1, 1, 16, 2, 133, 1, 1, 2, 3, 25, 6, 1, 4, 4, 1, 1, 1, 35, 3, 7, 12, 3, 9, 3, 1, 14, 3, 16, 32, 4, 11, 29, 39, 23, 2, 2, 11, 1, 2, 2, 6, 15, 3, 1, 3, 5, 6, 4, 9, 1, 4, 1, 2, 1, 13, 2, 1, 1, 5, 2, 19, 2, 45, 5, 4, 1, 1, 42, 26, 16, 5, 1, 7, 1, 9, 2, 34, 3, 1, 6, 3, 1, 19, 1, 1, 8, 83, 2, 1, 7, 2, 1, 7, 2, 3, 4, 20, 53, 2, 1, 1, 6, 41, 15, 9, 1, 2, 1, 1, 6, 1, 6, 4, 2, 4, 1, 1, 2, 1, 4, 2, 1, 12, 1, 1, 8, 1, 34, 5, 3, 91, 96, 8, 1, 7, 1, 4, 6, 3, 1, 8, 1, 1, 2, 3, 1, 2, 37, 27, 26, 2, 16, 4, 1, 1, 72, 15, 24, 14, 13, 2, 9, 21, 6, 20, 6, 33, 3, 4, 20, 9, 2, 73, 5, 110, 12, 12, 14, 6, 3, 27, 3, 12, 7, 20, 13, 2, 8, 93, 4, 1, 33, 47, 37, 14, 54, 28, 13, 5, 100, 23, 64, 3, 94, 12, 5, 2, 1, 13, 70, 3, 11, 8, 1, 16, 13, 14, 4, 3, 1, 1, 9, 1, 8, 2, 16, 2, 7, 1, 10, 8, 4, 2, 6, 4, 4, 7, 22, 3, 14, 1, 1, 1, 2, 2, 2, 1, 2, 2, 3, 2, 1, 19, 46, 5, 2, 1, 8, 4, 2, 1, 6, 20, 9, 5, 22, 10, 14, 7, 1, 1, 2, 1, 1, 3, 1, 12, 1, 4, 2, 4, 3, 26, 1, 3, 3, 8, 8, 1, 1, 2, 1, 27, 4, 2, 14, 1, 3, 2, 39, 11, 1, 1, 2, 12, 2, 8, 1, 1, 6, 7, 4, 23, 1, 2, 2, 10, 4, 1, 1, 4, 1, 10, 6, 1, 1, 1, 1, 1, 3, 1, 2, 4, 2, 3, 1, 1, 2, 1, 6, 1, 6, 3, 6, 6, 1, 1, 13, 6, 1, 2, 1, 3, 5, 42, 4, 40, 2, 7, 159, 10, 4, 5, 28, 6, 5, 23, 1, 1, 17, 51, 1, 5, 1, 1, 65, 21, 10, 6, 1, 1, 2, 13, 10, 3, 4, 1, 67, 2, 5, 5, 2, 2, 45, 2, 5, 2, 3, 9, 1, 1, 3, 1, 3, 1, 11, 2, 4, 2, 2, 2, 1, 41, 3, 2, 5, 1, 170, 4, 55, 58, 43, 1, 2, 3, 2, 2, 3, 31, 10, 1, 1, 1, 11, 16, 3, 10, 5, 1, 2, 1, 4, 11, 1, 27, 34, 3, 3, 8, 2, 16, 1, 1, 2, 5, 1, 8, 32, 1, 7, 19, 40, 1, 45, 56, 11, 5, 3, 1, 1, 14, 1, 7, 4, 8, 5, 2, 2, 11, 9, 26, 4, 1, 2, 3, 1, 1, 1, 10, 2, 2, 1, 2, 1, 5, 1, 7, 1, 15, 3, 25, 7, 4, 16, 2, 2, 1, 4, 1, 2, 3, 4, 9, 2, 2, 2, 1, 4, 2, 1, 1, 8, 3, 4, 2, 1, 3, 1, 2, 3, 31, 64, 2, 1, 20, 7, 1, 6, 1, 1, 1, 1, 1, 1, 3, 2, 1, 12, 5, 2, 5, 13, 1, 2, 3, 4, 1, 5, 1, 3, 8, 2, 1, 3, 3, 3, 2, 4, 11, 3, 24, 1, 3, 4, 1, 15, 6, 16, 1, 1, 4, 1, 1, 1, 3, 1, 8, 5, 1, 1, 1, 2, 2, 4, 9, 3, 1, 1, 2, 1, 1, 2, 2, 5, 4, 3, 4, 2, 4, 3, 2, 5, 20, 6, 1, 3, 9, 1, 14, 1, 3, 6, 2, 2, 1, 45, 3, 1, 2, 2, 3, 5, 2, 2, 1, 1, 1, 4, 8, 2, 5, 2, 1, 1, 1, 22, 2, 2, 3, 1, 4, 2, 1, 1, 10, 1, 8, 1, 6, 13, 21, 2, 1, 18, 2, 20, 3, 4, 2, 3, 4, 2, 1, 2, 2, 1, 3, 36, 18, 4, 34, 11, 49, 3, 1, 1, 12, 7, 4, 1, 7, 1, 1, 2, 3, 3, 1, 1, 1, 2, 3, 1, 1, 1, 13, 9, 13, 1, 7, 6, 2, 2, 4, 1, 3, 4, 2, 1, 1, 4, 2, 27, 31, 4, 1, 1, 1, 1, 2, 1, 3, 2, 1, 7, 2, 1, 1, 1, 45, 8, 55, 4, 1, 3, 1, 4, 4, 18, 1, 1, 1, 9, 3, 34, 5, 3, 22, 4, 1, 7, 2, 7, 2, 4, 1, 6, 2, 65, 1, 6, 2, 12, 3, 1, 3, 1, 1, 1, 2, 2, 4, 1, 4, 6, 3, 51, 2, 2, 1, 2, 1, 2, 1, 2, 1, 1, 10, 1, 9, 3, 1, 4, 3, 3, 2, 1, 10, 8, 1, 4, 4, 2, 1, 2, 1, 4, 3, 1, 2, 6, 1, 5, 15, 54, 6, 1, 1, 5, 3, 25, 3, 2, 1, 1, 1, 1, 1, 2, 3, 3, 2, 16, 1, 1, 6, 3, 5, 2, 51, 3, 4, 3, 20, 8, 1, 3, 2, 1, 20, 1, 1, 8, 5, 1, 1, 19, 33, 12, 1, 109, 1, 9, 17, 1, 1, 132, 14, 4, 7, 31, 2, 107, 4, 8, 5, 27, 10, 10, 1, 2, 2, 4, 8, 5, 3, 1, 1, 2, 3, 5, 1, 1, 14, 1, 1, 1, 4, 4, 1, 5, 1, 9, 1, 1, 8, 1, 1, 4, 19, 3, 1, 17, 16, 1, 7, 6, 2, 11, 1, 1, 2, 20, 11, 2, 44, 3, 119, 9, 27, 1, 13, 1, 4, 3, 5, 5, 23, 120, 14, 44, 4, 6, 68, 20, 1, 2, 3, 2, 2, 1, 9, 5, 3, 17, 198, 10, 123, 3, 1, 7, 1, 1, 9, 8, 50, 2, 1, 27, 17, 18, 6, 1, 3, 2, 15, 14, 5, 1, 4, 19, 2, 3, 6, 18, 6, 8, 1, 3, 9, 6, 11, 2, 1, 1, 8, 1, 46, 10, 5, 32, 13, 14, 2, 6, 1, 1, 1, 13, 3, 3, 3, 3, 1, 2, 1, 7, 5, 5, 2, 2, 1, 1, 9, 5, 9, 7, 1, 2, 4, 1, 4, 24, 3, 7, 5, 11, 1, 24, 1, 1, 2, 1, 1, 1, 10, 3, 1, 17, 3, 11, 1, 2, 2, 12, 2, 3, 9, 1, 9, 4, 18, 18, 2, 1, 1, 7, 1, 2, 1, 1, 2, 22, 1, 2, 1, 1, 2, 3, 1, 3, 1, 1, 1, 1, 2, 2, 1, 1, 1, 4, 85, 30, 10, 1, 4, 2, 21, 2, 1, 1, 2, 2, 1, 2, 2, 1, 1, 1, 1, 4, 9, 4, 3, 34, 4, 2, 2, 4, 11, 37, 12, 1, 1, 30, 1, 1, 1, 1, 2, 1, 2, 22, 1, 1, 1, 1, 2, 18, 7, 35, 9, 11, 10, 4, 1, 60, 1, 5, 1, 7, 2, 2, 1, 1, 19, 8, 1, 7, 22, 7, 6, 2, 1, 1, 8, 2, 7, 2, 3, 1, 10, 3, 2, 3, 1, 6, 1, 2, 1, 2, 2, 1, 122, 3, 1, 1, 2, 1, 2, 9, 7, 1, 1, 1, 1, 1, 1, 1, 44, 92, 6, 10, 2, 3, 1, 7, 1, 1, 3, 33, 2, 1, 1, 3, 1, 2, 2, 1, 17, 9, 1, 1, 3, 2, 3, 4, 4, 4, 1, 3, 112, 17, 8, 6, 1, 3, 1, 2, 3, 4, 1, 1, 3, 5, 1, 3, 4, 1, 1, 1, 2, 29, 120, 7, 2, 3, 22, 5, 5, 6, 1, 1, 2, 1, 1, 1, 61, 3, 2, 3, 18, 49, 2, 4, 1, 16, 1, 3, 1, 2, 3, 3, 3, 4, 8, 6, 5, 65, 1, 3, 1, 3, 2, 1, 6, 1, 1, 1, 3, 7, 1, 10, 7, 63, 3, 7, 12, 5, 24, 7, 3, 1, 2, 1, 2, 1, 14, 4, 3, 8, 2, 6, 4, 19, 2, 7, 1, 2, 1, 1, 2, 4, 1, 2, 2, 9, 15, 2, 4, 5, 1, 8, 3, 7, 1, 1, 1, 3, 2, 7, 2, 5, 5, 1, 7, 26, 7, 1, 12, 3, 1, 1, 8, 1, 1, 6, 2, 3, 1, 1, 1, 1, 2, 2, 1, 2, 3, 5, 1, 1, 2, 1, 1, 11, 2, 3, 2, 1, 1, 3, 1, 1, 25, 87, 2, 2, 28, 9, 10, 2, 3, 1, 2, 5, 31, 1, 5, 2, 1, 2, 2, 1, 1, 3, 3, 4, 1, 11, 1, 1, 1, 1, 5, 5, 2, 4, 58, 2, 2, 2, 33, 3, 4, 5, 3, 47, 3, 3, 2, 1, 1, 2, 2, 1, 16, 11, 2, 3, 1, 1, 1, 1, 2, 1, 2, 4, 2, 1, 1, 3, 7, 1, 1, 17, 1, 1, 1, 2, 1, 1, 1, 1, 1, 1, 7, 8, 1, 1, 1, 2, 1, 1, 4, 1, 1, 3, 1, 2, 1, 2, 4, 1, 1, 1, 1, 1, 1, 1, 19, 9, 17, 1, 1, 3, 1, 16, 16, 6, 1, 5, 1, 1, 1, 1, 7, 5, 1, 4, 41, 11, 1, 102, 1, 1, 3, 2, 1, 1, 1, 1, 3, 1, 1, 1, 1, 1, 3, 1, 4, 5, 1, 1, 2, 1, 1, 2, 27, 4, 5, 1, 5, 14, 4, 2, 20, 8, 1, 1, 1, 1, 1, 2, 4, 2, 2, 1, 4, 8, 1, 46, 44, 1, 21, 5, 1, 5, 2, 1, 2, 1, 2, 4, 1, 11, 1, 1, 2, 1, 11, 2, 5, 6, 6, 19, 19, 26, 2, 1, 1, 2, 4, 188, 1, 22, 9, 55, 19, 1, 9, 1, 1, 2, 1, 3, 2, 1, 10, 37, 1, 1, 1, 3, 2, 1, 5, 6, 2, 1, 4, 115, 1, 49, 15, 5, 14, 46, 2, 53, 2, 7, 3, 15, 3, 3, 8, 1, 4, 2, 5, 1, 75, 1, 1, 3, 2, 5, 3, 1, 4, 2, 1, 1, 2, 2, 1, 4, 4, 3, 1, 6, 1, 1, 3, 2, 1, 10, 17, 2, 6, 3, 1, 1, 1, 15, 1, 2, 2, 1, 1, 1, 4, 1, 3, 1, 9, 1, 1, 1, 2, 2, 9, 1, 1, 2, 1, 2, 1, 3, 2, 1, 1, 2, 5, 1, 1, 3, 1, 2, 2, 29, 19, 32, 1, 2, 3, 1, 8, 2, 3, 1, 1, 1, 3, 4, 3, 1, 8, 39, 1, 3, 2, 3, 3, 2, 1, 1, 2, 1, 12, 1, 6, 7, 9, 3, 2, 2, 40, 3, 4, 1, 2, 1, 1, 1, 1, 1, 1, 3, 1, 9, 2, 1, 11, 2, 1, 1, 4, 7, 1, 4, 2, 2, 8, 4, 8, 2, 2, 2, 3, 1, 1, 1, 1, 1, 1, 2, 32, 20, 1, 4, 34, 4, 4, 7, 3, 1, 11, 1, 14, 20, 3, 9, 3, 5, 8, 8, 1, 10, 3, 4, 1, 2, 2, 3, 1, 3, 2, 6, 22, 2, 3, 1, 2, 13, 4, 76, 3, 3, 1, 4, 6, 4, 1, 4, 1, 1, 1, 3, 1, 3, 3, 24, 2, 1, 5, 10, 96, 1, 10, 4, 5, 1, 71, 3, 4, 2, 141, 59, 2, 7, 1, 1, 19, 14, 1, 3, 1, 1, 1, 1, 2, 1, 1, 2, 2, 34, 1, 1, 1, 1, 2, 1, 2, 1, 3, 1, 1, 3, 14, 2, 1, 2, 1, 1, 1, 1, 1, 1, 1, 5, 6, 4, 2, 1, 4, 1, 3, 32, 1, 1, 1, 1, 11, 3, 7, 1, 58, 27, 1, 2, 1, 1, 2, 1, 1, 2, 1, 1, 20, 2, 1, 1, 2, 1, 33, 11, 6, 32, 45, 149, 1, 32, 5, 1, 1, 2, 17, 3, 13, 1, 12, 1, 2, 1, 3, 3, 1, 1, 4, 1, 17, 18, 3, 3, 1, 2, 1, 2, 1, 1, 2, 16, 1, 2, 1, 2, 1, 2, 3, 1, 3, 16, 1, 1, 6, 1, 3, 24, 14, 1, 1, 1, 3, 1, 1, 2, 1, 11, 1, 1, 2, 8, 3, 9, 2, 9, 17, 6, 18, 3, 5, 4, 1, 3, 1, 4, 5, 2, 2, 4, 3, 7, 2, 1, 4, 1, 7, 7, 1, 3, 1, 1, 4, 16, 4, 1, 11, 5, 6, 1, 5, 5, 1, 6, 2, 1, 9, 13, 1, 1, 5, 2, 1, 5, 4, 1, 1, 18, 2, 1, 1, 4, 1, 1, 5, 1, 1, 8, 34, 14, 4, 74, 1, 5, 1, 1, 1, 2, 7, 1, 2, 5, 8, 2, 4, 2, 4, 1, 1, 1, 3, 1, 1, 12, 33, 14, 1, 2, 2, 7, 17, 9, 1, 1, 2, 1, 22, 8, 1, 3, 5, 2, 2, 1, 3, 11, 4, 27, 4, 1, 3, 5, 1, 11, 1, 5, 18, 1, 2, 3, 2, 1, 1, 40, 4, 1, 5, 5, 2, 1, 1, 1, 2, 1, 4, 6, 1, 3, 5, 1, 1, 1, 21, 3, 2, 4, 1, 2, 13, 2, 3, 4, 1, 2, 66, 7, 12, 7, 2, 52, 9, 4, 20, 131, 3, 17, 7, 7, 1, 1, 2, 3, 1, 5, 20, 2, 9, 1, 10, 4, 3, 1, 2, 2, 8, 2, 1, 1, 2, 3, 1, 2, 7, 79, 1, 39, 1, 1, 1, 59, 1, 13, 2, 2, 7, 36, 2, 1, 3, 9, 25, 3, 5, 2, 26, 10, 3, 3, 1, 1, 2, 18, 1, 3, 1, 1, 1, 2, 1, 3, 6, 5, 1, 1, 4, 21, 2, 1, 1, 1, 5, 1, 1, 7, 4, 1, 2, 13, 2, 7, 2, 1, 2, 4, 6, 1, 17, 1, 8, 5, 3, 3, 1, 7, 3, 3, 3, 5, 2, 1, 1, 30, 1, 3, 2, 4, 5, 7, 2, 1, 1, 4, 8, 3, 7, 2, 1, 1, 1, 1, 5, 3, 11, 2, 4, 1, 2, 2, 2, 1, 2, 1, 2, 1, 1, 1, 3, 1, 1, 8, 6, 1, 1, 2, 1, 4, 5, 1, 3, 1, 1, 1, 8, 1, 3, 2, 3, 2, 1, 4, 2, 1, 2, 1, 2, 38, 1, 2, 2, 2, 1, 1, 23, 1, 4, 4, 1, 3, 31, 6, 2, 1, 2, 1, 1, 5, 4, 1, 2, 5, 1, 4, 1, 9, 3, 1, 1, 1, 9, 2, 1, 2, 10, 5, 7, 1, 3, 62, 69, 17, 10, 12, 185, 10, 8, 13, 1, 9, 1, 17, 8, 12, 17, 6, 3, 1, 1, 1, 8, 2, 5, 2, 24, 2, 1, 1, 1, 1, 1, 1, 1, 3, 1, 1, 1, 2, 2, 3, 7, 21, 12, 1, 1, 3, 2, 3, 1, 2, 4, 3, 1, 1, 1, 2, 1, 3, 4, 6, 6, 1, 3, 1, 1, 1, 11, 1, 1, 46, 8, 8, 4, 4, 4, 1, 3, 1, 10, 1, 13, 1, 2, 1, 9, 2, 1, 47, 4, 3, 3, 3, 1, 4, 1, 2, 1, 2, 1, 3, 3, 1, 1, 2, 4, 15, 13, 6, 5, 2, 23, 11, 21, 1, 6, 1, 1, 2, 1, 1, 1, 4, 1, 1, 20, 15, 3, 4, 1, 2, 3, 1, 16, 131, 4, 1, 8, 14, 1, 4, 20, 1, 41, 7, 6, 1, 6, 7, 7, 7, 2, 1, 1, 4, 20, 1, 1, 2, 7, 1, 1, 1, 1, 7, 2, 110, 14, 2, 1, 1, 21, 35, 1, 4, 2, 4, 39, 1, 24, 1, 1, 48, 1, 6, 97, 1, 1, 4, 1, 58, 13, 4, 2, 5, 1, 1, 2, 1, 3, 17, 1, 1, 16, 4, 1, 1, 1, 1, 2, 3, 12, 8, 3, 7, 8, 1, 3, 2, 2, 4, 2, 1, 1, 2, 3, 1, 6, 1, 1, 1, 2, 5, 2, 2, 5, 4, 3, 2, 2, 9, 2, 16, 5, 5, 7, 1, 1, 2, 4, 1, 1, 1, 1, 1, 1, 4, 1, 1, 1, 3, 5, 1, 6, 1, 2, 1, 4, 1, 2, 2, 2, 6, 2, 4, 1, 4, 2, 21, 1, 2, 1, 2, 5, 16, 1, 5, 2, 1, 1, 17, 8, 4, 3, 1, 3, 6, 1, 16, 1, 1, 2, 1, 1, 1, 1, 1, 1, 3, 1, 1, 1, 2, 4, 1, 2, 5, 3, 4, 3, 1, 1, 1, 27, 1, 1, 1, 1, 2, 2, 2, 2, 1, 4, 1, 1, 2, 1, 1, 1, 1, 1, 1, 1, 1, 9, 1, 2, 1, 2, 2, 2, 3, 7, 1, 2, 1, 1, 1, 1, 1, 1, 1, 4, 1, 11, 1, 2, 1, 1, 1, 7, 9, 4, 5, 1, 1, 1, 1, 1, 1, 3, 1, 3, 1, 4, 3, 10, 1, 2, 1, 2, 1, 2, 2, 3, 2, 2, 7, 1, 3, 1, 71, 39, 1, 1, 10, 1, 1, 4, 1, 1, 1, 1, 2, 1, 1, 3, 2, 1, 2, 1, 5, 1, 9, 2, 1, 1, 2, 1, 1, 2, 1, 1, 1, 1, 6, 5, 1, 2, 7, 1, 2, 3, 26, 25, 7, 4, 1, 1, 3, 1, 1, 3, 2, 1, 1, 1, 2, 1, 6, 1, 17, 1, 2, 4, 1, 1, 1, 1, 1, 1, 5, 6, 3, 1, 5, 2, 1, 2, 1, 1, 1, 1, 2, 1, 1, 31, 3, 1, 2, 1, 2, 1, 5, 1, 1, 2, 7, 1, 7, 3, 1, 1, 1, 2, 92, 50, 4, 2, 4, 14, 93, 3, 12, 23, 5, 12, 2, 37, 1, 1, 1, 1, 1, 1, 1, 5, 1, 1, 29, 3, 1, 1, 2, 1, 1, 1, 1, 1, 1, 1, 1, 1, 1, 2, 1, 1, 1, 1, 1, 7, 1, 50, 1, 1, 2, 54, 1, 1, 1, 1, 2, 2, 3, 2, 6, 1, 1, 1, 4, 1, 2, 9, 1, 1, 17, 1, 2, 3, 39, 47, 2, 6, 1, 38, 1, 2, 1, 2, 3, 1, 1, 1, 3, 6, 1, 11, 2, 1, 1, 2, 1, 1, 4, 2, 1, 1, 1, 1, 1, 1, 2, 2, 1, 5, 2, 5, 2, 2, 1, 16, 20, 6, 25, 1, 4, 2, 1, 37, 11, 1, 1, 1, 7, 79, 15, 13, 57, 9, 61, 2, 8, 1, 2, 1, 75, 9, 1, 1, 1, 2, 1, 1, 1, 1, 2, 3, 2, 1, 1, 1, 1, 1, 2, 1, 2, 1, 2, 1, 1, 2, 1, 2, 1, 2, 1, 2, 1, 2, 1, 1, 1, 2, 2, 1, 1, 1, 1, 2, 12, 2, 26, 48, 2, 1, 1, 4, 1, 5, 1, 44, 62, 3, 40, 1, 12, 1, 8, 1, 34, 7, 2, 17, 2, 7, 3, 5, 1, 2, 1, 2, 3, 1, 3, 3, 8, 3, 1, 2, 1, 2, 2, 1, 1, 1, 7, 14, 3, 18, 9, 1, 6, 5, 27, 77, 1, 6, 7, 1, 1, 3, 13, 6, 21, 1, 2, 3, 17, 3, 32, 1, 2, 1, 2, 67, 1, 1, 1, 3, 1, 1, 8, 1, 3, 2, 1, 1, 2, 10, 3, 39, 38, 4, 7, 1, 1, 1, 1, 33, 19, 3, 1, 125, 1, 11, 8, 1, 6, 20, 32, 4, 38, 8, 4, 2, 3, 10, 2, 1, 16, 3, 25, 43, 14, 1, 1, 1, 1, 7, 5, 1, 1, 1, 2, 1, 7, 5, 2, 2, 3, 1, 1, 1, 13, 1, 11, 1, 1, 1, 1, 1, 1, 1, 5, 8, 21, 1, 1, 1, 1, 2, 1, 1, 1, 1, 1, 4, 1, 1, 1, 3, 1, 4, 1, 2, 1, 1, 3, 1, 3, 1, 21, 9, 6, 3, 4, 11, 4, 3, 2, 28, 2, 9, 2, 4, 4, 2, 1, 5, 2, 1, 1, 3, 1, 2, 1, 1, 9, 2, 1, 1, 1, 2, 4, 1, 1, 1, 1, 1, 1, 1, 1, 1, 1, 1, 1, 1, 1, 1, 6, 1, 7, 1, 2, 5, 2, 1, 1, 1, 2, 1, 1, 1, 1, 1, 1, 1, 1, 1, 1, 1, 1, 1, 1, 6, 1, 5, 2, 5, 1, 1, 4, 2, 18, 1, 1, 1, 2, 5, 11, 7, 5, 2, 3, 4, 16, 1, 1, 1, 4, 1, 2, 1, 1, 1, 1, 2, 1, 4, 13, 1, 1, 6, 3, 1, 1, 1, 1, 2, 1, 2, 1, 1, 2, 7, 1, 1, 6, 1, 3, 5, 1, 1, 1, 1, 2, 2, 15, 1, 53, 1, 1, 1, 1, 1, 1, 4, 2, 6, 31, 7, 2, 13, 1, 6, 3, 1, 1, 1, 2, 3, 1, 43, 1, 1, 2, 1, 1, 1, 11, 2, 1, 1, 1, 1, 1, 2, 1, 6, 3, 2, 1, 1, 1, 1, 3, 1, 1, 1, 1, 9, 1, 1, 1, 3, 1, 1, 1, 1, 1, 1, 1, 1, 1, 1, 2, 1, 7, 1, 52, 2, 1, 1, 2, 8, 1, 1, 5, 1, 1, 1, 4, 4, 3, 5, 13, 1, 2, 9, 4, 73, 1, 1, 1, 1, 6, 2, 23, 2, 2, 4, 1, 1, 2, 1, 2, 4, 1, 1, 1, 4, 1, 6, 1, 2, 19, 1, 1, 100, 6, 36, 1, 40, 1, 4, 2, 1, 2, 9, 3, 4, 1, 1, 2, 1, 1, 1, 1, 1, 1, 4, 2, 2, 1, 2, 1, 2, 1, 1, 3, 1, 1, 6, 2, 1, 1, 1, 3, 2, 1, 2, 1, 1, 1, 1, 5, 1, 1, 1, 1, 1, 34, 31, 3, 3, 5, 3, 3, 1, 2, 1, 1, 1, 1, 1, 1, 1, 1, 1, 1, 1, 38, 1, 1, 13, 4, 8, 1, 1, 5, 1, 1, 1, 3, 1, 1, 3, 12, 3, 1, 1, 6, 47, 1, 1, 5, 11, 1, 1, 1, 4, 2, 1, 1, 2, 1, 1, 2, 1, 1, 1, 2, 7, 12, 12, 1, 1, 11, 1, 6, 8, 2, 5, 1, 13, 1, 1, 2, 2, 1, 1, 1, 1, 1, 8, 12, 6, 1, 1, 1, 2, 1, 2, 1, 1, 1, 4, 1, 1, 28, 7, 1, 3, 7, 1, 6, 1, 6, 1, 1, 1, 1, 1, 5, 2, 1, 18, 1, 4, 1, 13, 1, 1, 3, 2, 1, 1, 2, 1, 2, 1, 2, 14, 6, 10, 4, 49, 1, 1, 3, 52, 11, 1, 1, 41, 2, 1, 3, 1, 8, 12, 5, 1, 1, 2, 1, 1, 5, 3, 14, 10, 23, 2, 4, 17, 34, 72, 6, 13, 9, 55, 6, 1, 1, 1, 8, 14, 30, 13, 1, 1, 1, 1, 1, 7, 13, 1, 1, 1, 2, 1, 1, 5, 2, 13, 1, 1, 1, 10, 1, 1, 3, 2, 8, 3, 1, 1, 16, 6, 2, 1, 1, 1, 1, 12, 1, 1, 1, 44, 1, 1, 8, 17, 1, 1, 1, 1, 10, 1, 1, 1, 2, 8, 38, 11, 2, 2, 143, 10, 1, 10, 1, 9, 1, 1, 6, 1, 8, 3, 6, 1, 2, 1, 1, 3, 8, 15, 25, 1, 1, 1, 3, 1, 1, 1, 3, 1, 77, 7, 19, 9, 15, 26, 7, 1, 2, 3, 13, 31, 1, 17, 1, 1, 1, 1, 1, 5, 1, 1, 1, 1, 5, 21, 4, 1, 3, 1, 1, 1, 1, 1, 1, 3, 1, 1, 1, 1, 2, 17, 44, 9, 2, 14, 4, 28, 23, 6, 44, 1, 1, 3, 3, 38, 37, 2, 1, 10, 1, 1, 15, 46, 1, 3, 1, 9, 2, 1, 1, 1, 1, 1, 14, 1, 1, 1, 5, 1, 3, 3, 5, 1, 59, 1, 1, 1, 4, 3, 3, 4, 4, 1, 1, 6, 2, 1, 1, 5, 1, 1, 12, 3, 3, 3, 1, 14, 3, 1, 1, 1, 1, 7, 43, 1, 13, 1, 6, 7, 1, 1, 1, 1, 1, 1, 1, 57, 1, 2, 1, 22, 1, 1, 3, 1, 1, 1, 1, 2, 1, 1, 27, 2, 1, 1, 1, 2, 4, 4, 1, 1, 3, 3, 1, 5, 2, 1, 1, 4, 1, 5, 8, 1, 1, 5, 1, 2, 3, 1, 1, 1, 2, 18, 7, 1, 1, 1, 1, 1, 4, 14, 1, 1, 1, 7, 1, 1, 1, 1, 2, 11, 1, 6, 3, 1, 2, 12, 2, 6, 1, 1, 2, 1, 3, 2, 1, 1, 3, 1, 1, 19, 1, 1, 1, 7, 3, 1, 6, 2, 8, 1, 1, 2, 1, 1, 1, 65, 6, 3, 81, 4, 2, 1, 1, 1, 1, 1, 20, 1, 2, 1, 107, 2, 6, 3, 1, 3, 1, 1, 3, 2, 2, 1, 1, 2, 16, 1, 5, 1, 1, 2, 1, 2, 4, 2, 1, 1, 1, 20, 1, 1, 1, 1, 3, 3, 12, 1, 1, 1, 10, 64, 90, 11, 18, 20, 1, 42, 1, 1, 1, 11, 2, 1, 2, 1, 1, 1, 1, 8, 1, 1, 7, 1, 1, 8, 2, 7, 6, 1, 1, 7, 1, 3, 1, 1, 1, 2, 1, 2, 47, 2, 3, 2, 4, 4, 58, 3, 24, 4, 2, 1, 1, 15, 3, 3, 1, 2, 2, 1, 23, 1, 2, 1, 1, 1, 4, 2, 3, 4, 1, 1, 81, 2, 11, 3, 20, 3, 3, 3, 2, 24, 1, 1, 1, 1, 1, 3, 1, 1, 1, 2, 1, 9, 7, 10, 7, 2, 7, 2, 2, 1, 53, 1, 3, 1, 2, 29, 1, 1, 1, 3, 12, 14, 1, 1, 13, 1, 1, 28, 19, 2, 1, 1, 3, 1, 1, 1, 4, 2, 7, 5, 1, 2, 1, 4, 4, 5, 1, 1, 1, 6, 1, 2, 4, 1, 1, 1, 2, 1, 1, 2, 3, 18, 1, 1, 17, 1, 41, 6, 6, 1, 2, 1, 2, 1, 3, 1, 2, 2, 28, 1, 3, 1, 1, 2, 1, 1, 1, 1, 26, 1, 3, 1, 2, 1, 1, 1, 4, 18, 2, 1, 1, 3, 1, 1, 8, 2, 1, 1, 1, 1, 2, 11, 3, 1, 1, 9, 1, 1, 1, 1, 1, 1, 4, 2, 1, 1, 1, 6, 1, 1, 3, 2, 10, 2, 4, 2, 3, 3, 1, 1, 1, 2, 1, 9, 2, 72, 1, 1, 1, 8, 2, 1, 2, 1, 1, 1, 3, 1, 1, 1, 5, 4, 1, 6, 7, 2, 1, 12, 8, 1, 10, 14, 2, 4, 8, 2, 2, 1, 1, 1, 1, 1, 1, 1, 1, 1, 1, 1, 1, 61, 50, 1, 6, 1, 1, 1, 23, 1, 1, 1, 2, 1, 10, 30, 1, 1, 1, 1, 14, 3, 2, 1, 1, 3, 1, 1, 1, 1, 2, 1, 1, 38, 1, 1, 1, 1, 1, 1, 2, 1, 5, 1, 1, 1, 14, 2, 10, 17, 3, 2, 1, 3, 1, 80, 1, 1, 1, 3, 1, 2, 2, 7, 2, 1, 1, 4, 1, 1, 2, 1, 1, 6, 6, 1, 2, 1, 3, 1, 1, 3, 2, 1, 3, 5, 1, 25, 2, 6, 1, 1, 1, 1, 23, 1, 4, 15, 2, 1, 1, 1, 11, 1, 2, 1, 2, 1, 1, 1, 1, 2, 17, 1, 1, 21, 1, 1, 6, 10, 17, 1, 1, 4, 4, 1, 1, 27, 3, 11, 5, 2, 1, 1, 1, 5, 7, 14, 1, 1, 5, 4, 6, 4, 2, 1, 1, 3, 11, 1, 1, 10, 1, 1, 1, 1, 1, 1, 1, 1, 1, 7, 2, 3, 7, 12, 1, 1, 2, 1, 1, 5, 2, 2, 34, 1, 2, 1, 1, 4, 3, 1, 1, 44, 1, 2, 1, 12, 1, 3, 3, 1, 1, 1, 5, 1, 1, 2, 1, 1, 9, 1, 2, 2, 8, 4, 3, 52, 15, 1, 1, 1, 21, 6, 1, 3, 6, 1, 3, 2, 4, 4, 2, 6, 2, 21, 9, 56, 4, 7, 2, 2, 1, 3, 18, 2, 2, 3, 1, 1, 1, 2, 1, 1, 1, 1, 1, 1, 1, 1, 1, 1, 1, 1, 1, 2, 1, 1, 1, 4, 33, 1, 1, 2, 1, 2, 1, 1, 1, 5, 1, 4, 1, 1, 2, 1, 1, 4, 11, 4, 4, 1, 1, 2, 1, 1, 1, 2, 7, 5, 20, 1, 3, 7, 1, 1, 1, 1, 1, 26, 3, 6, 3, 8, 1, 3, 7, 34, 1, 2, 9, 1, 7, 1, 12, 36, 7, 1, 6, 1, 1, 1, 2, 1, 2, 5, 1, 1, 1, 14, 2, 32, 3, 4, 1, 4, 1, 1, 1, 1, 2, 1, 10, 1, 14, 1, 1, 1, 1, 1, 1, 25, 1, 4, 4, 1, 1, 1, 32, 3, 1, 13, 39, 58, 11, 5, 1, 2, 2, 21, 3, 1, 1, 24, 25, 2, 2, 1, 3, 2, 15, 1, 1, 2, 11, 1, 7, 34, 1, 46, 1, 2, 5, 81, 1, 1, 1, 1, 1, 3, 1, 1, 6, 2, 1, 1, 17, 43, 3, 55, 2, 1, 3, 4, 21, 1, 1, 1, 2, 5, 10, 4, 2, 1, 5, 9, 3, 2, 8, 2, 11, 2, 9, 1, 1, 1, 2, 3, 4, 1, 1, 1, 1, 12, 1, 1, 1, 10, 1, 1, 3, 1, 1, 22, 25, 12, 2, 1, 1, 13, 1, 1, 1, 3, 1, 2, 1, 1, 3, 4, 5, 24, 2, 1, 3, 1, 1, 3, 3, 19, 1, 1, 4, 1, 1, 1, 1, 1, 10, 3, 4, 41, 1, 3, 4, 1, 8, 9, 9, 21, 1, 2, 2, 17, 1, 2, 8, 11, 20, 1, 2, 1, 1, 1, 1, 50, 32, 10, 32, 1, 1, 1, 31, 1, 11, 3, 2, 4, 1, 1, 1, 1, 1, 2, 1, 3, 1, 1, 2, 1, 5, 1, 4, 1, 1, 2, 1, 1, 20, 1, 1, 4, 1, 10, 1, 1, 1, 37, 10, 1, 1, 1, 5, 64, 1, 10, 1, 1, 1, 1, 6, 2, 8, 1, 2, 1, 2, 2, 27, 2, 1, 8, 2, 2, 2, 10, 1, 21, 6, 1, 1, 1, 14, 1, 17, 7, 1, 1, 18, 62, 3, 1, 2, 1, 10, 2, 2, 1, 1, 1, 2, 1, 1, 6, 1, 1, 2, 8, 4, 65, 2, 1, 2, 1, 4, 1, 12, 5, 3, 1, 4, 1, 13, 3, 1, 1, 1, 1, 1, 1, 1, 12, 1, 6, 26, 1, 30, 2, 1, 24, 28, 8, 6, 5, 1, 2, 1, 1, 1, 1, 1, 1, 1, 1, 5, 11, 20, 1, 69, 3, 8, 3, 2, 11, 9, 1, 1, 3, 1, 1, 19, 1, 1, 11, 1, 2, 1, 2, 3, 3, 3, 8, 1, 2, 1, 47, 2, 41, 1, 6, 1, 27, 7, 6, 27, 5, 54, 27, 11, 13, 20, 27, 22, 22, 14, 16, 1, 1, 1, 1, 1, 1, 6, 1, 1, 10, 2, 2, 1, 1, 9, 3, 2, 2, 4, 1, 1, 1, 1, 2, 4, 1, 3, 14, 1, 18, 1, 4, 1, 41, 7, 1, 1, 2, 2, 1, 1, 1, 1, 2, 6, 1, 1, 1, 4, 2, 1, 1, 1, 5, 3, 1, 1, 8, 1, 4, 3, 1, 1, 1, 12, 1, 1, 1, 18, 1, 1, 14, 3, 1, 3, 1, 18, 6, 5, 2, 3, 5, 7, 10, 7, 1, 1, 1, 1, 1, 2, 1, 1, 17, 13, 1, 8, 4, 1, 3, 3, 5, 1, 11, 1, 2, 1, 4, 1, 10, 3, 7, 4, 1, 3, 6, 1, 2, 1, 2, 2, 3, 3, 1, 1, 1, 1, 1, 1, 1, 1, 1, 2, 1, 1, 1, 1, 4, 1, 1, 2, 5, 2, 2, 149, 1, 1, 1, 1, 2, 1, 4, 1, 2, 1, 1, 3, 1, 3, 2, 1, 1, 1, 1, 1, 2, 1, 2, 2, 1, 1, 1, 1, 2, 3, 1, 1, 1, 1, 10, 1, 2, 1, 1, 1, 54, 1, 76, 1, 18, 1, 1, 1, 38, 1, 18, 1, 1, 1, 2, 1, 1, 1, 2, 1, 1, 1, 4, 1, 1, 1, 3, 5, 2, 3, 22, 1, 1, 1, 2, 2, 1, 2, 5, 42, 1, 2, 1, 2, 1, 5, 6, 2, 1, 1, 1, 2, 5, 1, 3, 1, 2, 1, 3, 2, 1, 1, 2, 2, 1, 1, 1, 2, 2, 1, 13, 1, 39, 1, 1, 1, 3, 5, 3, 1, 2, 1, 1, 13, 5, 1, 1, 1, 3, 1, 1, 1, 1, 2, 1, 1, 1, 4, 1, 2, 1, 3, 1, 1, 3, 1, 1, 1, 1, 1, 1, 1, 5, 1, 1, 2, 1, 1, 1, 1, 1, 1, 3, 2, 3, 1, 1, 1, 1, 1, 1, 1, 1, 1, 2, 1, 2, 3, 1, 5, 6, 3, 2, 1, 1, 1, 1, 1, 4, 3, 1, 11, 3, 1, 2, 1, 2, 2, 1, 2, 1, 3, 1, 2, 1, 1, 2, 94, 1, 1, 2, 2, 2, 1, 1, 1, 2, 4, 1, 1, 3, 3, 1, 1, 1, 1, 42, 1, 2, 2, 9, 11, 1, 6, 3, 1, 2, 1, 2, 8, 1, 2, 17, 1, 1, 1, 5, 2, 3, 1, 1, 1, 1, 1, 2, 1, 1, 2, 1, 3, 1, 1, 37, 1, 2, 5, 1, 12, 1, 1, 1, 1, 2, 1, 2, 2, 2, 14, 1, 3, 1, 1, 1, 2, 1, 1, 1, 3, 2, 1, 1, 1, 2, 1, 1, 39, 1, 1, 3, 1, 4, 3, 2, 1, 8, 2, 1, 1, 1, 1, 1, 5, 2, 1, 1, 1, 2, 1, 1, 1, 1, 11, 1, 3, 1, 1, 1, 2, 1, 4, 3, 3, 1, 10, 2, 1, 1, 1, 1, 54, 5, 1, 2, 1, 1, 1, 1, 1, 1, 1, 2, 1, 1, 1, 15, 1, 1, 1, 1, 1, 1, 5, 2, 1, 15, 1, 1, 1, 1, 2, 4, 1, 1, 1, 1, 1, 2, 1, 1, 7, 5, 35, 1, 104, 22, 29, 1, 3, 1, 6, 1, 1, 1, 1, 1, 16, 2, 3, 1, 1, 1, 1, 6, 4, 5, 3, 1, 2, 1, 1, 1, 3, 2, 1, 1, 2, 1, 1, 1, 3, 1, 2, 1, 1, 1, 1, 2, 1, 2, 3, 1, 1, 1, 1, 2, 3, 3, 1, 2, 5, 1, 1, 1, 1, 1, 4, 1, 19, 3, 2, 2, 1, 1, 14, 2, 1, 1, 1, 20, 2, 1, 2, 1, 2, 1, 4, 1, 2, 1, 1, 1, 1, 1, 1, 25, 1, 1, 3, 1, 5, 6, 3, 3, 8, 8, 5, 6, 4, 1, 5, 1, 2, 4, 1, 2, 1, 2, 1, 2, 1, 1, 1, 6, 39, 1, 1, 1, 1, 1, 1, 8, 11, 4, 2, 7, 12, 1, 8, 1, 11, 1, 11, 1, 2, 6, 5, 1, 11, 1, 1, 19, 3, 4, 2, 5, 1, 10, 2, 1, 2, 1, 1, 3, 4, 1, 4, 4, 2, 5, 2, 3, 22, 1, 1, 4, 5, 43, 1, 1, 1, 26, 1, 2, 28, 1, 4, 1, 8, 1, 11, 3, 1, 1, 1, 1, 1, 1, 1, 1, 2, 1, 1, 2, 1, 1, 7, 4, 1, 1, 16, 5, 2, 1, 1, 3, 4, 1, 6, 1, 31, 3, 2, 1, 1, 4, 9, 1, 22, 1, 1, 1, 2, 1, 1, 33, 2, 7, 1, 1, 1, 2, 1, 1, 5, 17, 1, 1, 4, 9, 10, 3, 2, 1, 1, 3, 4, 1, 1, 39, 3, 3, 4, 1, 2, 2, 1, 1, 1, 1, 2, 2, 2, 2, 2, 1, 1, 4, 1, 7, 3, 1, 2, 2, 1, 4, 4, 4, 1, 1, 1, 1, 1, 2, 1, 2, 1, 1, 1, 2, 1, 1, 1, 6, 6, 2, 1, 1, 1, 1, 2, 6, 1, 2, 3, 2, 8, 1, 1, 1, 1, 1, 1, 17, 4, 1, 1, 1, 1, 18, 6, 1, 1, 1, 3, 8, 27, 1, 1, 6, 1, 2, 9, 1, 1, 10, 1, 5, 29, 1, 3, 1, 1, 5, 6, 2, 3, 1, 2, 1, 4, 3, 1, 6, 9, 9, 1, 1, 2, 1, 11, 3, 1, 2, 1, 1, 2, 3, 1, 1, 30, 1, 1, 2, 2, 1, 1, 1, 1, 21, 1, 3, 6, 1, 1, 1, 1, 1, 1, 1, 1, 4, 1, 1, 1, 1, 4, 3, 1, 1, 1, 1, 1, 1, 1, 1, 1, 1, 3, 7, 4, 1, 1, 21, 1, 6, 5, 1, 1, 2, 1, 1, 1, 2, 1, 1, 1, 30, 1, 6, 7, 2, 1, 2, 2, 18, 8, 1, 1, 1, 13, 1, 1, 3, 1, 1, 9, 1, 9, 1, 2, 2, 1, 5, 1, 1, 13, 1, 1, 1, 1, 1, 1, 1, 1, 8, 1, 9, 1, 71, 5, 5, 4, 8, 35, 20, 1, 1, 1, 1, 1, 1, 2, 2, 1, 1, 3, 3, 2, 8, 1, 1, 1, 1, 50, 1, 2, 1, 5, 9, 1, 1, 1, 1, 1, 1, 1, 1, 1, 2, 4, 3, 4, 1, 52, 1, 4, 2, 2, 1, 1, 48, 1, 4, 61, 3, 37, 35, 12, 1, 3, 11, 33, 1, 2, 1, 3, 2, 4, 1, 5, 2, 1, 1, 8, 4, 1, 3, 3, 1, 1, 1, 4, 1, 1, 1, 1, 1, 1, 1, 1, 1, 1, 1, 1, 1, 2, 1, 10, 20, 1, 3, 1, 32, 3, 1, 5, 1, 18, 2, 2, 11, 2, 3, 3, 1, 2, 1, 2, 1, 3, 1, 6, 1, 14, 1, 10, 1, 22, 7, 1, 1, 6, 3, 6, 1, 6, 6, 2, 20, 10, 1, 1, 1, 7, 1, 1, 2, 1, 1, 5, 1, 1, 1, 3, 3, 1, 20, 8, 1, 1, 6, 1, 2, 2, 11, 2, 1, 2, 1, 2, 6, 1, 2, 1, 6, 1, 5, 1, 1, 1, 3, 1, 6, 1, 1, 1, 1, 1, 2, 3, 2, 1, 40, 1, 2, 1, 45, 11, 1, 2, 1, 35, 1, 3, 1, 7, 1, 1, 1, 1, 1, 1, 1, 28, 1, 15, 1, 2, 1, 4, 7, 46, 1, 9, 7, 1, 19, 1, 1, 1, 1, 1, 3, 1, 1, 2, 11, 1, 1, 1, 1, 3, 6, 7, 8, 3, 10, 19, 1, 1, 1, 3, 34, 2, 1, 1, 1, 1, 3, 1, 1, 1, 1, 6, 37, 1, 34, 1, 3, 3, 11, 19, 8, 1, 3, 2, 1, 1, 1, 1, 4, 1, 4, 5, 1, 8, 3, 7, 3, 1, 1, 1, 11, 1, 4, 6, 2, 1, 3, 5, 2, 1, 1, 22, 1, 30, 9, 2, 1, 1, 31, 1, 4, 1, 1, 1, 7, 1, 1, 2, 1, 4, 14, 1, 11, 1, 1, 1, 1, 1, 2, 3, 1, 8, 1, 1, 2, 4, 2, 84, 7, 1, 1, 7, 8, 1, 4, 1, 1, 1, 1, 1, 4, 1, 1, 4, 1, 1, 1, 1, 2, 12, 8, 1, 1, 1, 2, 1, 10, 1]\n"
     ]
    }
   ],
   "source": [
    "# Which movie received the highest number of ratings?\n",
    "\n",
    "# 1. find the set of movie IDs\n",
    "\n",
    "movieIds = list(set(ratings_df[\"movieId\"]))\n",
    "# movieIds = np.unique(ratings_df['movieId'])\n",
    "# movieIds = ratings_df['movieId'].unique()\n",
    "# print(movieIds)\n",
    "\n",
    "\n",
    "# 2. find the number of ratings for each movie (a for loop through all movies is needed)\n",
    "num_ratings = []\n",
    "for movie in movieIds:\n",
    "    index_movie = (ratings_df[\"movieId\"] == movie)\n",
    "    sub_df = ratings_df[index_movie]\n",
    "    num_ratings.append(len(sub_df))\n",
    "print(num_ratings)\n",
    "# 3. find the movie ID that has the maximum number of ratings\n",
    "\n"
   ]
  },
  {
   "cell_type": "code",
   "execution_count": 27,
   "metadata": {},
   "outputs": [
    {
     "name": "stdout",
     "output_type": "stream",
     "text": [
      "329\n",
      "(array([341], dtype=int64),)\n",
      "356\n"
     ]
    }
   ],
   "source": [
    "print(np.max(num_ratings)) # 329\n",
    "idx = np.where(np.array(num_ratings) == 329)\n",
    "print(idx)\n",
    "movieId = movieIds[341]\n",
    "print(movieId)"
   ]
  },
  {
   "cell_type": "code",
   "execution_count": 28,
   "metadata": {},
   "outputs": [
    {
     "data": {
      "text/html": [
       "<div>\n",
       "<style scoped>\n",
       "    .dataframe tbody tr th:only-of-type {\n",
       "        vertical-align: middle;\n",
       "    }\n",
       "\n",
       "    .dataframe tbody tr th {\n",
       "        vertical-align: top;\n",
       "    }\n",
       "\n",
       "    .dataframe thead th {\n",
       "        text-align: right;\n",
       "    }\n",
       "</style>\n",
       "<table border=\"1\" class=\"dataframe\">\n",
       "  <thead>\n",
       "    <tr style=\"text-align: right;\">\n",
       "      <th></th>\n",
       "      <th>movieId</th>\n",
       "      <th>title</th>\n",
       "      <th>genres</th>\n",
       "    </tr>\n",
       "  </thead>\n",
       "  <tbody>\n",
       "    <tr>\n",
       "      <td>314</td>\n",
       "      <td>356</td>\n",
       "      <td>Forrest Gump (1994)</td>\n",
       "      <td>Comedy|Drama|Romance|War</td>\n",
       "    </tr>\n",
       "  </tbody>\n",
       "</table>\n",
       "</div>"
      ],
      "text/plain": [
       "     movieId                title                    genres\n",
       "314      356  Forrest Gump (1994)  Comedy|Drama|Romance|War"
      ]
     },
     "execution_count": 28,
     "metadata": {},
     "output_type": "execute_result"
    }
   ],
   "source": [
    "# Load the movies.csv file as a second data frame movies_df\n",
    "movies_df = pd.read_csv(\"Data/ml-latest-small/movies.csv\", delimiter=\",\")\n",
    "movies_df.head()\n",
    "\n",
    "# Find the name of the movie with highest number of ratings.\n",
    "index = movies_df['movieId'] == 356\n",
    "movies_df[index]"
   ]
  },
  {
   "cell_type": "code",
   "execution_count": 29,
   "metadata": {},
   "outputs": [
    {
     "name": "stdout",
     "output_type": "stream",
     "text": [
      "[47, 7, 6, 0, 3, 24, 2, 1, 2, 10, 11, 1, 0, 3, 1, 14, 19, 4, 3, 0, 9, 3, 2, 3, 17, 0, 2, 3, 8, 1, 2, 45, 0, 27, 0, 13, 0, 0, 10, 1, 1, 0, 0, 1, 3, 1, 52, 4, 0, 71, 0, 3, 2, 0, 0, 0, 1, 12, 0, 3, 1, 20, 0, 0, 1, 0, 1, 1, 4, 6, 0, 0, 0, 2, 0, 3, 0, 0, 1, 0, 1, 4, 0, 4, 4, 0, 2, 0, 1, 0, 0, 1, 6, 0, 1, 0, 2, 0, 5, 1, 0, 14, 1, 0, 3, 0, 1, 80, 32, 8, 0, 0, 0, 2, 0, 0, 0, 0, 0, 2, 1, 3, 0, 0, 0, 0, 0, 1, 0, 0, 1, 7, 0, 0, 2, 0, 1, 0, 1, 45, 7, 0, 7, 1, 0, 0, 1, 3, 0, 3, 14, 5, 11, 1, 23, 1, 0, 8, 0, 3, 2, 2, 2, 2, 4, 4, 0, 0, 0, 1, 0, 0, 0, 8, 2, 1, 4, 0, 1, 1, 2, 1, 6, 1, 0, 0, 3, 1, 0, 0, 0, 3, 0, 0, 0, 4, 2, 0, 0, 0, 0, 3, 0, 7, 7, 1, 2, 0, 0, 0, 4, 23, 4, 6, 1, 0, 1, 2, 14, 5, 0, 0, 9, 6, 2, 1, 0, 0, 1, 0, 0, 0, 0, 13, 4, 2, 3, 0, 0, 4, 10, 0, 1, 2, 3, 0, 0, 104, 8, 2, 0, 13, 7, 2, 0, 0, 1, 1, 9, 2, 0, 0, 2, 5, 0, 0, 5, 3, 4, 0, 1, 0, 0, 0, 12, 2, 5, 0, 10, 35, 0, 0, 123, 0, 2, 9, 0, 0, 1, 1, 1, 6, 5, 5, 0, 0, 0, 0, 0, 3, 2, 11, 7, 153, 5, 0, 0, 2, 1, 0, 1, 1, 1, 1, 8, 0, 0, 1, 14, 2, 0, 0, 16, 1, 12, 0, 6, 2, 0, 12, 3, 0, 1, 7, 13, 5, 1, 0, 13, 0, 1, 116, 14, 0, 0, 0, 0, 7, 0, 40, 0, 2, 12, 6, 0, 4, 1, 1, 0, 1, 2, 2, 26, 0, 0, 24, 2, 2, 2, 0, 0, 1, 0, 0, 0, 1, 0, 0, 0, 1, 0, 0, 1, 6, 0, 0, 0, 0, 1, 0, 0, 1, 0, 3, 1, 0, 0, 0, 4, 0, 2, 2, 0, 0, 0, 0, 0, 0, 0, 3, 0, 1, 5, 2, 0, 6, 1, 0, 0, 0, 0, 3, 10, 5, 0, 0, 0, 0, 3, 0, 0, 0, 0, 0, 0, 11, 0, 1, 46, 0, 0, 0, 0, 0, 4, 1, 1, 0, 0, 7, 0, 0, 9, 9, 0, 0, 0, 0, 40, 1, 0, 1, 3, 0, 1, 0, 0, 0, 3, 2, 1, 5, 0, 1, 8, 1, 0, 15, 1, 1, 0, 0, 6, 0, 8, 9, 0, 0, 0, 0, 4, 4, 2, 1, 0, 1, 5, 0, 0, 0, 5, 0, 92, 0, 7, 1, 1, 0, 0, 2, 3, 0, 0, 3, 8, 0, 46, 1, 5, 0, 1, 0, 0, 0, 0, 1, 12, 5, 15, 1, 15, 0, 0, 0, 1, 3, 0, 0, 0, 0, 0, 0, 0, 1, 0, 0, 0, 1, 0, 0, 0, 6, 16, 35, 64, 35, 17, 92, 10, 31, 7, 10, 3, 0, 0, 0, 0, 0, 57, 1, 4, 1, 0, 2, 0, 3, 0, 0, 1, 1, 1, 5, 1, 0, 1, 0, 0, 0, 1, 0, 0, 1, 0, 0, 0, 3, 20, 0, 1, 1, 2, 0, 0, 3, 8, 2, 1, 0, 0, 1, 0, 1, 1, 4, 1, 3, 1, 0, 0, 0, 0, 0, 1, 1, 0, 0, 0, 0, 0, 0, 0, 0, 0, 0, 0, 0, 0, 0, 1, 3, 1, 0, 1, 0, 3, 0, 1, 0, 12, 0, 3, 6, 0, 0, 1, 0, 0, 0, 0, 17, 0, 0, 17, 3, 7, 0, 0, 14, 0, 1, 36, 0, 0, 0, 0, 0, 1, 2, 0, 0, 1, 0, 0, 0, 0, 0, 24, 1, 26, 0, 1, 3, 5, 5, 5, 0, 4, 0, 0, 0, 0, 0, 1, 1, 1, 8, 1, 5, 0, 1, 4, 0, 0, 0, 1, 13, 1, 0, 0, 0, 0, 1, 0, 0, 0, 0, 1, 0, 1, 4, 0, 0, 0, 2, 9, 1, 2, 0, 1, 0, 0, 0, 2, 0, 1, 0, 0, 1, 88, 2, 0, 0, 6, 0, 0, 0, 0, 0, 0, 0, 1, 0, 1, 2, 0, 0, 1, 0, 1, 0, 0, 0, 2, 1, 0, 1, 0, 0, 0, 13, 14, 1, 1, 8, 17, 32, 0, 3, 6, 20, 6, 13, 5, 41, 10, 8, 1, 5, 7, 3, 26, 10, 1, 10, 22, 34, 0, 8, 0, 5, 0, 5, 2, 3, 9, 1, 1, 2, 0, 1, 3, 0, 2, 1, 0, 2, 0, 2, 1, 0, 1, 6, 0, 20, 5, 5, 0, 0, 0, 0, 0, 2, 9, 10, 0, 3, 0, 0, 1, 0, 0, 0, 0, 0, 1, 1, 0, 0, 0, 0, 0, 4, 0, 1, 0, 0, 0, 0, 0, 0, 0, 0, 0, 1, 0, 1, 0, 0, 0, 1, 0, 1, 2, 0, 3, 3, 1, 3, 16, 1, 11, 3, 0, 5, 2, 0, 1, 21, 29, 0, 0, 0, 0, 6, 4, 0, 0, 2, 2, 0, 4, 0, 1, 0, 0, 0, 0, 2, 0, 6, 8, 3, 0, 1, 2, 1, 0, 1, 0, 0, 27, 3, 2, 19, 23, 1, 0, 0, 9, 0, 4, 1, 1, 45, 17, 0, 1, 4, 4, 3, 4, 28, 0, 1, 9, 5, 10, 2, 0, 1, 0, 0, 1, 0, 0, 0, 0, 0, 0, 1, 3, 1, 0, 4, 0, 5, 0, 3, 1, 0, 0, 0, 51, 0, 0, 1, 0, 3, 18, 1, 2, 0, 0, 0, 0, 0, 0, 1, 14, 0, 4, 1, 1, 6, 4, 0, 9, 1, 2, 3, 1, 6, 1, 0, 1, 2, 41, 3, 80, 55, 69, 23, 38, 24, 1, 18, 21, 0, 36, 19, 45, 7, 65, 4, 10, 40, 36, 15, 0, 7, 4, 21, 17, 48, 28, 9, 5, 25, 1, 4, 15, 0, 19, 6, 2, 12, 15, 10, 1, 7, 3, 0, 23, 4, 12, 7, 9, 7, 20, 24, 6, 8, 20, 2, 19, 5, 2, 0, 6, 5, 29, 21, 2, 8, 0, 12, 10, 32, 11, 12, 1, 4, 49, 1, 16, 3, 11, 12, 18, 3, 18, 2, 1, 2, 12, 7, 6, 9, 4, 8, 15, 2, 1, 31, 6, 4, 1, 2, 3, 3, 6, 10, 3, 1, 9, 3, 17, 0, 0, 17, 0, 1, 0, 0, 2, 1, 0, 0, 0, 0, 0, 2, 0, 0, 0, 0, 1, 3, 1, 0, 0, 0, 0, 3, 0, 0, 0, 3, 2, 1, 0, 3, 1, 1, 3, 0, 0, 0, 2, 0, 22, 6, 11, 1, 0, 1, 0, 1, 0, 1, 3, 4, 1, 5, 1, 12, 1, 7, 1, 1, 2, 4, 0, 0, 0, 0, 1, 0, 31, 1, 0, 0, 9, 1, 9, 18, 3, 1, 0, 5, 0, 0, 0, 0, 0, 3, 1, 8, 9, 1, 1, 6, 0, 0, 0, 0, 1, 0, 0, 0, 0, 0, 0, 0, 0, 0, 0, 0, 2, 0, 0, 0, 0, 0, 1, 1, 0, 0, 2, 0, 0, 2, 0, 0, 5, 0, 1, 0, 0, 0, 0, 1, 0, 0, 1, 0, 4, 1, 0, 0, 0, 4, 0, 2, 0, 2, 0, 3, 0, 1, 0, 0, 0, 0, 0, 1, 0, 1, 10, 0, 0, 0, 0, 0, 0, 0, 1, 0, 0, 0, 0, 0, 11, 1, 0, 0, 0, 0, 16, 0, 1, 1, 0, 0, 0, 1, 1, 1, 0, 0, 0, 0, 0, 1, 0, 0, 0, 0, 0, 0, 0, 0, 0, 1, 0, 2, 0, 0, 2, 2, 1, 0, 9, 0, 15, 0, 0, 0, 17, 0, 0, 5, 0, 0, 1, 1, 0, 0, 2, 2, 1, 1, 0, 0, 0, 0, 0, 0, 0, 0, 0, 0, 3, 0, 18, 1, 0, 0, 0, 0, 2, 25, 0, 2, 2, 0, 0, 0, 0, 10, 0, 1, 0, 0, 1, 0, 1, 4, 9, 8, 7, 0, 1, 0, 6, 0, 0, 0, 0, 0, 0, 0, 19, 0, 0, 0, 0, 2, 0, 0, 0, 0, 8, 0, 1, 0, 0, 0, 0, 0, 0, 10, 5, 0, 7, 0, 1, 0, 3, 0, 12, 3, 1, 0, 1, 2, 0, 0, 1, 0, 0, 1, 0, 0, 1, 1, 2, 1, 0, 34, 0, 0, 5, 0, 1, 0, 2, 0, 7, 4, 17, 3, 0, 1, 1, 0, 2, 0, 0, 32, 2, 3, 1, 0, 0, 0, 0, 3, 7, 0, 3, 2, 1, 0, 0, 0, 0, 0, 0, 0, 0, 0, 0, 0, 0, 0, 0, 0, 0, 0, 0, 0, 0, 2, 0, 1, 0, 13, 1, 0, 2, 0, 0, 0, 2, 0, 0, 0, 2, 0, 1, 0, 0, 0, 0, 2, 0, 0, 0, 0, 0, 0, 0, 0, 0, 0, 0, 0, 0, 0, 0, 2, 2, 1, 0, 0, 0, 0, 0, 3, 0, 0, 0, 0, 0, 0, 0, 0, 0, 0, 0, 1, 0, 0, 0, 2, 1, 0, 0, 0, 3, 12, 1, 0, 0, 1, 0, 0, 0, 0, 0, 1, 0, 0, 0, 1, 0, 4, 4, 0, 0, 9, 0, 0, 3, 8, 0, 0, 0, 6, 0, 15, 1, 0, 0, 4, 0, 0, 1, 0, 0, 1, 1, 0, 0, 3, 0, 0, 1, 0, 1, 8, 0, 10, 0, 3, 3, 1, 8, 6, 12, 2, 4, 3, 5, 1, 3, 12, 2, 0, 2, 1, 1, 10, 22, 0, 0, 0, 0, 0, 2, 0, 0, 0, 0, 1, 0, 0, 7, 0, 0, 0, 0, 0, 0, 0, 0, 0, 0, 0, 1, 0, 0, 12, 0, 1, 9, 1, 2, 2, 0, 6, 3, 0, 1, 0, 4, 10, 6, 1, 0, 0, 0, 0, 4, 14, 6, 2, 1, 6, 0, 1, 0, 0, 61, 0, 0, 1, 0, 1, 0, 0, 0, 0, 0, 0, 0, 0, 0, 0, 0, 0, 1, 1, 0, 1, 0, 0, 0, 0, 0, 2, 0, 0, 8, 2, 1, 7, 1, 1, 0, 0, 2, 1, 0, 1, 10, 0, 11, 1, 6, 10, 0, 4, 1, 1, 0, 3, 0, 0, 1, 0, 0, 0, 3, 0, 0, 1, 0, 0, 2, 0, 0, 0, 0, 1, 1, 0, 3, 2, 2, 0, 0, 0, 2, 11, 2, 2, 3, 1, 0, 0, 0, 0, 3, 2, 1, 0, 0, 0, 1, 2, 2, 1, 1, 3, 1, 3, 1, 1, 3, 3, 0, 0, 6, 1, 0, 0, 1, 0, 9, 2, 0, 0, 0, 1, 0, 0, 2, 9, 5, 1, 0, 0, 0, 0, 4, 0, 0, 0, 1, 0, 4, 0, 1, 0, 0, 0, 0, 0, 0, 1, 1, 1, 6, 0, 0, 0, 0, 0, 0, 6, 11, 1, 0, 1, 1, 0, 3, 2, 1, 0, 1, 0, 1, 0, 0, 0, 0, 0, 0, 0, 0, 4, 2, 0, 4, 2, 1, 3, 0, 1, 0, 9, 2, 0, 0, 0, 0, 1, 0, 1, 0, 0, 1, 0, 1, 0, 0, 0, 0, 0, 0, 6, 1, 0, 0, 0, 2, 1, 0, 6, 0, 0, 0, 1, 0, 0, 1, 14, 11, 1, 4, 0, 0, 2, 1, 0, 2, 0, 9, 2, 6, 1, 0, 0, 0, 0, 0, 0, 0, 2, 2, 1, 0, 0, 6, 0, 6, 0, 1, 35, 1, 1, 0, 33, 1, 0, 0, 1, 0, 0, 3, 0, 1, 0, 0, 1, 1, 0, 0, 1, 0, 1, 0, 2, 5, 6, 0, 10, 0, 2, 0, 2, 4, 0, 0, 0, 0, 0, 5, 1, 0, 0, 0, 2, 1, 0, 0, 2, 1, 0, 1, 1, 1, 1, 1, 0, 1, 0, 2, 0, 0, 2, 3, 0, 2, 4, 13, 19, 0, 4, 0, 0, 1, 0, 3, 0, 0, 1, 0, 0, 2, 0, 2, 0, 0, 0, 1, 0, 0, 0, 0, 2, 1, 0, 6, 2, 0, 0, 7, 0, 0, 0, 2, 0, 0, 0, 0, 3, 0, 0, 0, 0, 0, 1, 0, 1, 1, 0, 0, 0, 4, 0, 1, 0, 2, 0, 1, 0, 1, 0, 1, 0, 0, 3, 1, 0, 0, 0, 1, 2, 1, 2, 0, 0, 0, 0, 2, 1, 6, 0, 0, 0, 0, 1, 0, 0, 0, 0, 4, 22, 0, 0, 0, 0, 1, 2, 1, 1, 0, 0, 0, 0, 1, 0, 0, 1, 0, 1, 0, 0, 0, 0, 12, 2, 1, 1, 1, 0, 0, 0, 0, 1, 0, 2, 19, 0, 0, 0, 0, 1, 0, 0, 2, 1, 0, 0, 0, 0, 0, 0, 0, 0, 0, 1, 3, 0, 0, 1, 0, 109, 8, 0, 0, 1, 0, 0, 1, 0, 10, 1, 1, 3, 0, 0, 0, 0, 0, 0, 0, 1, 2, 0, 0, 11, 0, 3, 1, 2, 0, 0, 0, 0, 0, 1, 0, 0, 1, 7, 0, 0, 0, 21, 1, 0, 1, 0, 1, 0, 11, 0, 0, 0, 0, 0, 0, 6, 1, 0, 0, 0, 0, 0, 0, 3, 0, 0, 0, 1, 0, 0, 9, 0, 0, 0, 0, 0, 2, 0, 0, 0, 1, 6, 0, 0, 0, 0, 1, 0, 0, 14, 5, 3, 0, 5, 1, 0, 11, 0, 2, 0, 1, 0, 0, 1, 17, 0, 7, 1, 1, 0, 12, 1, 0, 1, 6, 0, 9, 0, 0, 21, 1, 0, 0, 1, 0, 0, 2, 1, 0, 1, 0, 1, 0, 1, 2, 2, 0, 0, 0, 0, 0, 0, 2, 0, 0, 0, 0, 0, 1, 1, 0, 0, 0, 0, 0, 0, 0, 0, 0, 0, 1, 0, 10, 36, 4, 1, 0, 0, 0, 0, 1, 2, 1, 1, 0, 0, 0, 0, 0, 0, 0, 0, 0, 0, 0, 0, 5, 0, 0, 22, 3, 0, 0, 0, 3, 12, 0, 0, 0, 0, 0, 1, 18, 0, 1, 0, 1, 0, 0, 2, 0, 1, 0, 0, 0, 0, 0, 3, 0, 0, 6, 1, 1, 0, 0, 0, 0, 0, 0, 1, 0, 1, 0, 1, 1, 3, 0, 1, 0, 0, 1, 0, 0, 0, 65, 1, 0, 0, 0, 2, 0, 0, 0, 2, 0, 0, 0, 4, 6, 0, 0, 0, 0, 0, 1, 0, 1, 0, 0, 0, 0, 0, 1, 0, 1, 5, 1, 0, 0, 0, 0, 0, 0, 0, 1, 0, 2, 0, 0, 0, 1, 2, 4, 0, 3, 5, 11, 2, 18, 1, 3, 0, 4, 2, 1, 0, 0, 0, 0, 0, 1, 0, 3, 2, 0, 1, 0, 1, 1, 1, 5, 0, 0, 6, 6, 3, 0, 5, 0, 3, 1, 0, 0, 0, 81, 0, 0, 0, 0, 1, 0, 8, 0, 1, 0, 1, 2, 0, 0, 0, 0, 0, 0, 0, 1, 0, 0, 0, 3, 1, 11, 0, 1, 2, 3, 0, 1, 0, 0, 0, 23, 13, 0, 0, 0, 0, 0, 1, 0, 0, 0, 0, 0, 0, 0, 0, 0, 0, 4, 2, 0, 4, 1, 0, 0, 0, 0, 0, 6, 0, 1, 4, 4, 2, 2, 1, 9, 5, 2, 0, 0, 0, 3, 1, 1, 1, 0, 0, 0, 11, 2, 0, 0, 0, 0, 5, 0, 3, 2, 0, 0, 0, 0, 1, 1, 6, 3, 4, 1, 5, 0, 2, 1, 0, 0, 0, 0, 1, 4, 6, 7, 1, 1, 3, 5, 2, 0, 0, 1, 0, 1, 1, 1, 1, 0, 6, 3, 0, 0, 3, 0, 2, 2, 8, 0, 0, 0, 0, 0, 19, 1, 1, 0, 0, 0, 0, 0, 0, 0, 0, 0, 0, 0, 0, 2, 0, 0, 0, 0, 0, 0, 0, 0, 0, 28, 2, 0, 4, 2, 2, 1, 1, 0, 2, 8, 0, 0, 1, 0, 0, 1, 0, 0, 0, 3, 12, 4, 0, 2, 0, 0, 1, 0, 0, 0, 0, 1, 0, 0, 0, 0, 0, 0, 0, 0, 2, 0, 2, 4, 0, 1, 0, 0, 1, 0, 4, 1, 0, 1, 0, 1, 1, 3, 0, 0, 0, 1, 1, 1, 0, 0, 1, 0, 2, 4, 1, 0, 0, 1, 0, 2, 6, 2, 2, 0, 1, 1, 0, 2, 2, 1, 0, 0, 3, 4, 2, 0, 0, 0, 0, 0, 1, 1, 1, 6, 1, 0, 1, 0, 0, 0, 0, 0, 0, 0, 0, 0, 0, 2, 2, 0, 0, 1, 4, 1, 0, 1, 0, 3, 1, 0, 1, 1, 0, 0, 1, 2, 0, 0, 0, 0, 1, 0, 6, 0, 0, 0, 2, 0, 2, 1, 0, 0, 2, 0, 0, 0, 0, 1, 0, 3, 2, 2, 7, 6, 5, 0, 2, 0, 0, 0, 0, 0, 0, 2, 1, 2, 0, 1, 0, 0, 0, 0, 0, 0, 0, 3, 1, 2, 0, 0, 0, 0, 0, 3, 0, 0, 5, 0, 0, 0, 0, 0, 0, 0, 0, 25, 5, 0, 15, 0, 0, 5, 0, 0, 0, 0, 4, 0, 0, 0, 0, 0, 7, 1, 0, 0, 0, 0, 2, 0, 0, 0, 0, 0, 0, 8, 0, 3, 6, 1, 0, 0, 0, 0, 0, 0, 0, 0, 2, 1, 1, 0, 7, 2, 2, 11, 2, 0, 1, 2, 3, 0, 0, 0, 8, 0, 1, 4, 0, 2, 1, 0, 2, 6, 0, 0, 1, 4, 4, 2, 0, 3, 6, 0, 3, 0, 0, 0, 0, 0, 0, 0, 0, 0, 1, 1, 2, 10, 0, 0, 0, 1, 2, 1, 12, 1, 1, 1, 0, 0, 3, 0, 0, 1, 0, 2, 1, 1, 13, 0, 0, 1, 3, 0, 0, 1, 0, 0, 0, 0, 1, 0, 0, 0, 0, 0, 0, 0, 0, 43, 0, 0, 0, 0, 0, 9, 0, 0, 0, 1, 0, 0, 2, 0, 0, 0, 1, 0, 0, 0, 0, 0, 1, 1, 0, 0, 1, 1, 2, 2, 0, 0, 2, 2, 0, 0, 1, 0, 0, 0, 1, 1, 0, 1, 0, 1, 1, 1, 0, 0, 0, 0, 0, 0, 0, 1, 1, 1, 1, 0, 0, 0, 0, 0, 0, 0, 3, 0, 0, 12, 2, 1, 0, 1, 1, 1, 2, 0, 0, 8, 1, 6, 0, 2, 0, 1, 1, 0, 0, 0, 0, 0, 0, 0, 0, 2, 3, 0, 0, 2, 4, 13, 2, 0, 0, 0, 0, 0, 0, 0, 0, 0, 0, 0, 0, 2, 0, 0, 0, 0, 0, 1, 0, 0, 0, 3, 0, 1, 5, 1, 0, 0, 0, 1, 0, 0, 0, 1, 6, 2, 0, 0, 0, 1, 1, 1, 0, 1, 0, 8, 0, 4, 1, 0, 2, 0, 0, 0, 0, 5, 0, 0, 0, 0, 0, 0, 0, 0, 0, 0, 0, 0, 0, 1, 0, 0, 1, 1, 7, 1, 1, 5, 0, 0, 0, 0, 0, 1, 0, 17, 0, 1, 0, 0, 3, 0, 1, 0, 0, 0, 0, 0, 2, 0, 1, 1, 1, 4, 1, 0, 1, 1, 0, 3, 1, 1, 1, 0, 0, 0, 0, 2, 0, 0, 0, 0, 4, 1, 0, 0, 0, 1, 0, 1, 0, 1, 0, 0, 1, 1, 1, 0, 0, 1, 0, 0, 0, 3, 0, 0, 0, 0, 3, 3, 2, 0, 0, 0, 0, 1, 0, 0, 0, 0, 0, 1, 0, 1, 0, 0, 0, 11, 0, 0, 0, 0, 0, 2, 0, 0, 0, 6, 6, 0, 1, 0, 0, 8, 1, 2, 0, 0, 0, 0, 3, 0, 0, 1, 0, 0, 0, 1, 0, 0, 0, 0, 1, 0, 1, 1, 0, 1, 5, 0, 0, 6, 25, 0, 0, 0, 1, 0, 0, 0, 0, 1, 0, 0, 0, 0, 0, 0, 3, 0, 3, 0, 7, 0, 0, 0, 1, 1, 0, 1, 0, 0, 4, 1, 0, 0, 0, 1, 0, 0, 0, 0, 1, 6, 0, 21, 0, 0, 0, 0, 0, 6, 0, 0, 1, 1, 0, 0, 0, 25, 0, 0, 3, 6, 3, 1, 0, 3, 0, 2, 11, 2, 5, 0, 17, 1, 0, 0, 0, 1, 13, 0, 0, 1, 0, 1, 0, 3, 0, 0, 0, 0, 1, 0, 1, 0, 0, 1, 0, 0, 1, 1, 0, 1, 0, 0, 0, 0, 1, 0, 0, 0, 0, 0, 0, 0, 1, 0, 0, 0, 0, 1, 0, 0, 2, 0, 0, 0, 1, 0, 0, 0, 2, 2, 0, 0, 4, 2, 0, 0, 0, 0, 0, 0, 1, 1, 0, 0, 0, 0, 0, 0, 0, 4, 0, 0, 0, 0, 0, 0, 1, 0, 0, 3, 0, 1, 3, 0, 0, 0, 1, 0, 0, 0, 0, 0, 0, 1, 0, 0, 0, 1, 1, 1, 0, 0, 0, 1, 0, 0, 0, 0, 0, 0, 0, 1, 0, 0, 0, 0, 0, 0, 0, 0, 0, 1, 0, 0, 0, 0, 0, 0, 0, 0, 1, 0, 0, 0, 0, 0, 0, 0, 0, 0, 0, 5, 0, 3, 0, 1, 42, 0, 0, 0, 1, 0, 0, 6, 0, 0, 0, 7, 0, 0, 0, 0, 8, 0, 0, 0, 0, 0, 0, 0, 0, 1, 0, 0, 11, 0, 0, 0, 0, 0, 1, 1, 0, 0, 1, 0, 0, 0, 0, 0, 0, 0, 1, 0, 0, 1, 0, 0, 0, 2, 0, 1, 0, 0, 30, 0, 11, 10, 0, 0, 0, 0, 0, 0, 0, 4, 0, 0, 1, 0, 0, 2, 0, 0, 3, 0, 0, 0, 0, 0, 0, 0, 0, 1, 0, 1, 0, 1, 0, 0, 0, 1, 0, 0, 2, 0, 0, 1, 1, 0, 3, 3, 0, 1, 0, 0, 0, 1, 0, 2, 1, 0, 0, 0, 0, 0, 0, 2, 1, 0, 0, 0, 0, 0, 0, 1, 0, 0, 1, 0, 0, 2, 0, 2, 0, 2, 0, 8, 0, 0, 1, 0, 0, 0, 1, 0, 0, 0, 0, 1, 1, 1, 0, 0, 1, 1, 0, 0, 3, 1, 0, 1, 0, 0, 0, 0, 1, 2, 2, 0, 0, 0, 1, 0, 0, 0, 0, 1, 0, 0, 0, 0, 0, 0, 0, 0, 0, 0, 2, 0, 0, 0, 0, 0, 0, 0, 0, 0, 0, 0, 0, 1, 0, 0, 1, 0, 0, 1, 0, 0, 0, 0, 0, 0, 3, 0, 1, 0, 0, 0, 0, 0, 0, 0, 1, 0, 0, 0, 0, 0, 1, 0, 0, 0, 0, 0, 0, 0, 0, 0, 1, 0, 0, 0, 0, 1, 0, 0, 0, 1, 0, 0, 0, 0, 0, 0, 0, 0, 1, 0, 0, 0, 7, 0, 0, 0, 0, 0, 1, 0, 0, 0, 0, 0, 0, 0, 0, 0, 0, 0, 0, 0, 2, 0, 0, 0, 0, 0, 0, 0, 0, 0, 0, 0, 0, 0, 2, 0, 0, 0, 0, 0, 1, 0, 0, 0, 0, 0, 0, 0, 0, 1, 0, 0, 1, 0, 1, 2, 4, 1, 0, 0, 0, 1, 1, 0, 0, 0, 0, 0, 0, 0, 0, 0, 0, 0, 0, 0, 0, 0, 0, 0, 1, 0, 0, 0, 0, 0, 0, 0, 0, 0, 0, 0, 0, 0, 0, 0, 1, 2, 1, 0, 0, 0, 0, 1, 0, 0, 0, 0, 1, 0, 0, 0, 0, 4, 0, 6, 0, 0, 0, 0, 0, 0, 1, 0, 0, 0, 0, 0, 2, 0, 0, 0, 0, 0, 0, 0, 0, 0, 0, 0, 0, 0, 9, 0, 0, 0, 0, 0, 0, 1, 0, 0, 0, 0, 0, 0, 0, 0, 0, 0, 4, 0, 0, 0, 0, 0, 0, 0, 0, 0, 0, 1, 1, 1, 2, 0, 0, 1, 0, 0, 0, 1, 0, 0, 0, 0, 0, 0, 0, 0, 0, 1, 0, 0, 0, 1, 0, 0, 6, 0, 0, 0, 1, 0, 2, 0, 0, 0, 0, 0, 0, 0, 0, 0, 0, 0, 2, 0, 0, 0, 0, 1, 0, 10, 0, 0, 0, 2, 1, 0, 0, 0, 0, 3, 0, 0, 0, 0, 0, 0, 2, 2, 0, 0, 25, 0, 2, 2, 0, 0, 16, 0, 0, 0, 1, 0, 15, 0, 0, 0, 2, 0, 0, 0, 0, 0, 1, 2, 1, 0, 0, 1, 0, 0, 1, 0, 0, 1, 0, 0, 0, 0, 0, 0, 0, 0, 1, 0, 0, 2, 0, 0, 0, 0, 0, 0, 1, 0, 0, 0, 0, 0, 1, 0, 0, 1, 0, 0, 0, 2, 2, 10, 1, 2, 0, 3, 0, 1, 0, 0, 0, 0, 43, 0, 4, 1, 1, 10, 1, 0, 0, 0, 0, 0, 0, 1, 0, 0, 0, 62, 1, 21, 0, 0, 0, 0, 0, 2, 0, 6, 0, 0, 4, 2, 0, 0, 0, 0, 0, 0, 3, 0, 0, 0, 2, 0, 1, 0, 2, 1, 0, 0, 0, 0, 1, 1, 0, 0, 0, 0, 1, 11, 1, 0, 4, 1, 3, 0, 1, 0, 0, 0, 2, 0, 0, 1, 0, 0, 0, 0, 0, 0, 0, 0, 0, 0, 1, 0, 0, 0, 0, 0, 0, 0, 0, 0, 4, 0, 0, 0, 0, 0, 4, 0, 0, 0, 0, 0, 0, 0, 0, 0, 2, 0, 0, 0, 0, 0, 2, 0, 1, 1, 0, 0, 0, 0, 1, 0, 0, 0, 0, 0, 0, 0, 0, 0, 1, 0, 0, 0, 0, 1, 0, 0, 0, 0, 0, 0, 0, 0, 0, 0, 0, 0, 0, 4, 0, 0, 0, 1, 0, 5, 0, 0, 0, 0, 0, 0, 0, 1, 0, 1, 0, 1, 0, 0, 0, 1, 2, 0, 0, 0, 0, 0, 1, 0, 0, 1, 7, 0, 0, 0, 0, 1, 1, 0, 1, 1, 0, 0, 1, 1, 3, 2, 7, 0, 1, 0, 0, 1, 5, 0, 0, 0, 1, 0, 0, 0, 0, 1, 0, 0, 0, 0, 0, 0, 0, 0, 0, 0, 0, 0, 0, 1, 1, 1, 0, 0, 0, 0, 1, 0, 0, 0, 0, 0, 0, 10, 0, 0, 0, 0, 0, 0, 0, 0, 0, 0, 0, 0, 1, 1, 0, 4, 5, 1, 1, 0, 0, 0, 1, 0, 0, 1, 1, 0, 0, 0, 1, 0, 0, 0, 0, 0, 0, 1, 0, 1, 0, 2, 0, 0, 0, 1, 1, 13, 2, 1, 0, 0, 0, 0, 0, 0, 0, 0, 1, 0, 0, 0, 0, 0, 0, 0, 0, 0, 2, 9, 0, 0, 0, 1, 1, 0, 0, 0, 0, 0, 0, 0, 0, 0, 0, 0, 0, 0, 3, 0, 2, 0, 1, 1, 0, 0, 0, 0, 0, 0, 1, 0, 0, 1, 2, 0, 0, 1, 1, 0, 0, 1, 1, 0, 0, 0, 1, 0, 2, 0, 1, 0, 0, 0, 0, 0, 0, 0, 0, 0, 1, 0, 0, 1, 1, 0, 0, 0, 1, 0, 1, 0, 0, 0, 0, 0, 0, 0, 2, 1, 0, 0, 2, 0, 0, 0, 0, 0, 0, 0, 1, 0, 0, 0, 0, 0, 0, 0, 0, 1, 0, 0, 2, 0, 0, 1, 0, 0, 0, 0, 0, 0, 0, 0, 0, 0, 0, 0, 0, 0, 1, 0, 0, 0, 0, 0, 0, 1, 0, 1, 0, 0, 0, 0, 0, 0, 0, 0, 0, 2, 23, 0, 1, 2, 0, 1, 0, 0, 0, 0, 0, 3, 0, 0, 0, 0, 0, 1, 0, 0, 0, 0, 1, 0, 2, 0, 0, 0, 0, 0, 2, 0, 0, 4, 0, 0, 0, 6, 0, 0, 0, 0, 0, 1, 0, 0, 0, 0, 0, 0, 0, 5, 0, 0, 0, 0, 0, 0, 0, 0, 0, 0, 0, 0, 0, 0, 0, 0, 0, 1, 1, 0, 1, 0, 0, 0, 0, 0, 0, 1, 1, 2, 0, 0, 0, 0, 0, 1, 0, 1, 0, 0, 0, 0, 0, 0, 1, 0, 0, 0, 0, 0, 1, 0, 0, 1, 0, 1, 0, 0, 0, 0, 0, 0, 1, 0, 0, 0, 0, 0, 0, 0, 0, 0, 0, 2, 1, 0, 12, 0, 0, 0, 0, 0, 0, 0, 0, 2, 0, 0, 0, 0, 0, 0, 0, 0, 1, 0, 0, 0, 0, 0, 1, 1, 0, 0, 0, 1, 0, 0, 0, 1, 1, 0, 0, 0, 1, 1, 1, 0, 0, 0, 0, 2, 0, 0, 9, 6, 0, 3, 1, 0, 0, 1, 0, 1, 0, 0, 1, 0, 0, 0, 0, 0, 0, 0, 1, 0, 0, 0, 0, 0, 2, 0, 0, 0, 1, 1, 49, 0, 1, 1, 4, 1, 0, 0, 0, 0, 0, 0, 0, 0, 0, 0, 9, 0, 0, 0, 1, 0, 0, 0, 0, 0, 0, 0, 18, 0, 8, 3, 0, 2, 9, 0, 9, 0, 1, 0, 0, 0, 0, 1, 0, 0, 0, 0, 0, 21, 0, 1, 0, 0, 0, 0, 0, 0, 0, 0, 0, 0, 0, 0, 0, 0, 0, 0, 1, 0, 0, 1, 0, 0, 0, 1, 0, 0, 0, 0, 0, 0, 2, 0, 0, 0, 0, 1, 0, 0, 0, 0, 0, 1, 0, 0, 0, 0, 0, 0, 0, 0, 1, 0, 0, 0, 0, 0, 0, 0, 0, 0, 0, 0, 0, 0, 0, 0, 3, 0, 0, 0, 1, 0, 0, 0, 0, 0, 0, 0, 0, 0, 2, 0, 0, 1, 2, 1, 0, 0, 0, 0, 0, 1, 0, 0, 0, 0, 0, 0, 0, 0, 0, 0, 0, 3, 0, 0, 0, 0, 0, 0, 0, 0, 0, 0, 1, 0, 0, 0, 0, 0, 0, 0, 0, 0, 0, 0, 0, 1, 0, 0, 0, 0, 0, 0, 0, 1, 0, 0, 0, 0, 0, 0, 0, 0, 1, 0, 0, 3, 0, 0, 0, 0, 0, 0, 0, 1, 0, 0, 0, 1, 0, 0, 1, 0, 0, 1, 0, 0, 0, 0, 0, 0, 0, 0, 0, 1, 0, 0, 0, 0, 1, 0, 10, 0, 0, 0, 0, 0, 0, 0, 0, 0, 0, 0, 2, 0, 0, 0, 4, 0, 0, 0, 2, 8, 0, 0, 1, 1, 0, 3, 0, 1, 0, 22, 2, 0, 2, 0, 0, 0, 3, 0, 0, 0, 0, 0, 1, 0, 0, 1, 0, 0, 2, 0, 0, 0, 0, 0, 0, 0, 0, 1, 0, 0, 0, 1, 2, 0, 0, 0, 0, 0, 0, 0, 0, 0, 4, 1, 0, 0, 0, 0, 0, 0, 1, 1, 0, 0, 0, 1, 0, 0, 0, 8, 0, 0, 0, 0, 0, 0, 0, 0, 0, 0, 0, 0, 0, 0, 0, 0, 0, 0, 0, 0, 5, 0, 18, 0, 0, 0, 0, 0, 0, 1, 1, 0, 0, 0, 0, 0, 0, 0, 0, 0, 0, 0, 0, 0, 1, 0, 0, 0, 0, 0, 0, 0, 0, 0, 6, 0, 0, 0, 0, 0, 0, 0, 0, 0, 0, 0, 0, 2, 0, 0, 0, 0, 0, 0, 0, 0, 0, 0, 0, 1, 2, 0, 1, 0, 0, 0, 0, 0, 0, 2, 1, 3, 1, 0, 0, 0, 0, 0, 1, 0, 0, 1, 0, 0, 0, 0, 0, 0, 0, 0, 0, 0, 1, 0, 0, 0, 2, 0, 0, 0, 0, 1, 0, 2, 0, 0, 0, 0, 0, 1, 0, 0, 0, 0, 0, 0, 1, 0, 0, 0, 4, 0, 0, 0, 0, 0, 0, 0, 0, 0, 0, 2, 0, 0, 18, 0, 1, 0, 0, 0, 0, 0, 0, 0, 0, 1, 1, 0, 0, 0, 0, 0, 0, 0, 0, 0, 0, 2, 0, 1, 0, 0, 1, 0, 1, 0, 0, 0, 0, 1, 0, 0, 0, 0, 0, 0, 0, 0, 1, 0, 2, 0, 0, 0, 2, 0, 0, 0, 0, 2, 0, 0, 0, 0, 0, 0, 7, 0, 0, 0, 0, 0, 0, 0, 0, 2, 0, 0, 1, 0, 0, 0, 1, 0, 0, 0, 0, 0, 0, 0, 0, 2, 0, 0, 0, 0, 0, 3, 4, 0, 0, 0, 2, 0, 0, 1, 20, 0, 0, 0, 0, 0, 0, 0, 0, 0, 1, 2, 0, 0, 0, 1, 1, 0, 0, 0, 0, 0, 0, 0, 0, 0, 0, 0, 0, 0, 6, 0, 5, 1, 0, 0, 5, 0, 1, 1, 0, 0, 3, 0, 0, 0, 1, 0, 0, 0, 0, 1, 0, 0, 0, 0, 0, 0, 1, 0, 0, 0, 0, 0, 0, 0, 0, 0, 0, 0, 0, 0, 1, 0, 0, 1, 0, 0, 0, 0, 2, 0, 0, 0, 2, 1, 0, 0, 0, 0, 1, 0, 0, 0, 0, 0, 3, 0, 0, 0, 0, 0, 0, 1, 2, 0, 0, 0, 7, 0, 0, 1, 0, 0, 0, 0, 0, 0, 0, 2, 0, 1, 0, 0, 0, 0, 0, 1, 0, 0, 0, 0, 0, 0, 0, 0, 0, 0, 0, 0, 0, 0, 0, 0, 0, 0, 1, 0, 0, 0, 0, 0, 0, 0, 1, 0, 0, 0, 0, 1, 0, 1, 0, 1, 0, 0, 0, 0, 0, 0, 0, 0, 3, 0, 0, 0, 0, 1, 0, 6, 0, 0, 0, 0, 0, 4, 0, 0, 0, 0, 0, 0, 0, 1, 0, 0, 0, 0, 3, 1, 0, 0, 0, 0, 0, 1, 0, 0, 0, 0, 1, 0, 0, 0, 4, 9, 0, 0, 0, 53, 0, 1, 2, 1, 0, 0, 1, 0, 0, 0, 0, 0, 0, 0, 0, 3, 0, 2, 0, 2, 0, 0, 0, 0, 0, 0, 0, 0, 0, 0, 0, 0, 0, 0, 0, 1, 4, 1, 0, 0, 0, 0, 0, 0, 0, 0, 0, 0, 0, 0, 0, 0, 0, 0, 1, 0, 0, 0, 0, 0, 0, 2, 0, 0, 4, 0, 1, 0, 0, 0, 0, 0, 0, 0, 0, 1, 0, 1, 0, 0, 1, 0, 4, 0, 0, 0, 0, 0, 0, 0, 0, 0, 0, 0, 0, 0, 0, 0, 0, 0, 0, 1, 0, 0, 0, 4, 0, 0, 0, 0, 0, 0, 0, 0, 0, 0, 0, 0, 0, 1, 0, 0, 0, 0, 0, 0, 0, 2, 33, 0, 0, 0, 0, 0, 0, 4, 0, 3, 0, 0, 0, 0, 0, 1, 2, 0, 0, 0, 0, 6, 0, 0, 0, 0, 0, 0, 0, 0, 0, 0, 19, 2, 0, 0, 0, 1, 3, 0, 0, 0, 0, 3, 0, 0, 0, 0, 3, 0, 0, 15, 0, 0, 0, 0, 9, 1, 0, 1, 1, 0, 0, 0, 0, 1, 0, 0, 0, 0, 0, 0, 0, 0, 1, 0, 0, 1, 0, 0, 0, 1, 0, 1, 0, 0, 1, 1, 0, 0, 0, 0, 0, 0, 0, 0, 0, 1, 0, 0, 0, 0, 0, 0, 1, 0, 2, 0, 0, 0, 0, 0, 0, 0, 0, 0, 0, 0, 0, 0, 0, 0, 0, 1, 0, 0, 0, 0, 0, 0, 0, 0, 0, 0, 0, 0, 1, 1, 0, 0, 0, 1, 0, 1, 1, 0, 0, 0, 0, 0, 0, 0, 1, 0, 0, 0, 4, 1, 1, 0, 0, 0, 0, 0, 1, 1, 0, 0, 0, 0, 0, 0, 0, 0, 0, 0, 0, 0, 0, 2, 0, 0, 0, 0, 0, 0, 0, 0, 0, 4, 0, 0, 0, 0, 0, 0, 1, 0, 0, 0, 0, 1, 0, 0, 0, 0, 1, 0, 0, 0, 0, 2, 0, 0, 0, 0, 0, 0, 0, 0, 0, 0, 0, 0, 0, 0, 0, 0, 0, 0, 0, 1, 0, 0, 0, 0, 0, 0, 3, 0, 1, 0, 0, 0, 0, 0, 0, 1, 0, 1, 0, 0, 0, 2, 0, 0, 0, 0, 0, 0, 0, 0, 1, 0, 2, 0, 0, 0, 9, 2, 0, 0, 0, 0, 0, 0, 0, 0, 0, 0, 0, 0, 0, 0, 0, 0, 0, 0, 0, 0, 2, 0, 0, 0, 0, 0, 0, 1, 0, 0, 0, 0, 1, 0, 0, 0, 0, 0, 0, 0, 1, 4, 0, 0, 0, 0, 0, 0, 0, 0, 0, 0, 0, 0, 0, 0, 0, 0, 2, 0, 1, 0, 0, 1, 0, 0, 0, 0, 0, 2, 0, 0, 0, 0, 0, 0, 0, 0, 1, 0, 0, 0, 0, 9, 0, 0, 0, 0, 1, 0, 0, 0, 0, 0, 3, 0, 0, 0, 0, 0, 0, 1, 10, 0, 0, 0, 0, 1, 12, 0, 1, 1, 1, 0, 0, 3, 0, 0, 0, 0, 0, 0, 0, 0, 0, 0, 4, 0, 0, 0, 0, 0, 0, 0, 0, 0, 0, 0, 0, 0, 0, 0, 0, 0, 0, 0, 0, 0, 0, 2, 0, 0, 1, 14, 0, 0, 0, 0, 0, 0, 0, 0, 0, 0, 0, 0, 0, 0, 0, 0, 0, 0, 1, 0, 0, 0, 1, 1, 0, 0, 0, 8, 0, 0, 0, 0, 1, 0, 0, 1, 0, 0, 0, 0, 0, 0, 0, 0, 0, 1, 0, 0, 0, 0, 0, 0, 0, 0, 0, 0, 0, 1, 0, 1, 0, 0, 0, 0, 3, 0, 7, 0, 0, 0, 0, 0, 0, 0, 0, 0, 0, 13, 1, 0, 4, 1, 2, 0, 0, 0, 0, 0, 12, 0, 0, 0, 0, 0, 0, 0, 1, 0, 0, 0, 0, 0, 0, 0, 0, 0, 0, 0, 0, 0, 0, 1, 1, 0, 1, 0, 1, 1, 1, 0, 1, 1, 0, 0, 0, 0, 0, 0, 0, 0, 0, 0, 0, 0, 1, 4, 0, 0, 0, 0, 0, 1, 1, 4, 4, 0, 0, 0, 0, 1, 0, 0, 1, 0, 0, 1, 0, 0, 0, 1, 0, 0, 0, 0, 0, 0, 0, 0, 0, 1, 0, 0, 0, 0, 0, 1, 0, 0, 0, 1, 0, 0, 0, 1, 2, 0, 2, 20, 0, 0, 0, 0, 0, 0, 0, 0, 1, 1, 0, 0, 2, 0, 5, 0, 0, 0, 0, 13, 0, 0, 0, 0, 0, 0, 0, 0, 0, 0, 0, 0, 0, 0, 0, 7, 5, 0, 0, 1, 0, 0, 0, 2, 1, 0, 0, 11, 0, 1, 0, 0, 1, 1, 1, 0, 1, 0, 1, 0, 0, 0, 0, 0, 0, 0, 0, 3, 0, 0, 0, 0, 0, 0, 1, 0, 0, 0, 0, 0, 0, 2, 0, 0, 1, 0, 0, 1, 1, 0, 0, 0, 0, 0, 1, 1, 0, 0, 0, 0, 1, 0, 0, 0, 0, 0, 0, 0, 0, 0, 0, 1, 0, 0, 0, 0, 0, 1, 0, 1, 1, 0, 0, 0, 2, 0, 2, 0, 0, 0, 0, 0, 0, 0, 0, 1, 0, 0, 0, 0, 1, 0, 0, 0, 0, 0, 0, 0, 0, 0, 0, 0, 1, 0, 0, 0, 0, 0, 0, 0, 0, 0, 0, 1, 0, 0, 0, 0, 0, 1, 1, 0, 0, 1, 0, 0, 1, 1, 0, 0, 0, 0, 0, 0, 0, 0, 0, 0, 0, 1, 0, 1, 0, 0, 0, 1, 0, 0, 0, 0, 0, 0, 0, 1, 0, 0, 0, 0, 1, 0, 0, 0, 0, 0, 1, 0, 1, 1, 0, 0, 0, 0, 0, 0, 0, 0, 0, 0, 0, 1, 0, 1, 0, 3, 2, 0, 0, 0, 0, 0, 0, 0, 0, 0, 0, 0, 0, 0, 0, 0, 0, 1, 0, 0, 0, 0, 1, 0, 0, 0, 0, 0, 0, 1, 11, 0, 0, 0, 0, 0, 0, 1, 0, 0, 5, 0, 0, 0, 0, 0, 0, 1, 0, 0, 0, 0, 1, 0, 0, 0, 0, 1, 0, 0, 0, 0, 0, 0, 0, 0, 0, 0, 0, 0, 0, 0, 0, 1, 0, 0, 0, 0, 0, 0, 0, 0, 0, 0, 1, 0, 0, 1, 0, 0, 0, 0, 0, 0, 0, 0, 1, 0, 0, 0, 8, 0, 0, 0, 0, 0, 0, 0, 0, 0, 0, 0, 0, 0, 0, 0, 0, 0, 0, 0, 0, 22, 0, 0, 0, 0, 0, 0, 0, 0, 0, 0, 0, 0, 0, 1, 0, 1, 0, 0, 0, 0, 1, 0, 1, 0, 4, 0, 0, 10, 1, 5, 0, 6, 0, 0, 0, 1, 0, 1, 0, 0, 0, 0, 0, 0, 0, 0, 0, 0, 0, 1, 0, 0, 1, 0, 1, 0, 0, 1, 0, 0, 0, 0, 0, 0, 0, 0, 0, 0, 0, 1, 0, 0, 0, 0, 0, 0, 0, 0, 0, 0, 6, 7, 0, 0, 1, 1, 0, 0, 1, 0, 0, 0, 0, 0, 0, 0, 0, 0, 0, 0, 3, 0, 0, 2, 0, 0, 0, 0, 0, 0, 0, 1, 0, 0, 0, 0, 2, 0, 0, 0, 0, 1, 0, 0, 0, 0, 0, 1, 0, 0, 1, 0, 0, 0, 0, 0, 0, 0, 1, 0, 0, 2, 1, 1, 0, 0, 0, 0, 0, 0, 0, 1, 0, 0, 0, 0, 0, 0, 0, 0, 0, 0, 1, 0, 1, 0, 0, 0, 0, 0, 0, 0, 0, 0, 0, 0, 0, 0, 1, 0, 1, 0, 0, 0, 0, 0, 0, 0, 0, 1, 0, 0, 0, 0, 0, 3, 0, 0, 0, 0, 0, 0, 0, 0, 0, 0, 0, 0, 0, 0, 0, 1, 0, 1, 0, 0, 0, 0, 0, 3, 0, 1, 0, 2, 0, 1, 0, 0, 0, 0, 0, 0, 0, 0, 0, 0, 0, 0, 0, 2, 1, 1, 0, 0, 1, 7, 0, 1, 0, 14, 0, 0, 0, 0, 0, 0, 5, 0, 0, 0, 0, 0, 0, 1, 0, 0, 0, 0, 0, 0, 0, 0, 0, 0, 0, 0, 0, 0, 0, 0, 0, 2, 1, 0, 0, 0, 1, 0, 0, 0, 0, 0, 0, 0, 0, 0, 0, 6, 0, 0, 0, 2, 0, 0, 0, 0, 0, 0, 0, 0, 0, 0, 5, 0, 0, 0, 41, 1, 0, 0, 0, 1, 0, 0, 0, 0, 0, 0, 0, 0, 0, 0, 0, 1, 4, 0, 1, 0, 0, 0, 0, 0, 0, 0, 0, 0, 12, 1, 1, 0, 2, 3, 1, 0, 0, 0, 4, 0, 0, 3, 0, 0, 0, 0, 0, 0, 0, 0, 0, 0, 0, 0, 0, 0, 0, 0, 0, 0, 0, 0, 0, 0, 0, 0, 0, 0, 0, 0, 8, 0, 0, 1, 0, 2, 1, 0, 4, 1, 0, 0, 0, 8, 5, 0, 0, 0, 0, 0, 1, 9, 0, 0, 0, 0, 0, 0, 1, 0, 0, 0, 3, 0, 0, 0, 0, 0, 0, 1, 1, 0, 13, 0, 0, 1, 0, 0, 1, 0, 1, 0, 0, 0, 1, 0, 0, 1, 0, 0, 1, 0, 0, 0, 0, 0, 0, 0, 0, 0, 0, 0, 7, 0, 0, 0, 0, 0, 0, 0, 0, 0, 0, 0, 1, 7, 0, 0, 0, 1, 0, 0, 0, 1, 0, 0, 0, 1, 0, 0, 2, 0, 0, 0, 0, 0, 0, 0, 0, 0, 0, 0, 0, 0, 0, 0, 0, 0, 0, 0, 0, 0, 0, 0, 0, 0, 0, 0, 0, 0, 0, 5, 1, 0, 0, 0, 0, 0, 0, 0, 0, 0, 1, 2, 1, 0, 0, 0, 0, 0, 0, 0, 0, 0, 0, 4, 0, 0, 0, 0, 0, 0, 0, 0, 0, 0, 0, 0, 1, 1, 0, 0, 0, 2, 0, 0, 0, 1, 1, 0, 1, 0, 0, 1, 0, 5, 1, 0, 12, 0, 0, 0, 0, 0, 0, 0, 0, 0, 0, 0, 26, 0, 0, 0, 0, 0, 0, 0, 0, 0, 0, 0, 0, 0, 0, 0, 1, 0, 0, 0, 0, 0, 0, 1, 0, 0, 1, 3, 0, 0, 0, 0, 0, 0, 1, 0, 0, 0, 0, 12, 17, 0, 1, 1, 0, 5, 0, 0, 0, 1, 0, 0, 0, 1, 0, 1, 0, 0, 0, 0, 1, 1, 1, 0, 0, 0, 0, 0, 0, 0, 1, 1, 1, 0, 1, 0, 0, 0, 13, 0, 1, 1, 0, 0, 11, 1, 4, 0, 0, 1, 0, 2, 0, 0, 0, 0, 0, 0, 1, 0, 0, 0, 0, 0, 0, 0, 0, 0, 0, 0, 15, 0, 1, 0, 0, 0, 0, 0, 1, 1, 0, 0, 0, 0, 0, 1, 0, 0, 0, 0, 0, 0, 0, 1, 0, 0, 0, 1, 0, 0, 3, 0, 2, 0, 1, 4, 0, 0, 0, 0, 0, 1, 0, 0, 0, 0, 0, 2, 1, 0, 0, 0, 0, 0, 0, 0, 1, 0, 0, 0, 0, 0, 0, 0, 1, 0, 0, 0, 0, 1, 0, 0, 0, 0, 1, 0, 0, 0, 0, 0, 0, 2, 0, 0, 0, 0, 8, 0, 0, 0, 0, 0, 0, 0, 0, 0, 0, 0, 5, 0, 0, 1, 0, 0, 0, 0, 0, 0, 6, 0, 0, 0, 0, 0, 0, 0, 0, 4, 1, 0, 0, 0, 0, 0, 0, 0, 0, 0, 0, 0, 1, 0, 0, 0, 0, 0, 0, 0, 0, 0, 0, 0, 0, 0, 0, 0, 0, 0, 0, 0, 0, 0, 0, 0, 0, 0, 0, 1, 0, 0, 0, 0, 0, 0, 1, 12, 0, 0, 0, 0, 0, 0, 0, 0, 0, 1, 0, 0, 0, 0, 1, 0, 1, 0, 0, 1, 0, 0, 0, 0, 0, 0, 0, 0, 1, 0, 0, 0, 0, 0, 0, 1, 0, 1, 0, 0, 0, 0, 0, 12, 7, 1, 0, 1, 0, 0, 2, 0, 0, 0, 0, 0, 3, 4, 0, 0, 0, 0, 0, 0, 0, 0, 0, 0, 0, 0, 0, 0, 0, 1, 0, 3, 0, 0, 0, 0, 0, 0, 0, 0, 0, 0, 0, 0, 0, 1, 0, 1, 0, 1, 0, 1, 0, 11, 0, 0, 0, 1, 0, 0, 0, 2, 0, 0, 1, 0, 0, 0, 1, 0, 0, 0, 0, 0, 0, 0, 0, 0, 0, 0, 0, 0, 0, 2, 0, 3, 0, 0, 0, 0, 0, 0, 0, 1, 0, 0, 0, 0, 0, 0, 1, 0, 0, 0, 0, 0, 0, 0, 0, 0, 3, 0, 0, 0, 0, 0, 0, 3, 0, 0, 1, 0, 0, 0, 0, 4, 0, 0, 0, 0, 0, 0, 0, 1, 0, 3, 0, 0, 0, 0, 0, 0, 0, 0, 0, 0, 1, 0, 0, 0, 0, 0, 0, 1, 0, 0, 0, 0, 0, 2, 0, 0, 2, 0, 0, 0, 0, 0, 0, 0, 0, 0, 0, 0, 0, 0, 0, 0, 0, 0, 0, 1, 0, 0, 1, 0, 0, 0, 0, 0, 0, 0, 1, 0, 0, 0, 0, 0, 2, 0, 0, 0, 1, 0, 1, 4, 0, 0, 0, 0, 0, 0, 0, 0, 1, 0, 0, 0, 0, 0, 0, 0, 0, 1, 2, 3, 0, 0, 0, 0, 0, 0, 2, 0, 0, 0, 0, 1, 0, 0, 0, 0, 0, 0, 0, 0, 0, 0, 0, 0, 0, 0, 1, 0, 1, 0, 0, 1, 3, 0, 0, 0, 0, 0, 1, 1, 0, 0, 0, 1, 0, 0, 0, 0, 0, 0, 1, 0, 0, 0, 0, 0, 0, 0, 0, 0, 0, 0, 0, 1, 0, 0, 1, 0, 0, 0, 0, 1, 1, 0, 0, 1, 0, 0, 1, 3, 0, 0, 3, 1, 2, 0, 1, 5, 3, 0, 0, 0, 0, 0, 0, 0, 0, 2, 0, 0, 0, 1, 0, 4, 0, 0, 0, 0, 0, 0, 0, 0, 0, 0, 0, 0, 1, 0, 1, 0, 0, 0, 0, 1, 1, 0, 0, 0, 0, 0, 0, 0, 0, 0, 4, 10, 1, 2, 0, 0, 1, 4, 0, 0, 0, 2, 4, 0, 0, 0, 1, 1, 1, 0, 0, 0, 3, 0, 0, 4, 0, 3, 0, 0, 0, 10, 0, 0, 0, 0, 0, 0, 0, 1, 0, 0, 0, 0, 2, 5, 1, 10, 0, 0, 0, 0, 0, 1, 1, 0, 0, 0, 0, 0, 0, 0, 0, 1, 0, 0, 2, 0, 0, 0, 2, 0, 0, 0, 0, 0, 0, 0, 0, 0, 0, 2, 0, 0, 0, 1, 0, 0, 1, 0, 0, 5, 6, 2, 0, 0, 0, 1, 0, 1, 0, 0, 0, 0, 0, 0, 0, 0, 1, 1, 0, 0, 0, 0, 0, 1, 0, 3, 0, 0, 2, 0, 0, 0, 0, 0, 0, 0, 0, 9, 0, 0, 0, 0, 0, 0, 1, 0, 0, 0, 0, 4, 0, 0, 1, 0, 1, 0, 0, 0, 0, 0, 0, 10, 5, 4, 1, 0, 0, 0, 4, 0, 1, 1, 0, 0, 0, 0, 0, 0, 0, 0, 0, 0, 0, 0, 0, 0, 0, 0, 0, 0, 1, 0, 0, 0, 1, 1, 0, 2, 0, 3, 0, 0, 0, 7, 0, 0, 0, 0, 1, 11, 0, 0, 0, 0, 0, 0, 0, 0, 3, 0, 0, 0, 1, 0, 1, 1, 0, 0, 1, 0, 0, 0, 0, 1, 0, 0, 0, 0, 1, 0, 0, 0, 0, 0, 1, 1, 0, 0, 0, 1, 1, 0, 0, 0, 0, 0, 0, 0, 0, 0, 0, 0, 0, 0, 1, 9, 0, 0, 0, 0, 0, 0, 4, 1, 0, 1, 0, 0, 0, 0, 0, 0, 0, 1, 0, 0, 0, 0, 0, 1, 2, 0, 2, 0, 0, 0, 7, 0, 0, 0, 0, 0, 0, 0, 0, 0, 0, 0, 0, 0, 1, 1, 1, 0, 13, 0, 2, 1, 0, 2, 0, 0, 0, 0, 0, 0, 1, 0, 0, 4, 0, 0, 0, 1, 0, 0, 0, 3, 0, 0, 0, 10, 0, 5, 0, 0, 0, 4, 1, 0, 4, 0, 15, 1, 2, 4, 4, 5, 3, 3, 1, 3, 0, 0, 0, 0, 0, 0, 0, 0, 0, 2, 0, 0, 0, 0, 0, 0, 0, 0, 0, 0, 0, 0, 0, 0, 0, 0, 0, 0, 0, 0, 0, 1, 0, 10, 2, 0, 0, 0, 0, 1, 0, 0, 0, 0, 0, 0, 0, 0, 0, 0, 0, 0, 0, 0, 1, 0, 0, 0, 0, 0, 0, 0, 0, 0, 0, 0, 0, 0, 0, 0, 0, 1, 1, 0, 0, 0, 1, 0, 0, 0, 1, 0, 0, 0, 0, 1, 0, 0, 0, 0, 0, 0, 0, 0, 2, 0, 0, 1, 0, 0, 0, 0, 0, 1, 0, 0, 0, 0, 0, 1, 0, 0, 0, 0, 0, 0, 0, 0, 0, 0, 0, 0, 1, 0, 0, 0, 0, 0, 0, 0, 0, 0, 0, 0, 0, 0, 0, 2, 0, 0, 1, 0, 0, 0, 49, 0, 0, 0, 0, 0, 1, 0, 0, 0, 0, 0, 0, 1, 0, 0, 0, 0, 0, 0, 0, 0, 1, 1, 0, 0, 1, 0, 0, 0, 0, 0, 0, 0, 1, 1, 0, 0, 0, 0, 0, 3, 0, 17, 0, 1, 0, 0, 0, 3, 0, 1, 0, 0, 0, 0, 0, 0, 0, 0, 0, 0, 0, 0, 1, 0, 1, 1, 1, 0, 0, 0, 0, 1, 0, 0, 0, 0, 1, 0, 9, 0, 0, 0, 0, 0, 1, 1, 0, 0, 1, 0, 0, 0, 0, 0, 0, 0, 1, 1, 0, 0, 0, 1, 0, 0, 0, 0, 0, 0, 0, 1, 0, 5, 0, 0, 0, 0, 0, 0, 0, 1, 0, 0, 0, 2, 0, 0, 0, 0, 0, 0, 0, 0, 0, 0, 0, 0, 0, 0, 1, 0, 0, 0, 0, 0, 0, 0, 0, 1, 0, 0, 0, 0, 0, 0, 0, 0, 0, 1, 0, 0, 0, 1, 0, 0, 0, 0, 0, 0, 0, 0, 0, 0, 1, 0, 0, 0, 0, 0, 0, 0, 0, 0, 0, 0, 0, 0, 0, 2, 0, 0, 0, 0, 0, 0, 0, 0, 0, 0, 0, 0, 1, 0, 0, 0, 0, 0, 11, 1, 0, 1, 0, 0, 0, 0, 0, 0, 0, 0, 0, 0, 0, 1, 0, 0, 0, 6, 0, 0, 1, 0, 3, 0, 0, 0, 0, 0, 0, 0, 0, 0, 0, 2, 0, 0, 0, 1, 1, 0, 0, 0, 0, 0, 0, 0, 0, 1, 0, 0, 0, 0, 0, 14, 0, 0, 0, 0, 0, 0, 0, 0, 0, 0, 0, 0, 0, 0, 1, 0, 0, 0, 0, 0, 0, 0, 0, 0, 2, 0, 0, 0, 0, 0, 0, 1, 1, 1, 0, 0, 0, 1, 0, 0, 0, 1, 0, 0, 0, 0, 0, 0, 0, 0, 0, 0, 1, 0, 0, 0, 0, 1, 0, 1, 0, 0, 0, 0, 0, 0, 0, 0, 0, 0, 5, 0, 0, 0, 0, 0, 4, 0, 0, 0, 0, 0, 1, 0, 0, 0, 0, 1, 0, 0, 0, 1, 0, 0, 0, 0, 0, 0, 0, 0, 0, 2, 0, 0, 0, 0, 0, 1, 0, 0, 0, 0, 0, 0, 0, 0, 0, 0, 0, 0, 27, 1, 1, 0, 1, 0, 0, 1, 1, 0, 0, 0, 1, 0, 0, 0, 0, 0, 1, 0, 2, 0, 0, 0, 0, 0, 0, 0, 0, 0, 0, 0, 0, 1, 0, 0, 0, 0, 0, 1, 0, 0, 0, 0, 1, 0, 1, 0, 0, 0, 0, 0, 0, 1, 0, 0, 1, 0, 0, 0, 0, 0, 0, 0, 4, 0, 0, 0, 0, 0, 0, 1, 0, 0, 0, 1, 0, 0, 0, 0, 0, 0, 0, 0, 0, 0, 0, 0, 0, 1, 0, 0, 0, 0, 0, 0, 1, 1, 1, 0, 1, 0, 1, 0, 0, 0, 0, 0, 0, 0, 1, 0, 0, 0, 0, 0, 0, 0, 0, 0, 10, 0, 0, 1, 1, 0, 0, 0, 0, 0, 0, 1, 1, 0, 1, 0, 0, 1, 2, 0, 0, 0, 0, 0, 0, 0, 0, 1, 0, 0, 0, 0, 0, 1, 0, 0, 0, 0, 0, 0, 0, 0, 0, 0, 0, 0, 0, 0, 1, 0, 0, 0, 0, 8, 0, 0, 1, 3, 0, 0, 3, 0, 0, 0, 1, 0, 0, 1, 0, 0, 0, 0, 0, 0, 0, 0, 0, 0, 0, 1, 0, 0, 0, 0, 0, 0, 1, 1, 0, 0, 0, 0, 0, 0, 0, 0, 4, 1, 0, 0, 0, 0, 4, 0, 7, 0, 0, 0, 0, 0, 0, 3, 0, 0, 0, 0, 0, 0, 0, 0, 0, 5, 0, 0, 0, 0, 0, 0, 0, 0, 0, 0, 0, 0, 0, 4, 0, 0, 0, 0, 0, 0, 1, 0, 0, 0, 0, 0, 0, 0, 0, 0, 0, 0, 1, 3, 1, 0, 0, 0, 0, 1, 2, 1, 0, 0, 0, 0, 0, 0, 0, 0, 0, 0, 0, 0, 0, 0, 0, 0, 0, 0, 0, 0, 0, 0, 0, 0, 0, 0, 0, 0, 0, 0, 0, 0, 0, 0, 0, 1, 1, 0, 0, 0, 0, 1, 0, 0, 0, 1, 0, 0, 2, 0, 0, 0, 0, 0, 1, 0, 0, 0, 0, 0, 5, 0, 0, 0, 0, 1, 0, 0, 0, 0, 0, 0, 1, 0, 0, 0, 4, 1, 1, 0, 0, 0, 0, 0, 0, 0, 0, 1, 0, 0, 0, 0, 2, 0, 1, 0, 0, 0, 0, 0, 0, 1, 0, 0, 0, 0, 0, 0, 0, 0, 0, 0, 0, 0, 0, 0, 0, 0, 0, 0, 1, 0, 0, 1, 0, 0, 0, 0, 0, 0, 0, 0, 0, 0, 0, 1, 0, 0, 0, 0, 0, 0, 0, 0, 0, 0, 0, 0, 0, 2, 0, 0, 0, 0, 0, 0, 0, 2, 0, 0, 0, 0, 1, 0, 0, 1, 0, 0, 0, 0, 0, 0, 0, 0, 0, 2, 0, 0, 2, 0, 0, 0, 0, 0, 0, 0, 0, 0, 0, 0, 1, 13, 1, 0, 0, 0, 0, 0, 0, 0, 0, 0, 0, 0, 0, 0, 0, 0, 0, 0, 0, 1, 0, 0, 0, 0, 5, 0, 0, 0, 0, 0, 0, 0, 0, 0, 0, 1, 0, 0, 0, 1, 0, 0, 0, 0, 4, 0, 0, 1, 0, 0, 0, 5, 0, 0, 0, 1, 3, 1, 1, 0, 0, 0, 1, 0, 0, 0, 0, 0, 0, 0, 0, 0, 0, 0, 0, 0, 1, 0, 0, 0, 0, 0, 0, 0, 0, 0, 0, 0, 0, 0, 0, 0, 0, 0, 0, 0, 0, 0, 1, 1, 0, 1, 1, 5, 0, 0, 0, 0, 1, 0, 0, 1, 0, 0, 0, 0, 0, 0, 0, 0, 0, 0, 1, 0, 3, 1, 0, 0, 1, 0, 0, 0, 0, 0, 0, 1, 1, 0, 0, 5, 2, 1, 0, 0, 2, 1, 0, 0, 0, 0, 3, 0, 0, 1, 0, 0, 0, 3, 0, 0, 0, 0, 0, 1, 0, 0, 0, 0, 0, 0, 0, 0, 0, 0, 0, 1, 0, 1, 0, 1, 0, 0, 0, 0, 0, 0, 0, 0, 0, 0, 0, 0, 0, 10, 0, 0, 0, 0, 1, 0, 0, 0, 3, 0, 0, 0, 0, 1, 1, 0, 0, 0, 0, 0, 4, 0, 1, 0, 0, 0, 0, 1, 4, 0, 0, 0, 0, 4, 0, 0, 0, 0, 0, 0, 0, 0, 0, 1, 0, 0, 0, 1, 0, 0, 0, 0, 0, 0, 1, 1, 0, 0, 0, 3, 0, 0, 0, 0, 0, 0, 0, 0, 0, 0, 1, 2, 0, 3, 0, 0, 1, 0, 1, 0, 0, 0, 0, 0, 0, 0, 0, 0, 0, 1, 0, 0, 0, 0, 0, 0, 0, 1, 0, 0, 0, 0, 0, 1, 0, 0, 1, 0, 0, 0, 2, 0, 4, 1, 1, 0, 0, 2, 0, 1, 0, 0, 0, 0, 0, 0, 0, 0, 1, 1, 0, 5, 0, 0, 0, 0, 0, 1, 0, 0, 0, 0, 0, 1, 0, 0, 12, 1, 0, 0, 0, 0, 0, 2, 0, 0, 0, 0, 0, 0, 0, 1, 0, 0, 0, 1, 0, 0, 2, 1, 0, 0, 0, 1, 0, 2, 0]\n"
     ]
    }
   ],
   "source": [
    "# Which movie received the largest amount of 5.0?\n",
    "\n",
    "# 1. extract the 5.0 ratings\n",
    "index = (ratings_df['rating'] == 5.0)\n",
    "ratings_5 = ratings_df[index]\n",
    "ratings_5.head()\n",
    "# ratings_t = ratings_df[ratings_df['rating'] == 5.0]\n",
    "\n",
    "# 2. For each movieId, find the number of 5.0 ratings.\n",
    "movieIds = set(ratings_df[\"movieId\"])\n",
    "\n",
    "all_numRatings = []\n",
    "\n",
    "for Id in movieIds:\n",
    "    index = (ratings_5['movieId'] == Id)\n",
    "    ratings_5_id = ratings_5[index]  # gives the subset of 5.0 ratings to this movie\n",
    "    numRatings = len(ratings_5_id)\n",
    "    all_numRatings.append(numRatings)\n",
    "print(all_numRatings)\n"
   ]
  },
  {
   "cell_type": "code",
   "execution_count": 30,
   "metadata": {
    "scrolled": true
   },
   "outputs": [
    {
     "name": "stdout",
     "output_type": "stream",
     "text": [
      "153\n",
      "303\n",
      "318\n"
     ]
    },
    {
     "data": {
      "text/html": [
       "<div>\n",
       "<style scoped>\n",
       "    .dataframe tbody tr th:only-of-type {\n",
       "        vertical-align: middle;\n",
       "    }\n",
       "\n",
       "    .dataframe tbody tr th {\n",
       "        vertical-align: top;\n",
       "    }\n",
       "\n",
       "    .dataframe thead th {\n",
       "        text-align: right;\n",
       "    }\n",
       "</style>\n",
       "<table border=\"1\" class=\"dataframe\">\n",
       "  <thead>\n",
       "    <tr style=\"text-align: right;\">\n",
       "      <th></th>\n",
       "      <th>movieId</th>\n",
       "      <th>title</th>\n",
       "      <th>genres</th>\n",
       "    </tr>\n",
       "  </thead>\n",
       "  <tbody>\n",
       "    <tr>\n",
       "      <td>277</td>\n",
       "      <td>318</td>\n",
       "      <td>Shawshank Redemption, The (1994)</td>\n",
       "      <td>Crime|Drama</td>\n",
       "    </tr>\n",
       "  </tbody>\n",
       "</table>\n",
       "</div>"
      ],
      "text/plain": [
       "     movieId                             title       genres\n",
       "277      318  Shawshank Redemption, The (1994)  Crime|Drama"
      ]
     },
     "execution_count": 30,
     "metadata": {},
     "output_type": "execute_result"
    }
   ],
   "source": [
    "# Find the name of the movie\n",
    "# Solution 1:\n",
    "maxRatings = np.max(all_numRatings)\n",
    "print(maxRatings)\n",
    "# idx = np.where(np.array(all_numRatings) == 153)\n",
    "idx = all_numRatings.index(maxRatings)\n",
    "print(idx)\n",
    "movieId = list(movieIds)[idx] # need to convert from set to list\n",
    "print(movieId)\n",
    "\n",
    "index = movies_df['movieId'] == 318\n",
    "movies_df[index]"
   ]
  },
  {
   "cell_type": "code",
   "execution_count": 31,
   "metadata": {
    "scrolled": true
   },
   "outputs": [
    {
     "name": "stdout",
     "output_type": "stream",
     "text": [
      "303\n",
      "318\n"
     ]
    },
    {
     "data": {
      "text/html": [
       "<div>\n",
       "<style scoped>\n",
       "    .dataframe tbody tr th:only-of-type {\n",
       "        vertical-align: middle;\n",
       "    }\n",
       "\n",
       "    .dataframe tbody tr th {\n",
       "        vertical-align: top;\n",
       "    }\n",
       "\n",
       "    .dataframe thead th {\n",
       "        text-align: right;\n",
       "    }\n",
       "</style>\n",
       "<table border=\"1\" class=\"dataframe\">\n",
       "  <thead>\n",
       "    <tr style=\"text-align: right;\">\n",
       "      <th></th>\n",
       "      <th>movieId</th>\n",
       "      <th>title</th>\n",
       "      <th>genres</th>\n",
       "    </tr>\n",
       "  </thead>\n",
       "  <tbody>\n",
       "    <tr>\n",
       "      <td>277</td>\n",
       "      <td>318</td>\n",
       "      <td>Shawshank Redemption, The (1994)</td>\n",
       "      <td>Crime|Drama</td>\n",
       "    </tr>\n",
       "  </tbody>\n",
       "</table>\n",
       "</div>"
      ],
      "text/plain": [
       "     movieId                             title       genres\n",
       "277      318  Shawshank Redemption, The (1994)  Crime|Drama"
      ]
     },
     "execution_count": 31,
     "metadata": {},
     "output_type": "execute_result"
    }
   ],
   "source": [
    "# Solution 2: use argsort to find the index directly\n",
    "idx = np.argsort(all_numRatings)[-1]\n",
    "print(idx)\n",
    "movieId = list(movieIds)[idx]\n",
    "print(movieId)\n",
    "index = movies_df['movieId'] == movieId\n",
    "movies_df[index]"
   ]
  },
  {
   "cell_type": "code",
   "execution_count": 32,
   "metadata": {},
   "outputs": [],
   "source": [
    "# Which five movie has the highest average rating?\n",
    "\n",
    "\n",
    "# Find the name of the movies\n",
    "\n",
    "\n",
    "# How many ratings do these movies receive?\n",
    "\n",
    "\n"
   ]
  },
  {
   "cell_type": "markdown",
   "metadata": {},
   "source": [
    "## 3. Working with multiple data frames"
   ]
  },
  {
   "cell_type": "code",
   "execution_count": 33,
   "metadata": {},
   "outputs": [
    {
     "data": {
      "text/html": [
       "<div>\n",
       "<style scoped>\n",
       "    .dataframe tbody tr th:only-of-type {\n",
       "        vertical-align: middle;\n",
       "    }\n",
       "\n",
       "    .dataframe tbody tr th {\n",
       "        vertical-align: top;\n",
       "    }\n",
       "\n",
       "    .dataframe thead th {\n",
       "        text-align: right;\n",
       "    }\n",
       "</style>\n",
       "<table border=\"1\" class=\"dataframe\">\n",
       "  <thead>\n",
       "    <tr style=\"text-align: right;\">\n",
       "      <th></th>\n",
       "      <th>movieId</th>\n",
       "      <th>title</th>\n",
       "      <th>genres</th>\n",
       "    </tr>\n",
       "  </thead>\n",
       "  <tbody>\n",
       "    <tr>\n",
       "      <td>0</td>\n",
       "      <td>1</td>\n",
       "      <td>Toy Story (1995)</td>\n",
       "      <td>Adventure|Animation|Children|Comedy|Fantasy</td>\n",
       "    </tr>\n",
       "    <tr>\n",
       "      <td>1</td>\n",
       "      <td>2</td>\n",
       "      <td>Jumanji (1995)</td>\n",
       "      <td>Adventure|Children|Fantasy</td>\n",
       "    </tr>\n",
       "    <tr>\n",
       "      <td>2</td>\n",
       "      <td>3</td>\n",
       "      <td>Grumpier Old Men (1995)</td>\n",
       "      <td>Comedy|Romance</td>\n",
       "    </tr>\n",
       "  </tbody>\n",
       "</table>\n",
       "</div>"
      ],
      "text/plain": [
       "   movieId                    title  \\\n",
       "0        1         Toy Story (1995)   \n",
       "1        2           Jumanji (1995)   \n",
       "2        3  Grumpier Old Men (1995)   \n",
       "\n",
       "                                        genres  \n",
       "0  Adventure|Animation|Children|Comedy|Fantasy  \n",
       "1                   Adventure|Children|Fantasy  \n",
       "2                               Comedy|Romance  "
      ]
     },
     "execution_count": 33,
     "metadata": {},
     "output_type": "execute_result"
    }
   ],
   "source": [
    "movies_df = pd.read_csv(\"../../Data/ml-latest-small/movies.csv\", delimiter=\",\")\n",
    "movies_df.head(3)"
   ]
  },
  {
   "cell_type": "code",
   "execution_count": 34,
   "metadata": {
    "scrolled": false
   },
   "outputs": [
    {
     "name": "stdout",
     "output_type": "stream",
     "text": [
      "1\n",
      "3.9209302325581397\n"
     ]
    },
    {
     "data": {
      "text/html": [
       "<div>\n",
       "<style scoped>\n",
       "    .dataframe tbody tr th:only-of-type {\n",
       "        vertical-align: middle;\n",
       "    }\n",
       "\n",
       "    .dataframe tbody tr th {\n",
       "        vertical-align: top;\n",
       "    }\n",
       "\n",
       "    .dataframe thead th {\n",
       "        text-align: right;\n",
       "    }\n",
       "</style>\n",
       "<table border=\"1\" class=\"dataframe\">\n",
       "  <thead>\n",
       "    <tr style=\"text-align: right;\">\n",
       "      <th></th>\n",
       "      <th>movieId</th>\n",
       "      <th>title</th>\n",
       "      <th>genres</th>\n",
       "      <th>avgRating</th>\n",
       "    </tr>\n",
       "  </thead>\n",
       "  <tbody>\n",
       "    <tr>\n",
       "      <td>0</td>\n",
       "      <td>1</td>\n",
       "      <td>Toy Story (1995)</td>\n",
       "      <td>Adventure|Animation|Children|Comedy|Fantasy</td>\n",
       "      <td>3.92093</td>\n",
       "    </tr>\n",
       "    <tr>\n",
       "      <td>1</td>\n",
       "      <td>2</td>\n",
       "      <td>Jumanji (1995)</td>\n",
       "      <td>Adventure|Children|Fantasy</td>\n",
       "      <td>NaN</td>\n",
       "    </tr>\n",
       "    <tr>\n",
       "      <td>2</td>\n",
       "      <td>3</td>\n",
       "      <td>Grumpier Old Men (1995)</td>\n",
       "      <td>Comedy|Romance</td>\n",
       "      <td>NaN</td>\n",
       "    </tr>\n",
       "    <tr>\n",
       "      <td>3</td>\n",
       "      <td>4</td>\n",
       "      <td>Waiting to Exhale (1995)</td>\n",
       "      <td>Comedy|Drama|Romance</td>\n",
       "      <td>NaN</td>\n",
       "    </tr>\n",
       "    <tr>\n",
       "      <td>4</td>\n",
       "      <td>5</td>\n",
       "      <td>Father of the Bride Part II (1995)</td>\n",
       "      <td>Comedy</td>\n",
       "      <td>NaN</td>\n",
       "    </tr>\n",
       "  </tbody>\n",
       "</table>\n",
       "</div>"
      ],
      "text/plain": [
       "   movieId                               title  \\\n",
       "0        1                    Toy Story (1995)   \n",
       "1        2                      Jumanji (1995)   \n",
       "2        3             Grumpier Old Men (1995)   \n",
       "3        4            Waiting to Exhale (1995)   \n",
       "4        5  Father of the Bride Part II (1995)   \n",
       "\n",
       "                                        genres  avgRating  \n",
       "0  Adventure|Animation|Children|Comedy|Fantasy    3.92093  \n",
       "1                   Adventure|Children|Fantasy        NaN  \n",
       "2                               Comedy|Romance        NaN  \n",
       "3                         Comedy|Drama|Romance        NaN  \n",
       "4                                       Comedy        NaN  "
      ]
     },
     "execution_count": 34,
     "metadata": {},
     "output_type": "execute_result"
    }
   ],
   "source": [
    "# Create a \"AvgRating\" column: for each movie, fill in its average rating\n",
    "\n",
    "# Example: Find the average rating for the first movie\n",
    "movieId = movies_df.loc[0, 'movieId']\n",
    "print(movieId)\n",
    "index = (ratings_df['movieId'] == movieId)\n",
    "ratings_movie = ratings_df[index]\n",
    "ratings_movie.head()\n",
    "avgRating = np.mean(ratings_movie['rating'])\n",
    "print(avgRating)\n",
    "movies_df.loc[0, 'avgRating'] = avgRating # = findAvgRating(0)\n",
    "movies_df.head()"
   ]
  },
  {
   "cell_type": "code",
   "execution_count": 35,
   "metadata": {
    "scrolled": true
   },
   "outputs": [
    {
     "data": {
      "text/html": [
       "<div>\n",
       "<style scoped>\n",
       "    .dataframe tbody tr th:only-of-type {\n",
       "        vertical-align: middle;\n",
       "    }\n",
       "\n",
       "    .dataframe tbody tr th {\n",
       "        vertical-align: top;\n",
       "    }\n",
       "\n",
       "    .dataframe thead th {\n",
       "        text-align: right;\n",
       "    }\n",
       "</style>\n",
       "<table border=\"1\" class=\"dataframe\">\n",
       "  <thead>\n",
       "    <tr style=\"text-align: right;\">\n",
       "      <th></th>\n",
       "      <th>movieId</th>\n",
       "      <th>title</th>\n",
       "      <th>genres</th>\n",
       "      <th>avgRating</th>\n",
       "    </tr>\n",
       "  </thead>\n",
       "  <tbody>\n",
       "    <tr>\n",
       "      <td>0</td>\n",
       "      <td>1</td>\n",
       "      <td>Toy Story (1995)</td>\n",
       "      <td>Adventure|Animation|Children|Comedy|Fantasy</td>\n",
       "      <td>3.920930</td>\n",
       "    </tr>\n",
       "    <tr>\n",
       "      <td>1</td>\n",
       "      <td>2</td>\n",
       "      <td>Jumanji (1995)</td>\n",
       "      <td>Adventure|Children|Fantasy</td>\n",
       "      <td>3.431818</td>\n",
       "    </tr>\n",
       "    <tr>\n",
       "      <td>2</td>\n",
       "      <td>3</td>\n",
       "      <td>Grumpier Old Men (1995)</td>\n",
       "      <td>Comedy|Romance</td>\n",
       "      <td>3.259615</td>\n",
       "    </tr>\n",
       "    <tr>\n",
       "      <td>3</td>\n",
       "      <td>4</td>\n",
       "      <td>Waiting to Exhale (1995)</td>\n",
       "      <td>Comedy|Drama|Romance</td>\n",
       "      <td>2.357143</td>\n",
       "    </tr>\n",
       "    <tr>\n",
       "      <td>4</td>\n",
       "      <td>5</td>\n",
       "      <td>Father of the Bride Part II (1995)</td>\n",
       "      <td>Comedy</td>\n",
       "      <td>3.071429</td>\n",
       "    </tr>\n",
       "  </tbody>\n",
       "</table>\n",
       "</div>"
      ],
      "text/plain": [
       "   movieId                               title  \\\n",
       "0        1                    Toy Story (1995)   \n",
       "1        2                      Jumanji (1995)   \n",
       "2        3             Grumpier Old Men (1995)   \n",
       "3        4            Waiting to Exhale (1995)   \n",
       "4        5  Father of the Bride Part II (1995)   \n",
       "\n",
       "                                        genres  avgRating  \n",
       "0  Adventure|Animation|Children|Comedy|Fantasy   3.920930  \n",
       "1                   Adventure|Children|Fantasy   3.431818  \n",
       "2                               Comedy|Romance   3.259615  \n",
       "3                         Comedy|Drama|Romance   2.357143  \n",
       "4                                       Comedy   3.071429  "
      ]
     },
     "execution_count": 35,
     "metadata": {},
     "output_type": "execute_result"
    }
   ],
   "source": [
    "# Define a function findAvgRating(int) to calculate the average\n",
    "# rating for a particular row index\n",
    "def findAvgRating(idx):\n",
    "    movieId = movies_df.loc[idx, 'movieId']\n",
    "    index = (ratings_df['movieId'] == movieId)\n",
    "    ratings_movie = ratings_df[index]\n",
    "    avgRating = np.mean(ratings_movie['rating'])\n",
    "    return avgRating\n",
    "    \n",
    "# movies_df.loc[1, 'avgRating'] = findAvgRating(1)\n",
    "# movies_df.loc[2, 'avgRating'] = findAvgRating(2)\n",
    "movies_df['avgRating'] = pd.Series(movies_df.index).apply(findAvgRating)\n",
    "movies_df.head()"
   ]
  },
  {
   "cell_type": "code",
   "execution_count": 36,
   "metadata": {},
   "outputs": [
    {
     "data": {
      "text/html": [
       "<div>\n",
       "<style scoped>\n",
       "    .dataframe tbody tr th:only-of-type {\n",
       "        vertical-align: middle;\n",
       "    }\n",
       "\n",
       "    .dataframe tbody tr th {\n",
       "        vertical-align: top;\n",
       "    }\n",
       "\n",
       "    .dataframe thead th {\n",
       "        text-align: right;\n",
       "    }\n",
       "</style>\n",
       "<table border=\"1\" class=\"dataframe\">\n",
       "  <thead>\n",
       "    <tr style=\"text-align: right;\">\n",
       "      <th></th>\n",
       "      <th>movieId</th>\n",
       "      <th>title</th>\n",
       "      <th>genres</th>\n",
       "      <th>avgRating</th>\n",
       "    </tr>\n",
       "  </thead>\n",
       "  <tbody>\n",
       "    <tr>\n",
       "      <td>7656</td>\n",
       "      <td>88448</td>\n",
       "      <td>Paper Birds (Pájaros de papel) (2010)</td>\n",
       "      <td>Comedy|Drama</td>\n",
       "      <td>5.0</td>\n",
       "    </tr>\n",
       "    <tr>\n",
       "      <td>8107</td>\n",
       "      <td>100556</td>\n",
       "      <td>Act of Killing, The (2012)</td>\n",
       "      <td>Documentary</td>\n",
       "      <td>5.0</td>\n",
       "    </tr>\n",
       "    <tr>\n",
       "      <td>9083</td>\n",
       "      <td>143031</td>\n",
       "      <td>Jump In! (2007)</td>\n",
       "      <td>Comedy|Drama|Romance</td>\n",
       "      <td>5.0</td>\n",
       "    </tr>\n",
       "    <tr>\n",
       "      <td>9094</td>\n",
       "      <td>143511</td>\n",
       "      <td>Human (2015)</td>\n",
       "      <td>Documentary</td>\n",
       "      <td>5.0</td>\n",
       "    </tr>\n",
       "    <tr>\n",
       "      <td>9096</td>\n",
       "      <td>143559</td>\n",
       "      <td>L.A. Slasher (2015)</td>\n",
       "      <td>Comedy|Crime|Fantasy</td>\n",
       "      <td>5.0</td>\n",
       "    </tr>\n",
       "    <tr>\n",
       "      <td>4251</td>\n",
       "      <td>6201</td>\n",
       "      <td>Lady Jane (1986)</td>\n",
       "      <td>Drama|Romance</td>\n",
       "      <td>5.0</td>\n",
       "    </tr>\n",
       "    <tr>\n",
       "      <td>8154</td>\n",
       "      <td>102217</td>\n",
       "      <td>Bill Hicks: Revelations (1993)</td>\n",
       "      <td>Comedy</td>\n",
       "      <td>5.0</td>\n",
       "    </tr>\n",
       "    <tr>\n",
       "      <td>8148</td>\n",
       "      <td>102084</td>\n",
       "      <td>Justice League: Doom (2012)</td>\n",
       "      <td>Action|Animation|Fantasy</td>\n",
       "      <td>5.0</td>\n",
       "    </tr>\n",
       "    <tr>\n",
       "      <td>4246</td>\n",
       "      <td>6192</td>\n",
       "      <td>Open Hearts (Elsker dig for evigt) (2002)</td>\n",
       "      <td>Romance</td>\n",
       "      <td>5.0</td>\n",
       "    </tr>\n",
       "    <tr>\n",
       "      <td>9122</td>\n",
       "      <td>145994</td>\n",
       "      <td>Formula of Love (1984)</td>\n",
       "      <td>Comedy</td>\n",
       "      <td>5.0</td>\n",
       "    </tr>\n",
       "    <tr>\n",
       "      <td>8115</td>\n",
       "      <td>100906</td>\n",
       "      <td>Maniac Cop 2 (1990)</td>\n",
       "      <td>Action|Horror|Thriller</td>\n",
       "      <td>5.0</td>\n",
       "    </tr>\n",
       "    <tr>\n",
       "      <td>9129</td>\n",
       "      <td>146662</td>\n",
       "      <td>Dragons: Gift of the Night Fury (2011)</td>\n",
       "      <td>Adventure|Animation|Comedy</td>\n",
       "      <td>5.0</td>\n",
       "    </tr>\n",
       "    <tr>\n",
       "      <td>8074</td>\n",
       "      <td>99636</td>\n",
       "      <td>English Vinglish (2012)</td>\n",
       "      <td>Comedy|Drama</td>\n",
       "      <td>5.0</td>\n",
       "    </tr>\n",
       "    <tr>\n",
       "      <td>5785</td>\n",
       "      <td>31522</td>\n",
       "      <td>Marriage of Maria Braun, The (Ehe der Maria Br...</td>\n",
       "      <td>Drama</td>\n",
       "      <td>5.0</td>\n",
       "    </tr>\n",
       "    <tr>\n",
       "      <td>9131</td>\n",
       "      <td>146684</td>\n",
       "      <td>Cosmic Scrat-tastrophe (2015)</td>\n",
       "      <td>Animation|Children|Comedy</td>\n",
       "      <td>5.0</td>\n",
       "    </tr>\n",
       "    <tr>\n",
       "      <td>9137</td>\n",
       "      <td>147196</td>\n",
       "      <td>The Girls (1961)</td>\n",
       "      <td>Comedy|Romance</td>\n",
       "      <td>5.0</td>\n",
       "    </tr>\n",
       "    <tr>\n",
       "      <td>9138</td>\n",
       "      <td>147250</td>\n",
       "      <td>The Adventures of Sherlock Holmes and Doctor W...</td>\n",
       "      <td>(no genres listed)</td>\n",
       "      <td>5.0</td>\n",
       "    </tr>\n",
       "    <tr>\n",
       "      <td>9140</td>\n",
       "      <td>147286</td>\n",
       "      <td>The Adventures of Sherlock Holmes and Doctor W...</td>\n",
       "      <td>Crime|Mystery</td>\n",
       "      <td>5.0</td>\n",
       "    </tr>\n",
       "    <tr>\n",
       "      <td>9141</td>\n",
       "      <td>147300</td>\n",
       "      <td>Adventures Of Sherlock Holmes And Dr. Watson: ...</td>\n",
       "      <td>Crime|Mystery</td>\n",
       "      <td>5.0</td>\n",
       "    </tr>\n",
       "    <tr>\n",
       "      <td>9142</td>\n",
       "      <td>147326</td>\n",
       "      <td>The Adventures of Sherlock Holmes and Doctor W...</td>\n",
       "      <td>Crime|Mystery</td>\n",
       "      <td>5.0</td>\n",
       "    </tr>\n",
       "  </tbody>\n",
       "</table>\n",
       "</div>"
      ],
      "text/plain": [
       "      movieId                                              title  \\\n",
       "7656    88448              Paper Birds (Pájaros de papel) (2010)   \n",
       "8107   100556                         Act of Killing, The (2012)   \n",
       "9083   143031                                    Jump In! (2007)   \n",
       "9094   143511                                       Human (2015)   \n",
       "9096   143559                                L.A. Slasher (2015)   \n",
       "4251     6201                                   Lady Jane (1986)   \n",
       "8154   102217                     Bill Hicks: Revelations (1993)   \n",
       "8148   102084                       Justice League: Doom (2012)    \n",
       "4246     6192          Open Hearts (Elsker dig for evigt) (2002)   \n",
       "9122   145994                             Formula of Love (1984)   \n",
       "8115   100906                                Maniac Cop 2 (1990)   \n",
       "9129   146662             Dragons: Gift of the Night Fury (2011)   \n",
       "8074    99636                            English Vinglish (2012)   \n",
       "5785    31522  Marriage of Maria Braun, The (Ehe der Maria Br...   \n",
       "9131   146684                      Cosmic Scrat-tastrophe (2015)   \n",
       "9137   147196                                   The Girls (1961)   \n",
       "9138   147250  The Adventures of Sherlock Holmes and Doctor W...   \n",
       "9140   147286  The Adventures of Sherlock Holmes and Doctor W...   \n",
       "9141   147300  Adventures Of Sherlock Holmes And Dr. Watson: ...   \n",
       "9142   147326  The Adventures of Sherlock Holmes and Doctor W...   \n",
       "\n",
       "                          genres  avgRating  \n",
       "7656                Comedy|Drama        5.0  \n",
       "8107                 Documentary        5.0  \n",
       "9083        Comedy|Drama|Romance        5.0  \n",
       "9094                 Documentary        5.0  \n",
       "9096        Comedy|Crime|Fantasy        5.0  \n",
       "4251               Drama|Romance        5.0  \n",
       "8154                      Comedy        5.0  \n",
       "8148    Action|Animation|Fantasy        5.0  \n",
       "4246                     Romance        5.0  \n",
       "9122                      Comedy        5.0  \n",
       "8115      Action|Horror|Thriller        5.0  \n",
       "9129  Adventure|Animation|Comedy        5.0  \n",
       "8074                Comedy|Drama        5.0  \n",
       "5785                       Drama        5.0  \n",
       "9131   Animation|Children|Comedy        5.0  \n",
       "9137              Comedy|Romance        5.0  \n",
       "9138          (no genres listed)        5.0  \n",
       "9140               Crime|Mystery        5.0  \n",
       "9141               Crime|Mystery        5.0  \n",
       "9142               Crime|Mystery        5.0  "
      ]
     },
     "execution_count": 36,
     "metadata": {},
     "output_type": "execute_result"
    }
   ],
   "source": [
    "# Sort the data frame by 'avgRating'\n",
    "movies_df.sort_values(by=['avgRating'], inplace=True, ascending=False)\n",
    "movies_df.head(20)"
   ]
  },
  {
   "cell_type": "code",
   "execution_count": null,
   "metadata": {},
   "outputs": [],
   "source": []
  },
  {
   "cell_type": "code",
   "execution_count": null,
   "metadata": {},
   "outputs": [],
   "source": []
  },
  {
   "cell_type": "code",
   "execution_count": null,
   "metadata": {},
   "outputs": [],
   "source": []
  },
  {
   "cell_type": "code",
   "execution_count": 37,
   "metadata": {},
   "outputs": [
    {
     "data": {
      "text/html": [
       "<div>\n",
       "<style scoped>\n",
       "    .dataframe tbody tr th:only-of-type {\n",
       "        vertical-align: middle;\n",
       "    }\n",
       "\n",
       "    .dataframe tbody tr th {\n",
       "        vertical-align: top;\n",
       "    }\n",
       "\n",
       "    .dataframe thead th {\n",
       "        text-align: right;\n",
       "    }\n",
       "</style>\n",
       "<table border=\"1\" class=\"dataframe\">\n",
       "  <thead>\n",
       "    <tr style=\"text-align: right;\">\n",
       "      <th></th>\n",
       "      <th>movieId</th>\n",
       "      <th>title</th>\n",
       "      <th>genres</th>\n",
       "      <th>avgRating</th>\n",
       "      <th>numRatings</th>\n",
       "    </tr>\n",
       "  </thead>\n",
       "  <tbody>\n",
       "    <tr>\n",
       "      <td>7656</td>\n",
       "      <td>88448</td>\n",
       "      <td>Paper Birds (Pájaros de papel) (2010)</td>\n",
       "      <td>Comedy|Drama</td>\n",
       "      <td>5.0</td>\n",
       "      <td>1</td>\n",
       "    </tr>\n",
       "    <tr>\n",
       "      <td>8107</td>\n",
       "      <td>100556</td>\n",
       "      <td>Act of Killing, The (2012)</td>\n",
       "      <td>Documentary</td>\n",
       "      <td>5.0</td>\n",
       "      <td>1</td>\n",
       "    </tr>\n",
       "    <tr>\n",
       "      <td>9083</td>\n",
       "      <td>143031</td>\n",
       "      <td>Jump In! (2007)</td>\n",
       "      <td>Comedy|Drama|Romance</td>\n",
       "      <td>5.0</td>\n",
       "      <td>1</td>\n",
       "    </tr>\n",
       "    <tr>\n",
       "      <td>9094</td>\n",
       "      <td>143511</td>\n",
       "      <td>Human (2015)</td>\n",
       "      <td>Documentary</td>\n",
       "      <td>5.0</td>\n",
       "      <td>1</td>\n",
       "    </tr>\n",
       "    <tr>\n",
       "      <td>9096</td>\n",
       "      <td>143559</td>\n",
       "      <td>L.A. Slasher (2015)</td>\n",
       "      <td>Comedy|Crime|Fantasy</td>\n",
       "      <td>5.0</td>\n",
       "      <td>1</td>\n",
       "    </tr>\n",
       "    <tr>\n",
       "      <td>4251</td>\n",
       "      <td>6201</td>\n",
       "      <td>Lady Jane (1986)</td>\n",
       "      <td>Drama|Romance</td>\n",
       "      <td>5.0</td>\n",
       "      <td>1</td>\n",
       "    </tr>\n",
       "    <tr>\n",
       "      <td>8154</td>\n",
       "      <td>102217</td>\n",
       "      <td>Bill Hicks: Revelations (1993)</td>\n",
       "      <td>Comedy</td>\n",
       "      <td>5.0</td>\n",
       "      <td>1</td>\n",
       "    </tr>\n",
       "    <tr>\n",
       "      <td>8148</td>\n",
       "      <td>102084</td>\n",
       "      <td>Justice League: Doom (2012)</td>\n",
       "      <td>Action|Animation|Fantasy</td>\n",
       "      <td>5.0</td>\n",
       "      <td>1</td>\n",
       "    </tr>\n",
       "    <tr>\n",
       "      <td>4246</td>\n",
       "      <td>6192</td>\n",
       "      <td>Open Hearts (Elsker dig for evigt) (2002)</td>\n",
       "      <td>Romance</td>\n",
       "      <td>5.0</td>\n",
       "      <td>1</td>\n",
       "    </tr>\n",
       "    <tr>\n",
       "      <td>9122</td>\n",
       "      <td>145994</td>\n",
       "      <td>Formula of Love (1984)</td>\n",
       "      <td>Comedy</td>\n",
       "      <td>5.0</td>\n",
       "      <td>1</td>\n",
       "    </tr>\n",
       "    <tr>\n",
       "      <td>8115</td>\n",
       "      <td>100906</td>\n",
       "      <td>Maniac Cop 2 (1990)</td>\n",
       "      <td>Action|Horror|Thriller</td>\n",
       "      <td>5.0</td>\n",
       "      <td>1</td>\n",
       "    </tr>\n",
       "    <tr>\n",
       "      <td>9129</td>\n",
       "      <td>146662</td>\n",
       "      <td>Dragons: Gift of the Night Fury (2011)</td>\n",
       "      <td>Adventure|Animation|Comedy</td>\n",
       "      <td>5.0</td>\n",
       "      <td>1</td>\n",
       "    </tr>\n",
       "    <tr>\n",
       "      <td>8074</td>\n",
       "      <td>99636</td>\n",
       "      <td>English Vinglish (2012)</td>\n",
       "      <td>Comedy|Drama</td>\n",
       "      <td>5.0</td>\n",
       "      <td>1</td>\n",
       "    </tr>\n",
       "    <tr>\n",
       "      <td>5785</td>\n",
       "      <td>31522</td>\n",
       "      <td>Marriage of Maria Braun, The (Ehe der Maria Br...</td>\n",
       "      <td>Drama</td>\n",
       "      <td>5.0</td>\n",
       "      <td>1</td>\n",
       "    </tr>\n",
       "    <tr>\n",
       "      <td>9131</td>\n",
       "      <td>146684</td>\n",
       "      <td>Cosmic Scrat-tastrophe (2015)</td>\n",
       "      <td>Animation|Children|Comedy</td>\n",
       "      <td>5.0</td>\n",
       "      <td>1</td>\n",
       "    </tr>\n",
       "    <tr>\n",
       "      <td>9137</td>\n",
       "      <td>147196</td>\n",
       "      <td>The Girls (1961)</td>\n",
       "      <td>Comedy|Romance</td>\n",
       "      <td>5.0</td>\n",
       "      <td>1</td>\n",
       "    </tr>\n",
       "    <tr>\n",
       "      <td>9138</td>\n",
       "      <td>147250</td>\n",
       "      <td>The Adventures of Sherlock Holmes and Doctor W...</td>\n",
       "      <td>(no genres listed)</td>\n",
       "      <td>5.0</td>\n",
       "      <td>1</td>\n",
       "    </tr>\n",
       "    <tr>\n",
       "      <td>9140</td>\n",
       "      <td>147286</td>\n",
       "      <td>The Adventures of Sherlock Holmes and Doctor W...</td>\n",
       "      <td>Crime|Mystery</td>\n",
       "      <td>5.0</td>\n",
       "      <td>1</td>\n",
       "    </tr>\n",
       "    <tr>\n",
       "      <td>9141</td>\n",
       "      <td>147300</td>\n",
       "      <td>Adventures Of Sherlock Holmes And Dr. Watson: ...</td>\n",
       "      <td>Crime|Mystery</td>\n",
       "      <td>5.0</td>\n",
       "      <td>1</td>\n",
       "    </tr>\n",
       "    <tr>\n",
       "      <td>9142</td>\n",
       "      <td>147326</td>\n",
       "      <td>The Adventures of Sherlock Holmes and Doctor W...</td>\n",
       "      <td>Crime|Mystery</td>\n",
       "      <td>5.0</td>\n",
       "      <td>1</td>\n",
       "    </tr>\n",
       "    <tr>\n",
       "      <td>9143</td>\n",
       "      <td>147328</td>\n",
       "      <td>The Adventures of Sherlock Holmes and Dr. Wats...</td>\n",
       "      <td>Crime</td>\n",
       "      <td>5.0</td>\n",
       "      <td>1</td>\n",
       "    </tr>\n",
       "    <tr>\n",
       "      <td>6999</td>\n",
       "      <td>67618</td>\n",
       "      <td>Strictly Sexual (2008)</td>\n",
       "      <td>Comedy|Drama|Romance</td>\n",
       "      <td>5.0</td>\n",
       "      <td>1</td>\n",
       "    </tr>\n",
       "    <tr>\n",
       "      <td>3320</td>\n",
       "      <td>4495</td>\n",
       "      <td>Crossing Delancey (1988)</td>\n",
       "      <td>Comedy|Romance</td>\n",
       "      <td>5.0</td>\n",
       "      <td>1</td>\n",
       "    </tr>\n",
       "    <tr>\n",
       "      <td>8212</td>\n",
       "      <td>103602</td>\n",
       "      <td>Craig Ferguson: I'm Here To Help (2013)</td>\n",
       "      <td>Comedy|Documentary</td>\n",
       "      <td>5.0</td>\n",
       "      <td>1</td>\n",
       "    </tr>\n",
       "    <tr>\n",
       "      <td>6920</td>\n",
       "      <td>64501</td>\n",
       "      <td>Che: Part Two (2008)</td>\n",
       "      <td>Drama|War</td>\n",
       "      <td>5.0</td>\n",
       "      <td>1</td>\n",
       "    </tr>\n",
       "  </tbody>\n",
       "</table>\n",
       "</div>"
      ],
      "text/plain": [
       "      movieId                                              title  \\\n",
       "7656    88448              Paper Birds (Pájaros de papel) (2010)   \n",
       "8107   100556                         Act of Killing, The (2012)   \n",
       "9083   143031                                    Jump In! (2007)   \n",
       "9094   143511                                       Human (2015)   \n",
       "9096   143559                                L.A. Slasher (2015)   \n",
       "4251     6201                                   Lady Jane (1986)   \n",
       "8154   102217                     Bill Hicks: Revelations (1993)   \n",
       "8148   102084                       Justice League: Doom (2012)    \n",
       "4246     6192          Open Hearts (Elsker dig for evigt) (2002)   \n",
       "9122   145994                             Formula of Love (1984)   \n",
       "8115   100906                                Maniac Cop 2 (1990)   \n",
       "9129   146662             Dragons: Gift of the Night Fury (2011)   \n",
       "8074    99636                            English Vinglish (2012)   \n",
       "5785    31522  Marriage of Maria Braun, The (Ehe der Maria Br...   \n",
       "9131   146684                      Cosmic Scrat-tastrophe (2015)   \n",
       "9137   147196                                   The Girls (1961)   \n",
       "9138   147250  The Adventures of Sherlock Holmes and Doctor W...   \n",
       "9140   147286  The Adventures of Sherlock Holmes and Doctor W...   \n",
       "9141   147300  Adventures Of Sherlock Holmes And Dr. Watson: ...   \n",
       "9142   147326  The Adventures of Sherlock Holmes and Doctor W...   \n",
       "9143   147328  The Adventures of Sherlock Holmes and Dr. Wats...   \n",
       "6999    67618                             Strictly Sexual (2008)   \n",
       "3320     4495                           Crossing Delancey (1988)   \n",
       "8212   103602            Craig Ferguson: I'm Here To Help (2013)   \n",
       "6920    64501                               Che: Part Two (2008)   \n",
       "\n",
       "                          genres  avgRating  numRatings  \n",
       "7656                Comedy|Drama        5.0           1  \n",
       "8107                 Documentary        5.0           1  \n",
       "9083        Comedy|Drama|Romance        5.0           1  \n",
       "9094                 Documentary        5.0           1  \n",
       "9096        Comedy|Crime|Fantasy        5.0           1  \n",
       "4251               Drama|Romance        5.0           1  \n",
       "8154                      Comedy        5.0           1  \n",
       "8148    Action|Animation|Fantasy        5.0           1  \n",
       "4246                     Romance        5.0           1  \n",
       "9122                      Comedy        5.0           1  \n",
       "8115      Action|Horror|Thriller        5.0           1  \n",
       "9129  Adventure|Animation|Comedy        5.0           1  \n",
       "8074                Comedy|Drama        5.0           1  \n",
       "5785                       Drama        5.0           1  \n",
       "9131   Animation|Children|Comedy        5.0           1  \n",
       "9137              Comedy|Romance        5.0           1  \n",
       "9138          (no genres listed)        5.0           1  \n",
       "9140               Crime|Mystery        5.0           1  \n",
       "9141               Crime|Mystery        5.0           1  \n",
       "9142               Crime|Mystery        5.0           1  \n",
       "9143                       Crime        5.0           1  \n",
       "6999        Comedy|Drama|Romance        5.0           1  \n",
       "3320              Comedy|Romance        5.0           1  \n",
       "8212          Comedy|Documentary        5.0           1  \n",
       "6920                   Drama|War        5.0           1  "
      ]
     },
     "execution_count": 37,
     "metadata": {},
     "output_type": "execute_result"
    }
   ],
   "source": [
    "# Create a \"NumRatings\" column: for each movie, fill in the number ratings\n",
    "def findNumRatings(movieId):\n",
    "    index = (ratings_df['movieId'] == movieId)\n",
    "    ratings_movie = ratings_df[index]\n",
    "    numRatings = len(ratings_movie)\n",
    "    return numRatings\n",
    "\n",
    "movies_df['numRatings'] = movies_df['movieId'].apply(findNumRatings)\n",
    "movies_df.head(25)"
   ]
  },
  {
   "cell_type": "code",
   "execution_count": 38,
   "metadata": {
    "scrolled": false
   },
   "outputs": [
    {
     "data": {
      "text/html": [
       "<div>\n",
       "<style scoped>\n",
       "    .dataframe tbody tr th:only-of-type {\n",
       "        vertical-align: middle;\n",
       "    }\n",
       "\n",
       "    .dataframe tbody tr th {\n",
       "        vertical-align: top;\n",
       "    }\n",
       "\n",
       "    .dataframe thead th {\n",
       "        text-align: right;\n",
       "    }\n",
       "</style>\n",
       "<table border=\"1\" class=\"dataframe\">\n",
       "  <thead>\n",
       "    <tr style=\"text-align: right;\">\n",
       "      <th></th>\n",
       "      <th>movieId</th>\n",
       "      <th>title</th>\n",
       "      <th>genres</th>\n",
       "      <th>avgRating</th>\n",
       "      <th>numRatings</th>\n",
       "    </tr>\n",
       "  </thead>\n",
       "  <tbody>\n",
       "    <tr>\n",
       "      <td>277</td>\n",
       "      <td>318</td>\n",
       "      <td>Shawshank Redemption, The (1994)</td>\n",
       "      <td>Crime|Drama</td>\n",
       "      <td>4.429022</td>\n",
       "      <td>317</td>\n",
       "    </tr>\n",
       "    <tr>\n",
       "      <td>659</td>\n",
       "      <td>858</td>\n",
       "      <td>Godfather, The (1972)</td>\n",
       "      <td>Crime|Drama</td>\n",
       "      <td>4.289062</td>\n",
       "      <td>192</td>\n",
       "    </tr>\n",
       "    <tr>\n",
       "      <td>2226</td>\n",
       "      <td>2959</td>\n",
       "      <td>Fight Club (1999)</td>\n",
       "      <td>Action|Crime|Drama|Thriller</td>\n",
       "      <td>4.272936</td>\n",
       "      <td>218</td>\n",
       "    </tr>\n",
       "    <tr>\n",
       "      <td>922</td>\n",
       "      <td>1221</td>\n",
       "      <td>Godfather: Part II, The (1974)</td>\n",
       "      <td>Crime|Drama</td>\n",
       "      <td>4.259690</td>\n",
       "      <td>129</td>\n",
       "    </tr>\n",
       "    <tr>\n",
       "      <td>6315</td>\n",
       "      <td>48516</td>\n",
       "      <td>Departed, The (2006)</td>\n",
       "      <td>Crime|Drama|Thriller</td>\n",
       "      <td>4.252336</td>\n",
       "      <td>107</td>\n",
       "    </tr>\n",
       "    <tr>\n",
       "      <td>914</td>\n",
       "      <td>1213</td>\n",
       "      <td>Goodfellas (1990)</td>\n",
       "      <td>Crime|Drama</td>\n",
       "      <td>4.250000</td>\n",
       "      <td>126</td>\n",
       "    </tr>\n",
       "    <tr>\n",
       "      <td>694</td>\n",
       "      <td>912</td>\n",
       "      <td>Casablanca (1942)</td>\n",
       "      <td>Drama|Romance</td>\n",
       "      <td>4.240000</td>\n",
       "      <td>100</td>\n",
       "    </tr>\n",
       "    <tr>\n",
       "      <td>6710</td>\n",
       "      <td>58559</td>\n",
       "      <td>Dark Knight, The (2008)</td>\n",
       "      <td>Action|Crime|Drama|IMAX</td>\n",
       "      <td>4.238255</td>\n",
       "      <td>149</td>\n",
       "    </tr>\n",
       "    <tr>\n",
       "      <td>46</td>\n",
       "      <td>50</td>\n",
       "      <td>Usual Suspects, The (1995)</td>\n",
       "      <td>Crime|Mystery|Thriller</td>\n",
       "      <td>4.237745</td>\n",
       "      <td>204</td>\n",
       "    </tr>\n",
       "    <tr>\n",
       "      <td>899</td>\n",
       "      <td>1197</td>\n",
       "      <td>Princess Bride, The (1987)</td>\n",
       "      <td>Action|Adventure|Comedy|Fantasy|Romance</td>\n",
       "      <td>4.232394</td>\n",
       "      <td>142</td>\n",
       "    </tr>\n",
       "  </tbody>\n",
       "</table>\n",
       "</div>"
      ],
      "text/plain": [
       "      movieId                             title  \\\n",
       "277       318  Shawshank Redemption, The (1994)   \n",
       "659       858             Godfather, The (1972)   \n",
       "2226     2959                 Fight Club (1999)   \n",
       "922      1221    Godfather: Part II, The (1974)   \n",
       "6315    48516              Departed, The (2006)   \n",
       "914      1213                 Goodfellas (1990)   \n",
       "694       912                 Casablanca (1942)   \n",
       "6710    58559           Dark Knight, The (2008)   \n",
       "46         50        Usual Suspects, The (1995)   \n",
       "899      1197        Princess Bride, The (1987)   \n",
       "\n",
       "                                       genres  avgRating  numRatings  \n",
       "277                               Crime|Drama   4.429022         317  \n",
       "659                               Crime|Drama   4.289062         192  \n",
       "2226              Action|Crime|Drama|Thriller   4.272936         218  \n",
       "922                               Crime|Drama   4.259690         129  \n",
       "6315                     Crime|Drama|Thriller   4.252336         107  \n",
       "914                               Crime|Drama   4.250000         126  \n",
       "694                             Drama|Romance   4.240000         100  \n",
       "6710                  Action|Crime|Drama|IMAX   4.238255         149  \n",
       "46                     Crime|Mystery|Thriller   4.237745         204  \n",
       "899   Action|Adventure|Comedy|Fantasy|Romance   4.232394         142  "
      ]
     },
     "execution_count": 38,
     "metadata": {},
     "output_type": "execute_result"
    }
   ],
   "source": [
    "# Extract movies with ratings >= 100\n",
    "movies_with_many_ratings = movies_df[movies_df['numRatings'] >= 100]\n",
    "movies_with_many_ratings.head(10)"
   ]
  },
  {
   "cell_type": "code",
   "execution_count": 39,
   "metadata": {},
   "outputs": [],
   "source": [
    "# Use .sort_values() to sort the data frame according to the AvgRating column\n"
   ]
  },
  {
   "cell_type": "code",
   "execution_count": 40,
   "metadata": {},
   "outputs": [
    {
     "name": "stderr",
     "output_type": "stream",
     "text": [
      "C:\\ProgramData\\Anaconda3\\lib\\site-packages\\ipykernel_launcher.py:4: SettingWithCopyWarning: \n",
      "A value is trying to be set on a copy of a slice from a DataFrame\n",
      "\n",
      "See the caveats in the documentation: http://pandas.pydata.org/pandas-docs/stable/user_guide/indexing.html#returning-a-view-versus-a-copy\n",
      "  after removing the cwd from sys.path.\n"
     ]
    },
    {
     "data": {
      "text/html": [
       "<div>\n",
       "<style scoped>\n",
       "    .dataframe tbody tr th:only-of-type {\n",
       "        vertical-align: middle;\n",
       "    }\n",
       "\n",
       "    .dataframe tbody tr th {\n",
       "        vertical-align: top;\n",
       "    }\n",
       "\n",
       "    .dataframe thead th {\n",
       "        text-align: right;\n",
       "    }\n",
       "</style>\n",
       "<table border=\"1\" class=\"dataframe\">\n",
       "  <thead>\n",
       "    <tr style=\"text-align: right;\">\n",
       "      <th></th>\n",
       "      <th>movieId</th>\n",
       "      <th>title</th>\n",
       "      <th>genres</th>\n",
       "      <th>avgRating</th>\n",
       "      <th>numRatings</th>\n",
       "    </tr>\n",
       "  </thead>\n",
       "  <tbody>\n",
       "    <tr>\n",
       "      <td>314</td>\n",
       "      <td>356</td>\n",
       "      <td>Forrest Gump (1994)</td>\n",
       "      <td>Comedy|Drama|Romance|War</td>\n",
       "      <td>4.164134</td>\n",
       "      <td>329</td>\n",
       "    </tr>\n",
       "    <tr>\n",
       "      <td>277</td>\n",
       "      <td>318</td>\n",
       "      <td>Shawshank Redemption, The (1994)</td>\n",
       "      <td>Crime|Drama</td>\n",
       "      <td>4.429022</td>\n",
       "      <td>317</td>\n",
       "    </tr>\n",
       "    <tr>\n",
       "      <td>257</td>\n",
       "      <td>296</td>\n",
       "      <td>Pulp Fiction (1994)</td>\n",
       "      <td>Comedy|Crime|Drama|Thriller</td>\n",
       "      <td>4.197068</td>\n",
       "      <td>307</td>\n",
       "    </tr>\n",
       "    <tr>\n",
       "      <td>510</td>\n",
       "      <td>593</td>\n",
       "      <td>Silence of the Lambs, The (1991)</td>\n",
       "      <td>Crime|Horror|Thriller</td>\n",
       "      <td>4.161290</td>\n",
       "      <td>279</td>\n",
       "    </tr>\n",
       "    <tr>\n",
       "      <td>1939</td>\n",
       "      <td>2571</td>\n",
       "      <td>Matrix, The (1999)</td>\n",
       "      <td>Action|Sci-Fi|Thriller</td>\n",
       "      <td>4.192446</td>\n",
       "      <td>278</td>\n",
       "    </tr>\n",
       "    <tr>\n",
       "      <td>224</td>\n",
       "      <td>260</td>\n",
       "      <td>Star Wars: Episode IV - A New Hope (1977)</td>\n",
       "      <td>Action|Adventure|Sci-Fi</td>\n",
       "      <td>4.231076</td>\n",
       "      <td>251</td>\n",
       "    </tr>\n",
       "    <tr>\n",
       "      <td>418</td>\n",
       "      <td>480</td>\n",
       "      <td>Jurassic Park (1993)</td>\n",
       "      <td>Action|Adventure|Sci-Fi|Thriller</td>\n",
       "      <td>3.750000</td>\n",
       "      <td>238</td>\n",
       "    </tr>\n",
       "    <tr>\n",
       "      <td>97</td>\n",
       "      <td>110</td>\n",
       "      <td>Braveheart (1995)</td>\n",
       "      <td>Action|Drama|War</td>\n",
       "      <td>4.031646</td>\n",
       "      <td>237</td>\n",
       "    </tr>\n",
       "    <tr>\n",
       "      <td>507</td>\n",
       "      <td>589</td>\n",
       "      <td>Terminator 2: Judgment Day (1991)</td>\n",
       "      <td>Action|Sci-Fi</td>\n",
       "      <td>3.970982</td>\n",
       "      <td>224</td>\n",
       "    </tr>\n",
       "    <tr>\n",
       "      <td>461</td>\n",
       "      <td>527</td>\n",
       "      <td>Schindler's List (1993)</td>\n",
       "      <td>Drama|War</td>\n",
       "      <td>4.225000</td>\n",
       "      <td>220</td>\n",
       "    </tr>\n",
       "    <tr>\n",
       "      <td>2226</td>\n",
       "      <td>2959</td>\n",
       "      <td>Fight Club (1999)</td>\n",
       "      <td>Action|Crime|Drama|Thriller</td>\n",
       "      <td>4.272936</td>\n",
       "      <td>218</td>\n",
       "    </tr>\n",
       "    <tr>\n",
       "      <td>0</td>\n",
       "      <td>1</td>\n",
       "      <td>Toy Story (1995)</td>\n",
       "      <td>Adventure|Animation|Children|Comedy|Fantasy</td>\n",
       "      <td>3.920930</td>\n",
       "      <td>215</td>\n",
       "    </tr>\n",
       "    <tr>\n",
       "      <td>898</td>\n",
       "      <td>1196</td>\n",
       "      <td>Star Wars: Episode V - The Empire Strikes Back...</td>\n",
       "      <td>Action|Adventure|Sci-Fi</td>\n",
       "      <td>4.215640</td>\n",
       "      <td>211</td>\n",
       "    </tr>\n",
       "    <tr>\n",
       "      <td>46</td>\n",
       "      <td>50</td>\n",
       "      <td>Usual Suspects, The (1995)</td>\n",
       "      <td>Crime|Mystery|Thriller</td>\n",
       "      <td>4.237745</td>\n",
       "      <td>204</td>\n",
       "    </tr>\n",
       "    <tr>\n",
       "      <td>2145</td>\n",
       "      <td>2858</td>\n",
       "      <td>American Beauty (1999)</td>\n",
       "      <td>Drama|Romance</td>\n",
       "      <td>4.056373</td>\n",
       "      <td>204</td>\n",
       "    </tr>\n",
       "    <tr>\n",
       "      <td>43</td>\n",
       "      <td>47</td>\n",
       "      <td>Seven (a.k.a. Se7en) (1995)</td>\n",
       "      <td>Mystery|Thriller</td>\n",
       "      <td>3.975369</td>\n",
       "      <td>203</td>\n",
       "    </tr>\n",
       "    <tr>\n",
       "      <td>615</td>\n",
       "      <td>780</td>\n",
       "      <td>Independence Day (a.k.a. ID4) (1996)</td>\n",
       "      <td>Action|Adventure|Sci-Fi|Thriller</td>\n",
       "      <td>3.445545</td>\n",
       "      <td>202</td>\n",
       "    </tr>\n",
       "    <tr>\n",
       "      <td>123</td>\n",
       "      <td>150</td>\n",
       "      <td>Apollo 13 (1995)</td>\n",
       "      <td>Adventure|Drama|IMAX</td>\n",
       "      <td>3.845771</td>\n",
       "      <td>201</td>\n",
       "    </tr>\n",
       "    <tr>\n",
       "      <td>900</td>\n",
       "      <td>1198</td>\n",
       "      <td>Raiders of the Lost Ark (Indiana Jones and the...</td>\n",
       "      <td>Action|Adventure</td>\n",
       "      <td>4.207500</td>\n",
       "      <td>200</td>\n",
       "    </tr>\n",
       "    <tr>\n",
       "      <td>3638</td>\n",
       "      <td>4993</td>\n",
       "      <td>Lord of the Rings: The Fellowship of the Ring,...</td>\n",
       "      <td>Adventure|Fantasy</td>\n",
       "      <td>4.106061</td>\n",
       "      <td>198</td>\n",
       "    </tr>\n",
       "  </tbody>\n",
       "</table>\n",
       "</div>"
      ],
      "text/plain": [
       "      movieId                                              title  \\\n",
       "314       356                                Forrest Gump (1994)   \n",
       "277       318                   Shawshank Redemption, The (1994)   \n",
       "257       296                                Pulp Fiction (1994)   \n",
       "510       593                   Silence of the Lambs, The (1991)   \n",
       "1939     2571                                 Matrix, The (1999)   \n",
       "224       260          Star Wars: Episode IV - A New Hope (1977)   \n",
       "418       480                               Jurassic Park (1993)   \n",
       "97        110                                  Braveheart (1995)   \n",
       "507       589                  Terminator 2: Judgment Day (1991)   \n",
       "461       527                            Schindler's List (1993)   \n",
       "2226     2959                                  Fight Club (1999)   \n",
       "0           1                                   Toy Story (1995)   \n",
       "898      1196  Star Wars: Episode V - The Empire Strikes Back...   \n",
       "46         50                         Usual Suspects, The (1995)   \n",
       "2145     2858                             American Beauty (1999)   \n",
       "43         47                        Seven (a.k.a. Se7en) (1995)   \n",
       "615       780               Independence Day (a.k.a. ID4) (1996)   \n",
       "123       150                                   Apollo 13 (1995)   \n",
       "900      1198  Raiders of the Lost Ark (Indiana Jones and the...   \n",
       "3638     4993  Lord of the Rings: The Fellowship of the Ring,...   \n",
       "\n",
       "                                           genres  avgRating  numRatings  \n",
       "314                      Comedy|Drama|Romance|War   4.164134         329  \n",
       "277                                   Crime|Drama   4.429022         317  \n",
       "257                   Comedy|Crime|Drama|Thriller   4.197068         307  \n",
       "510                         Crime|Horror|Thriller   4.161290         279  \n",
       "1939                       Action|Sci-Fi|Thriller   4.192446         278  \n",
       "224                       Action|Adventure|Sci-Fi   4.231076         251  \n",
       "418              Action|Adventure|Sci-Fi|Thriller   3.750000         238  \n",
       "97                               Action|Drama|War   4.031646         237  \n",
       "507                                 Action|Sci-Fi   3.970982         224  \n",
       "461                                     Drama|War   4.225000         220  \n",
       "2226                  Action|Crime|Drama|Thriller   4.272936         218  \n",
       "0     Adventure|Animation|Children|Comedy|Fantasy   3.920930         215  \n",
       "898                       Action|Adventure|Sci-Fi   4.215640         211  \n",
       "46                         Crime|Mystery|Thriller   4.237745         204  \n",
       "2145                                Drama|Romance   4.056373         204  \n",
       "43                               Mystery|Thriller   3.975369         203  \n",
       "615              Action|Adventure|Sci-Fi|Thriller   3.445545         202  \n",
       "123                          Adventure|Drama|IMAX   3.845771         201  \n",
       "900                              Action|Adventure   4.207500         200  \n",
       "3638                            Adventure|Fantasy   4.106061         198  "
      ]
     },
     "execution_count": 40,
     "metadata": {},
     "output_type": "execute_result"
    }
   ],
   "source": [
    "# Use sort_values() again to find the movies with largest number of ratings\n",
    "movies_with_many_ratings.sort_values(by=['numRatings'],\n",
    "                                     ascending=False,\n",
    "                                     inplace=True)\n",
    "movies_with_many_ratings.head(20)"
   ]
  },
  {
   "cell_type": "code",
   "execution_count": null,
   "metadata": {},
   "outputs": [],
   "source": []
  },
  {
   "cell_type": "code",
   "execution_count": null,
   "metadata": {},
   "outputs": [],
   "source": []
  },
  {
   "cell_type": "code",
   "execution_count": 41,
   "metadata": {
    "scrolled": true
   },
   "outputs": [
    {
     "name": "stderr",
     "output_type": "stream",
     "text": [
      "C:\\ProgramData\\Anaconda3\\lib\\site-packages\\ipykernel_launcher.py:10: SettingWithCopyWarning: \n",
      "A value is trying to be set on a copy of a slice from a DataFrame.\n",
      "Try using .loc[row_indexer,col_indexer] = value instead\n",
      "\n",
      "See the caveats in the documentation: http://pandas.pydata.org/pandas-docs/stable/user_guide/indexing.html#returning-a-view-versus-a-copy\n",
      "  # Remove the CWD from sys.path while we load stuff.\n",
      "C:\\ProgramData\\Anaconda3\\lib\\site-packages\\ipykernel_launcher.py:16: SettingWithCopyWarning: \n",
      "A value is trying to be set on a copy of a slice from a DataFrame\n",
      "\n",
      "See the caveats in the documentation: http://pandas.pydata.org/pandas-docs/stable/user_guide/indexing.html#returning-a-view-versus-a-copy\n",
      "  app.launch_new_instance()\n"
     ]
    },
    {
     "data": {
      "text/html": [
       "<div>\n",
       "<style scoped>\n",
       "    .dataframe tbody tr th:only-of-type {\n",
       "        vertical-align: middle;\n",
       "    }\n",
       "\n",
       "    .dataframe tbody tr th {\n",
       "        vertical-align: top;\n",
       "    }\n",
       "\n",
       "    .dataframe thead th {\n",
       "        text-align: right;\n",
       "    }\n",
       "</style>\n",
       "<table border=\"1\" class=\"dataframe\">\n",
       "  <thead>\n",
       "    <tr style=\"text-align: right;\">\n",
       "      <th></th>\n",
       "      <th>movieId</th>\n",
       "      <th>title</th>\n",
       "      <th>genres</th>\n",
       "      <th>avgRating</th>\n",
       "      <th>numRatings</th>\n",
       "      <th>isComedy</th>\n",
       "    </tr>\n",
       "  </thead>\n",
       "  <tbody>\n",
       "    <tr>\n",
       "      <td>899</td>\n",
       "      <td>1197</td>\n",
       "      <td>Princess Bride, The (1987)</td>\n",
       "      <td>Action|Adventure|Comedy|Fantasy|Romance</td>\n",
       "      <td>4.232394</td>\n",
       "      <td>142</td>\n",
       "      <td>True</td>\n",
       "    </tr>\n",
       "    <tr>\n",
       "      <td>257</td>\n",
       "      <td>296</td>\n",
       "      <td>Pulp Fiction (1994)</td>\n",
       "      <td>Comedy|Crime|Drama|Thriller</td>\n",
       "      <td>4.197068</td>\n",
       "      <td>307</td>\n",
       "      <td>True</td>\n",
       "    </tr>\n",
       "    <tr>\n",
       "      <td>3622</td>\n",
       "      <td>4973</td>\n",
       "      <td>Amelie (Fabuleux destin d'Amélie Poulain, Le) ...</td>\n",
       "      <td>Comedy|Romance</td>\n",
       "      <td>4.183333</td>\n",
       "      <td>120</td>\n",
       "      <td>True</td>\n",
       "    </tr>\n",
       "    <tr>\n",
       "      <td>314</td>\n",
       "      <td>356</td>\n",
       "      <td>Forrest Gump (1994)</td>\n",
       "      <td>Comedy|Drama|Romance|War</td>\n",
       "      <td>4.164134</td>\n",
       "      <td>329</td>\n",
       "      <td>True</td>\n",
       "    </tr>\n",
       "    <tr>\n",
       "      <td>863</td>\n",
       "      <td>1136</td>\n",
       "      <td>Monty Python and the Holy Grail (1975)</td>\n",
       "      <td>Adventure|Comedy|Fantasy</td>\n",
       "      <td>4.161765</td>\n",
       "      <td>136</td>\n",
       "      <td>True</td>\n",
       "    </tr>\n",
       "    <tr>\n",
       "      <td>520</td>\n",
       "      <td>608</td>\n",
       "      <td>Fargo (1996)</td>\n",
       "      <td>Comedy|Crime|Drama|Thriller</td>\n",
       "      <td>4.116022</td>\n",
       "      <td>181</td>\n",
       "      <td>True</td>\n",
       "    </tr>\n",
       "    <tr>\n",
       "      <td>613</td>\n",
       "      <td>778</td>\n",
       "      <td>Trainspotting (1996)</td>\n",
       "      <td>Comedy|Crime|Drama</td>\n",
       "      <td>4.039216</td>\n",
       "      <td>102</td>\n",
       "      <td>True</td>\n",
       "    </tr>\n",
       "    <tr>\n",
       "      <td>969</td>\n",
       "      <td>1270</td>\n",
       "      <td>Back to the Future (1985)</td>\n",
       "      <td>Adventure|Comedy|Sci-Fi</td>\n",
       "      <td>4.038012</td>\n",
       "      <td>171</td>\n",
       "      <td>True</td>\n",
       "    </tr>\n",
       "    <tr>\n",
       "      <td>4360</td>\n",
       "      <td>6377</td>\n",
       "      <td>Finding Nemo (2003)</td>\n",
       "      <td>Adventure|Animation|Children|Comedy</td>\n",
       "      <td>3.960993</td>\n",
       "      <td>141</td>\n",
       "      <td>True</td>\n",
       "    </tr>\n",
       "    <tr>\n",
       "      <td>964</td>\n",
       "      <td>1265</td>\n",
       "      <td>Groundhog Day (1993)</td>\n",
       "      <td>Comedy|Fantasy|Romance</td>\n",
       "      <td>3.944056</td>\n",
       "      <td>143</td>\n",
       "      <td>True</td>\n",
       "    </tr>\n",
       "  </tbody>\n",
       "</table>\n",
       "</div>"
      ],
      "text/plain": [
       "      movieId                                              title  \\\n",
       "899      1197                         Princess Bride, The (1987)   \n",
       "257       296                                Pulp Fiction (1994)   \n",
       "3622     4973  Amelie (Fabuleux destin d'Amélie Poulain, Le) ...   \n",
       "314       356                                Forrest Gump (1994)   \n",
       "863      1136             Monty Python and the Holy Grail (1975)   \n",
       "520       608                                       Fargo (1996)   \n",
       "613       778                               Trainspotting (1996)   \n",
       "969      1270                          Back to the Future (1985)   \n",
       "4360     6377                                Finding Nemo (2003)   \n",
       "964      1265                               Groundhog Day (1993)   \n",
       "\n",
       "                                       genres  avgRating  numRatings  isComedy  \n",
       "899   Action|Adventure|Comedy|Fantasy|Romance   4.232394         142      True  \n",
       "257               Comedy|Crime|Drama|Thriller   4.197068         307      True  \n",
       "3622                           Comedy|Romance   4.183333         120      True  \n",
       "314                  Comedy|Drama|Romance|War   4.164134         329      True  \n",
       "863                  Adventure|Comedy|Fantasy   4.161765         136      True  \n",
       "520               Comedy|Crime|Drama|Thriller   4.116022         181      True  \n",
       "613                        Comedy|Crime|Drama   4.039216         102      True  \n",
       "969                   Adventure|Comedy|Sci-Fi   4.038012         171      True  \n",
       "4360      Adventure|Animation|Children|Comedy   3.960993         141      True  \n",
       "964                    Comedy|Fantasy|Romance   3.944056         143      True  "
      ]
     },
     "execution_count": 41,
     "metadata": {},
     "output_type": "execute_result"
    }
   ],
   "source": [
    "# Extract the comedy movies\n",
    "\n",
    "def isComedy(genres):\n",
    "    \"\"\"\n",
    "    Return True if comedy is one of its genres\n",
    "    \"\"\"\n",
    "    return (\"Comedy\" in genres)\n",
    "\n",
    "movies_with_many_ratings['isComedy'] = \\\n",
    "    movies_with_many_ratings['genres'].apply(isComedy)\n",
    "movies_with_many_ratings.head()\n",
    "\n",
    "movies_comedy = movies_with_many_ratings[\n",
    "    movies_with_many_ratings['isComedy']\n",
    "]\n",
    "movies_comedy.sort_values(by=['avgRating'], ascending=False, inplace=True)\n",
    "movies_comedy.head(10)"
   ]
  },
  {
   "cell_type": "code",
   "execution_count": 42,
   "metadata": {},
   "outputs": [
    {
     "name": "stderr",
     "output_type": "stream",
     "text": [
      "C:\\ProgramData\\Anaconda3\\lib\\site-packages\\ipykernel_launcher.py:8: SettingWithCopyWarning: \n",
      "A value is trying to be set on a copy of a slice from a DataFrame.\n",
      "Try using .loc[row_indexer,col_indexer] = value instead\n",
      "\n",
      "See the caveats in the documentation: http://pandas.pydata.org/pandas-docs/stable/user_guide/indexing.html#returning-a-view-versus-a-copy\n",
      "  \n",
      "C:\\ProgramData\\Anaconda3\\lib\\site-packages\\ipykernel_launcher.py:14: SettingWithCopyWarning: \n",
      "A value is trying to be set on a copy of a slice from a DataFrame\n",
      "\n",
      "See the caveats in the documentation: http://pandas.pydata.org/pandas-docs/stable/user_guide/indexing.html#returning-a-view-versus-a-copy\n",
      "  \n"
     ]
    },
    {
     "data": {
      "text/html": [
       "<div>\n",
       "<style scoped>\n",
       "    .dataframe tbody tr th:only-of-type {\n",
       "        vertical-align: middle;\n",
       "    }\n",
       "\n",
       "    .dataframe tbody tr th {\n",
       "        vertical-align: top;\n",
       "    }\n",
       "\n",
       "    .dataframe thead th {\n",
       "        text-align: right;\n",
       "    }\n",
       "</style>\n",
       "<table border=\"1\" class=\"dataframe\">\n",
       "  <thead>\n",
       "    <tr style=\"text-align: right;\">\n",
       "      <th></th>\n",
       "      <th>movieId</th>\n",
       "      <th>title</th>\n",
       "      <th>genres</th>\n",
       "      <th>avgRating</th>\n",
       "      <th>numRatings</th>\n",
       "      <th>isComedy</th>\n",
       "    </tr>\n",
       "  </thead>\n",
       "  <tbody>\n",
       "    <tr>\n",
       "      <td>277</td>\n",
       "      <td>318</td>\n",
       "      <td>Shawshank Redemption, The (1994)</td>\n",
       "      <td>Crime|Drama</td>\n",
       "      <td>4.429022</td>\n",
       "      <td>317</td>\n",
       "      <td>True</td>\n",
       "    </tr>\n",
       "    <tr>\n",
       "      <td>659</td>\n",
       "      <td>858</td>\n",
       "      <td>Godfather, The (1972)</td>\n",
       "      <td>Crime|Drama</td>\n",
       "      <td>4.289062</td>\n",
       "      <td>192</td>\n",
       "      <td>True</td>\n",
       "    </tr>\n",
       "    <tr>\n",
       "      <td>2226</td>\n",
       "      <td>2959</td>\n",
       "      <td>Fight Club (1999)</td>\n",
       "      <td>Action|Crime|Drama|Thriller</td>\n",
       "      <td>4.272936</td>\n",
       "      <td>218</td>\n",
       "      <td>True</td>\n",
       "    </tr>\n",
       "    <tr>\n",
       "      <td>922</td>\n",
       "      <td>1221</td>\n",
       "      <td>Godfather: Part II, The (1974)</td>\n",
       "      <td>Crime|Drama</td>\n",
       "      <td>4.259690</td>\n",
       "      <td>129</td>\n",
       "      <td>True</td>\n",
       "    </tr>\n",
       "    <tr>\n",
       "      <td>6315</td>\n",
       "      <td>48516</td>\n",
       "      <td>Departed, The (2006)</td>\n",
       "      <td>Crime|Drama|Thriller</td>\n",
       "      <td>4.252336</td>\n",
       "      <td>107</td>\n",
       "      <td>True</td>\n",
       "    </tr>\n",
       "    <tr>\n",
       "      <td>914</td>\n",
       "      <td>1213</td>\n",
       "      <td>Goodfellas (1990)</td>\n",
       "      <td>Crime|Drama</td>\n",
       "      <td>4.250000</td>\n",
       "      <td>126</td>\n",
       "      <td>True</td>\n",
       "    </tr>\n",
       "    <tr>\n",
       "      <td>694</td>\n",
       "      <td>912</td>\n",
       "      <td>Casablanca (1942)</td>\n",
       "      <td>Drama|Romance</td>\n",
       "      <td>4.240000</td>\n",
       "      <td>100</td>\n",
       "      <td>True</td>\n",
       "    </tr>\n",
       "    <tr>\n",
       "      <td>6710</td>\n",
       "      <td>58559</td>\n",
       "      <td>Dark Knight, The (2008)</td>\n",
       "      <td>Action|Crime|Drama|IMAX</td>\n",
       "      <td>4.238255</td>\n",
       "      <td>149</td>\n",
       "      <td>True</td>\n",
       "    </tr>\n",
       "    <tr>\n",
       "      <td>461</td>\n",
       "      <td>527</td>\n",
       "      <td>Schindler's List (1993)</td>\n",
       "      <td>Drama|War</td>\n",
       "      <td>4.225000</td>\n",
       "      <td>220</td>\n",
       "      <td>True</td>\n",
       "    </tr>\n",
       "    <tr>\n",
       "      <td>909</td>\n",
       "      <td>1208</td>\n",
       "      <td>Apocalypse Now (1979)</td>\n",
       "      <td>Action|Drama|War</td>\n",
       "      <td>4.219626</td>\n",
       "      <td>107</td>\n",
       "      <td>True</td>\n",
       "    </tr>\n",
       "  </tbody>\n",
       "</table>\n",
       "</div>"
      ],
      "text/plain": [
       "      movieId                             title                       genres  \\\n",
       "277       318  Shawshank Redemption, The (1994)                  Crime|Drama   \n",
       "659       858             Godfather, The (1972)                  Crime|Drama   \n",
       "2226     2959                 Fight Club (1999)  Action|Crime|Drama|Thriller   \n",
       "922      1221    Godfather: Part II, The (1974)                  Crime|Drama   \n",
       "6315    48516              Departed, The (2006)         Crime|Drama|Thriller   \n",
       "914      1213                 Goodfellas (1990)                  Crime|Drama   \n",
       "694       912                 Casablanca (1942)                Drama|Romance   \n",
       "6710    58559           Dark Knight, The (2008)      Action|Crime|Drama|IMAX   \n",
       "461       527           Schindler's List (1993)                    Drama|War   \n",
       "909      1208             Apocalypse Now (1979)             Action|Drama|War   \n",
       "\n",
       "      avgRating  numRatings  isComedy  \n",
       "277    4.429022         317      True  \n",
       "659    4.289062         192      True  \n",
       "2226   4.272936         218      True  \n",
       "922    4.259690         129      True  \n",
       "6315   4.252336         107      True  \n",
       "914    4.250000         126      True  \n",
       "694    4.240000         100      True  \n",
       "6710   4.238255         149      True  \n",
       "461    4.225000         220      True  \n",
       "909    4.219626         107      True  "
      ]
     },
     "execution_count": 42,
     "metadata": {},
     "output_type": "execute_result"
    }
   ],
   "source": [
    "def isComedy(genres):\n",
    "    \"\"\"\n",
    "    Return True if comedy is one of its genres\n",
    "    \"\"\"\n",
    "    return (\"Drama\" in genres)\n",
    "\n",
    "movies_with_many_ratings['isComedy'] = \\\n",
    "    movies_with_many_ratings['genres'].apply(isComedy)\n",
    "movies_with_many_ratings.head()\n",
    "\n",
    "movies_comedy = movies_with_many_ratings[\n",
    "    movies_with_many_ratings['isComedy']\n",
    "]\n",
    "movies_comedy.sort_values(by=['avgRating'], ascending=False, inplace=True)\n",
    "movies_comedy.head(10)"
   ]
  },
  {
   "cell_type": "code",
   "execution_count": 43,
   "metadata": {},
   "outputs": [],
   "source": [
    "# Find the 5 top-rated comedies\n"
   ]
  },
  {
   "cell_type": "code",
   "execution_count": 44,
   "metadata": {},
   "outputs": [],
   "source": [
    "# Load tags.csv\n"
   ]
  },
  {
   "cell_type": "code",
   "execution_count": 45,
   "metadata": {},
   "outputs": [],
   "source": [
    "# For Movie #1: Toy Story, find all tags related to it.\n"
   ]
  },
  {
   "cell_type": "code",
   "execution_count": 46,
   "metadata": {},
   "outputs": [],
   "source": [
    "# Create a string that contains all the tags for Toy Story, separated by '|'\n"
   ]
  },
  {
   "cell_type": "code",
   "execution_count": 47,
   "metadata": {},
   "outputs": [],
   "source": [
    "# Create a \"Tags\" column in the movies dataframe, fill in the string that contains \n",
    "# each movie's tags\n",
    "\n"
   ]
  },
  {
   "cell_type": "code",
   "execution_count": 48,
   "metadata": {},
   "outputs": [],
   "source": [
    "# Which movies have a dark hero?\n",
    "\n"
   ]
  },
  {
   "cell_type": "code",
   "execution_count": null,
   "metadata": {},
   "outputs": [],
   "source": []
  },
  {
   "cell_type": "code",
   "execution_count": 49,
   "metadata": {},
   "outputs": [],
   "source": [
    "# Number of ratings is not calculated."
   ]
  },
  {
   "cell_type": "markdown",
   "metadata": {},
   "source": [
    "# Homework (Due on Wednesday, Oct 2)\n",
    "\n",
    "Create a new Jupyter notebook, load `ratings.csv` and `movies.csv` as dataframes.\n",
    "\n",
    "1. Create column \"AvgRating50\" in the movies dataframe. For each movie, if there are less than 50 ratings, set its AvgRating50 value to -1.0; otherwise, set the value to the average rating.\n",
    "2. Print the complete list of genres. (Use [`split()` method](https://www.geeksforgeeks.org/python-string-split/)\n",
    "to split a string containing multiple genres)\n",
    "3. Which genre has the largest number of movies?\n",
    "4. For each genre, find the ID of the movie with highest AvgRating50 value.\n",
    "5. For each genre, find the name of the movie with the highest AvgRating50 value.\n"
   ]
  },
  {
   "cell_type": "code",
   "execution_count": 50,
   "metadata": {},
   "outputs": [],
   "source": [
    "import pandas as pd"
   ]
  },
  {
   "cell_type": "code",
   "execution_count": 51,
   "metadata": {},
   "outputs": [],
   "source": [
    "homeworks = pd.DataFrame({\n",
    "    'Name': ['Alex', 'Alex', 'Alex', 'Brian', 'Brian', 'Brian', 'Cyd', 'Cyd', 'Cyd'],\n",
    "    'Week': [1, 2, 3, 1, 2, 3, 1, 2, 3],\n",
    "    'Grade': [1.2, 2.3, 3.5, 5.7, 7.8,5.3, 6.4, 7.4, 9.2]\n",
    "})"
   ]
  },
  {
   "cell_type": "code",
   "execution_count": 52,
   "metadata": {},
   "outputs": [
    {
     "data": {
      "text/html": [
       "<div>\n",
       "<style scoped>\n",
       "    .dataframe tbody tr th:only-of-type {\n",
       "        vertical-align: middle;\n",
       "    }\n",
       "\n",
       "    .dataframe tbody tr th {\n",
       "        vertical-align: top;\n",
       "    }\n",
       "\n",
       "    .dataframe thead th {\n",
       "        text-align: right;\n",
       "    }\n",
       "</style>\n",
       "<table border=\"1\" class=\"dataframe\">\n",
       "  <thead>\n",
       "    <tr style=\"text-align: right;\">\n",
       "      <th></th>\n",
       "      <th>Name</th>\n",
       "      <th>Week</th>\n",
       "      <th>Grade</th>\n",
       "    </tr>\n",
       "  </thead>\n",
       "  <tbody>\n",
       "    <tr>\n",
       "      <td>0</td>\n",
       "      <td>Alex</td>\n",
       "      <td>1</td>\n",
       "      <td>1.2</td>\n",
       "    </tr>\n",
       "    <tr>\n",
       "      <td>1</td>\n",
       "      <td>Alex</td>\n",
       "      <td>2</td>\n",
       "      <td>2.3</td>\n",
       "    </tr>\n",
       "    <tr>\n",
       "      <td>2</td>\n",
       "      <td>Alex</td>\n",
       "      <td>3</td>\n",
       "      <td>3.5</td>\n",
       "    </tr>\n",
       "    <tr>\n",
       "      <td>3</td>\n",
       "      <td>Brian</td>\n",
       "      <td>1</td>\n",
       "      <td>5.7</td>\n",
       "    </tr>\n",
       "    <tr>\n",
       "      <td>4</td>\n",
       "      <td>Brian</td>\n",
       "      <td>2</td>\n",
       "      <td>7.8</td>\n",
       "    </tr>\n",
       "    <tr>\n",
       "      <td>5</td>\n",
       "      <td>Brian</td>\n",
       "      <td>3</td>\n",
       "      <td>5.3</td>\n",
       "    </tr>\n",
       "    <tr>\n",
       "      <td>6</td>\n",
       "      <td>Cyd</td>\n",
       "      <td>1</td>\n",
       "      <td>6.4</td>\n",
       "    </tr>\n",
       "    <tr>\n",
       "      <td>7</td>\n",
       "      <td>Cyd</td>\n",
       "      <td>2</td>\n",
       "      <td>7.4</td>\n",
       "    </tr>\n",
       "    <tr>\n",
       "      <td>8</td>\n",
       "      <td>Cyd</td>\n",
       "      <td>3</td>\n",
       "      <td>9.2</td>\n",
       "    </tr>\n",
       "  </tbody>\n",
       "</table>\n",
       "</div>"
      ],
      "text/plain": [
       "    Name  Week  Grade\n",
       "0   Alex     1    1.2\n",
       "1   Alex     2    2.3\n",
       "2   Alex     3    3.5\n",
       "3  Brian     1    5.7\n",
       "4  Brian     2    7.8\n",
       "5  Brian     3    5.3\n",
       "6    Cyd     1    6.4\n",
       "7    Cyd     2    7.4\n",
       "8    Cyd     3    9.2"
      ]
     },
     "execution_count": 52,
     "metadata": {},
     "output_type": "execute_result"
    }
   ],
   "source": [
    "homeworks"
   ]
  },
  {
   "cell_type": "code",
   "execution_count": 53,
   "metadata": {},
   "outputs": [
    {
     "data": {
      "text/plain": [
       "0     True\n",
       "1    False\n",
       "2    False\n",
       "3     True\n",
       "4    False\n",
       "5    False\n",
       "6     True\n",
       "7    False\n",
       "8    False\n",
       "Name: Week, dtype: bool"
      ]
     },
     "execution_count": 53,
     "metadata": {},
     "output_type": "execute_result"
    }
   ],
   "source": [
    "# Question: What is the average score for Week 1?\n",
    "\n",
    "# Extract grades from Week 1\n",
    "index = (homeworks['Week'] == 1)\n",
    "index"
   ]
  },
  {
   "cell_type": "code",
   "execution_count": 54,
   "metadata": {},
   "outputs": [
    {
     "data": {
      "text/html": [
       "<div>\n",
       "<style scoped>\n",
       "    .dataframe tbody tr th:only-of-type {\n",
       "        vertical-align: middle;\n",
       "    }\n",
       "\n",
       "    .dataframe tbody tr th {\n",
       "        vertical-align: top;\n",
       "    }\n",
       "\n",
       "    .dataframe thead th {\n",
       "        text-align: right;\n",
       "    }\n",
       "</style>\n",
       "<table border=\"1\" class=\"dataframe\">\n",
       "  <thead>\n",
       "    <tr style=\"text-align: right;\">\n",
       "      <th></th>\n",
       "      <th>Name</th>\n",
       "      <th>Week</th>\n",
       "      <th>Grade</th>\n",
       "    </tr>\n",
       "  </thead>\n",
       "  <tbody>\n",
       "    <tr>\n",
       "      <td>0</td>\n",
       "      <td>Alex</td>\n",
       "      <td>1</td>\n",
       "      <td>1.2</td>\n",
       "    </tr>\n",
       "    <tr>\n",
       "      <td>3</td>\n",
       "      <td>Brian</td>\n",
       "      <td>1</td>\n",
       "      <td>5.7</td>\n",
       "    </tr>\n",
       "    <tr>\n",
       "      <td>6</td>\n",
       "      <td>Cyd</td>\n",
       "      <td>1</td>\n",
       "      <td>6.4</td>\n",
       "    </tr>\n",
       "  </tbody>\n",
       "</table>\n",
       "</div>"
      ],
      "text/plain": [
       "    Name  Week  Grade\n",
       "0   Alex     1    1.2\n",
       "3  Brian     1    5.7\n",
       "6    Cyd     1    6.4"
      ]
     },
     "execution_count": 54,
     "metadata": {},
     "output_type": "execute_result"
    }
   ],
   "source": [
    "# Use the boolean indices to extract the grades\n",
    "week1_hw = homeworks[index]\n",
    "week1_hw"
   ]
  },
  {
   "cell_type": "code",
   "execution_count": 55,
   "metadata": {},
   "outputs": [
    {
     "data": {
      "text/plain": [
       "4.433333333333334"
      ]
     },
     "execution_count": 55,
     "metadata": {},
     "output_type": "execute_result"
    }
   ],
   "source": [
    "# Calculate the average grade:\n",
    "np.mean(week1_hw['Grade'])"
   ]
  },
  {
   "cell_type": "code",
   "execution_count": null,
   "metadata": {},
   "outputs": [],
   "source": []
  }
 ],
 "metadata": {
  "kernelspec": {
   "display_name": "Python 3",
   "language": "python",
   "name": "python3"
  },
  "language_info": {
   "codemirror_mode": {
    "name": "ipython",
    "version": 3
   },
   "file_extension": ".py",
   "mimetype": "text/x-python",
   "name": "python",
   "nbconvert_exporter": "python",
   "pygments_lexer": "ipython3",
   "version": "3.7.4"
  }
 },
 "nbformat": 4,
 "nbformat_minor": 2
}
