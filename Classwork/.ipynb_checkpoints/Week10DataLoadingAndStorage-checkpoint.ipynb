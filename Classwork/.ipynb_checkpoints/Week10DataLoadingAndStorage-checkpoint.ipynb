{
 "cells": [
  {
   "cell_type": "markdown",
   "metadata": {},
   "source": [
    "# Chapter 6 Data Loading, Storage, and File Formats\n",
    "\n",
    "Accessing data is a necessary first step for most data science projects. From this chapter we will learn:\n",
    "- Reading and writing data in text format (.txt, .csv, .json)\n",
    "- Reading data from webpages (web scrapping)\n",
    "- Reading and writing data in binary format (.pickle, .feather, .h5)\n",
    "- Interacting with databases"
   ]
  },
  {
   "cell_type": "markdown",
   "metadata": {},
   "source": [
    "## I. Reading and Writing Data in Text Format"
   ]
  },
  {
   "cell_type": "markdown",
   "metadata": {},
   "source": [
    "### 1. csv file"
   ]
  },
  {
   "cell_type": "code",
   "execution_count": 1,
   "metadata": {
    "scrolled": true
   },
   "outputs": [
    {
     "data": {
      "text/html": [
       "<div>\n",
       "<style scoped>\n",
       "    .dataframe tbody tr th:only-of-type {\n",
       "        vertical-align: middle;\n",
       "    }\n",
       "\n",
       "    .dataframe tbody tr th {\n",
       "        vertical-align: top;\n",
       "    }\n",
       "\n",
       "    .dataframe thead th {\n",
       "        text-align: right;\n",
       "    }\n",
       "</style>\n",
       "<table border=\"1\" class=\"dataframe\">\n",
       "  <thead>\n",
       "    <tr style=\"text-align: right;\">\n",
       "      <th></th>\n",
       "      <th>Midterm</th>\n",
       "      <th>Project</th>\n",
       "      <th>Final</th>\n",
       "      <th>LetterGrade</th>\n",
       "    </tr>\n",
       "  </thead>\n",
       "  <tbody>\n",
       "    <tr>\n",
       "      <td>Alex</td>\n",
       "      <td>100</td>\n",
       "      <td>80</td>\n",
       "      <td>95</td>\n",
       "      <td>A</td>\n",
       "    </tr>\n",
       "    <tr>\n",
       "      <td>Bob</td>\n",
       "      <td>55</td>\n",
       "      <td>60</td>\n",
       "      <td>45</td>\n",
       "      <td>F</td>\n",
       "    </tr>\n",
       "    <tr>\n",
       "      <td>Chris</td>\n",
       "      <td>70</td>\n",
       "      <td>75</td>\n",
       "      <td>90</td>\n",
       "      <td>A</td>\n",
       "    </tr>\n",
       "    <tr>\n",
       "      <td>Doug</td>\n",
       "      <td>75</td>\n",
       "      <td>70</td>\n",
       "      <td>60</td>\n",
       "      <td>D</td>\n",
       "    </tr>\n",
       "    <tr>\n",
       "      <td>Eva</td>\n",
       "      <td>60</td>\n",
       "      <td>73</td>\n",
       "      <td>75</td>\n",
       "      <td>C</td>\n",
       "    </tr>\n",
       "    <tr>\n",
       "      <td>Frank</td>\n",
       "      <td>72</td>\n",
       "      <td>63</td>\n",
       "      <td>-1</td>\n",
       "      <td>NA</td>\n",
       "    </tr>\n",
       "  </tbody>\n",
       "</table>\n",
       "</div>"
      ],
      "text/plain": [
       "      Midterm Project Final LetterGrade\n",
       "Alex      100      80    95           A\n",
       "Bob        55      60    45           F\n",
       "Chris      70      75    90           A\n",
       "Doug       75      70    60           D\n",
       "Eva        60      73    75           C\n",
       "Frank      72      63    -1          NA"
      ]
     },
     "execution_count": 1,
     "metadata": {},
     "output_type": "execute_result"
    }
   ],
   "source": [
    "# Let's create a data frame first\n",
    "import numpy as np\n",
    "import pandas as pd\n",
    "\n",
    "values = np.array([\n",
    "    [100, 80, 95, 'A'],\n",
    "    [55, 60, 45, 'F'],\n",
    "    [70, 75, 90, 'A'],\n",
    "    [75, 70, 60, 'D'],\n",
    "    [60, 73, 75, 'C'],\n",
    "    [72, 63, -1, 'NA']\n",
    "])\n",
    "df = pd.DataFrame(values,\n",
    "                   columns=['Midterm', 'Project', 'Final', 'LetterGrade'],\n",
    "                   index=['Alex', 'Bob', 'Chris', 'Doug', 'Eva', \"Frank\"])\n",
    "df"
   ]
  },
  {
   "cell_type": "code",
   "execution_count": 2,
   "metadata": {},
   "outputs": [
    {
     "name": "stdout",
     "output_type": "stream",
     "text": [
      "Does path \"../../Data/temp/\" exist? False\n",
      "File path \"../../Data/temp/\" created.\n"
     ]
    }
   ],
   "source": [
    "# Write to a csv file using .to_csv()\n",
    "import os\n",
    "print('Does path \"../../Data/temp/\" exist?', os.path.exists(\"../../Data/temp/\"))\n",
    "\n",
    "if not os.path.exists(\"../../Data/temp/\"):\n",
    "    os.mkdir(\"../../Data/temp\")\n",
    "    print('File path \"../../Data/temp/\" created.')\n",
    "\n",
    "df.to_csv(\"../../Data/temp/grades.csv\")"
   ]
  },
  {
   "cell_type": "code",
   "execution_count": 3,
   "metadata": {},
   "outputs": [
    {
     "data": {
      "text/html": [
       "<div>\n",
       "<style scoped>\n",
       "    .dataframe tbody tr th:only-of-type {\n",
       "        vertical-align: middle;\n",
       "    }\n",
       "\n",
       "    .dataframe tbody tr th {\n",
       "        vertical-align: top;\n",
       "    }\n",
       "\n",
       "    .dataframe thead th {\n",
       "        text-align: right;\n",
       "    }\n",
       "</style>\n",
       "<table border=\"1\" class=\"dataframe\">\n",
       "  <thead>\n",
       "    <tr style=\"text-align: right;\">\n",
       "      <th></th>\n",
       "      <th>Unnamed: 0</th>\n",
       "      <th>Midterm</th>\n",
       "      <th>Project</th>\n",
       "      <th>Final</th>\n",
       "      <th>LetterGrade</th>\n",
       "    </tr>\n",
       "  </thead>\n",
       "  <tbody>\n",
       "    <tr>\n",
       "      <td>0</td>\n",
       "      <td>Alex</td>\n",
       "      <td>100</td>\n",
       "      <td>80</td>\n",
       "      <td>95</td>\n",
       "      <td>A</td>\n",
       "    </tr>\n",
       "    <tr>\n",
       "      <td>1</td>\n",
       "      <td>Bob</td>\n",
       "      <td>55</td>\n",
       "      <td>60</td>\n",
       "      <td>45</td>\n",
       "      <td>F</td>\n",
       "    </tr>\n",
       "    <tr>\n",
       "      <td>2</td>\n",
       "      <td>Chris</td>\n",
       "      <td>70</td>\n",
       "      <td>75</td>\n",
       "      <td>90</td>\n",
       "      <td>A</td>\n",
       "    </tr>\n",
       "    <tr>\n",
       "      <td>3</td>\n",
       "      <td>Doug</td>\n",
       "      <td>75</td>\n",
       "      <td>70</td>\n",
       "      <td>60</td>\n",
       "      <td>D</td>\n",
       "    </tr>\n",
       "    <tr>\n",
       "      <td>4</td>\n",
       "      <td>Eva</td>\n",
       "      <td>60</td>\n",
       "      <td>73</td>\n",
       "      <td>75</td>\n",
       "      <td>C</td>\n",
       "    </tr>\n",
       "    <tr>\n",
       "      <td>5</td>\n",
       "      <td>Frank</td>\n",
       "      <td>72</td>\n",
       "      <td>63</td>\n",
       "      <td>-1</td>\n",
       "      <td>NaN</td>\n",
       "    </tr>\n",
       "  </tbody>\n",
       "</table>\n",
       "</div>"
      ],
      "text/plain": [
       "  Unnamed: 0  Midterm  Project  Final LetterGrade\n",
       "0       Alex      100       80     95           A\n",
       "1        Bob       55       60     45           F\n",
       "2      Chris       70       75     90           A\n",
       "3       Doug       75       70     60           D\n",
       "4        Eva       60       73     75           C\n",
       "5      Frank       72       63     -1         NaN"
      ]
     },
     "execution_count": 3,
     "metadata": {},
     "output_type": "execute_result"
    }
   ],
   "source": [
    "# Load the csv file\n",
    "df2 = pd.read_csv(\"../../Data/temp/grades.csv\", delimiter=\",\")\n",
    "df2"
   ]
  },
  {
   "cell_type": "code",
   "execution_count": 4,
   "metadata": {},
   "outputs": [
    {
     "data": {
      "text/html": [
       "<div>\n",
       "<style scoped>\n",
       "    .dataframe tbody tr th:only-of-type {\n",
       "        vertical-align: middle;\n",
       "    }\n",
       "\n",
       "    .dataframe tbody tr th {\n",
       "        vertical-align: top;\n",
       "    }\n",
       "\n",
       "    .dataframe thead th {\n",
       "        text-align: right;\n",
       "    }\n",
       "</style>\n",
       "<table border=\"1\" class=\"dataframe\">\n",
       "  <thead>\n",
       "    <tr style=\"text-align: right;\">\n",
       "      <th></th>\n",
       "      <th>Unnamed: 0</th>\n",
       "      <th>Midterm</th>\n",
       "      <th>Project</th>\n",
       "      <th>Final</th>\n",
       "      <th>LetterGrade</th>\n",
       "    </tr>\n",
       "  </thead>\n",
       "  <tbody>\n",
       "    <tr>\n",
       "      <td>0</td>\n",
       "      <td>Alex</td>\n",
       "      <td>100</td>\n",
       "      <td>80</td>\n",
       "      <td>95</td>\n",
       "      <td>A</td>\n",
       "    </tr>\n",
       "    <tr>\n",
       "      <td>1</td>\n",
       "      <td>Bob</td>\n",
       "      <td>55</td>\n",
       "      <td>60</td>\n",
       "      <td>45</td>\n",
       "      <td>F</td>\n",
       "    </tr>\n",
       "    <tr>\n",
       "      <td>2</td>\n",
       "      <td>Chris</td>\n",
       "      <td>70</td>\n",
       "      <td>75</td>\n",
       "      <td>90</td>\n",
       "      <td>A</td>\n",
       "    </tr>\n",
       "  </tbody>\n",
       "</table>\n",
       "</div>"
      ],
      "text/plain": [
       "  Unnamed: 0  Midterm  Project  Final LetterGrade\n",
       "0       Alex      100       80     95           A\n",
       "1        Bob       55       60     45           F\n",
       "2      Chris       70       75     90           A"
      ]
     },
     "execution_count": 4,
     "metadata": {},
     "output_type": "execute_result"
    }
   ],
   "source": [
    "# Load only the first 3 rows\n",
    "df3 = pd.read_csv(\"../../Data/temp/grades.csv\", delimiter=',', nrows=3)\n",
    "df3"
   ]
  },
  {
   "cell_type": "code",
   "execution_count": 5,
   "metadata": {},
   "outputs": [
    {
     "data": {
      "text/html": [
       "<div>\n",
       "<style scoped>\n",
       "    .dataframe tbody tr th:only-of-type {\n",
       "        vertical-align: middle;\n",
       "    }\n",
       "\n",
       "    .dataframe tbody tr th {\n",
       "        vertical-align: top;\n",
       "    }\n",
       "\n",
       "    .dataframe thead th {\n",
       "        text-align: right;\n",
       "    }\n",
       "</style>\n",
       "<table border=\"1\" class=\"dataframe\">\n",
       "  <thead>\n",
       "    <tr style=\"text-align: right;\">\n",
       "      <th></th>\n",
       "      <th>Unnamed: 0</th>\n",
       "      <th>Midterm</th>\n",
       "      <th>Project</th>\n",
       "      <th>Final</th>\n",
       "      <th>LetterGrade</th>\n",
       "    </tr>\n",
       "  </thead>\n",
       "  <tbody>\n",
       "    <tr>\n",
       "      <td>0</td>\n",
       "      <td>Alex</td>\n",
       "      <td>100</td>\n",
       "      <td>80</td>\n",
       "      <td>95</td>\n",
       "      <td>A</td>\n",
       "    </tr>\n",
       "    <tr>\n",
       "      <td>1</td>\n",
       "      <td>Chris</td>\n",
       "      <td>70</td>\n",
       "      <td>75</td>\n",
       "      <td>90</td>\n",
       "      <td>A</td>\n",
       "    </tr>\n",
       "    <tr>\n",
       "      <td>2</td>\n",
       "      <td>Eva</td>\n",
       "      <td>60</td>\n",
       "      <td>73</td>\n",
       "      <td>75</td>\n",
       "      <td>C</td>\n",
       "    </tr>\n",
       "    <tr>\n",
       "      <td>3</td>\n",
       "      <td>Frank</td>\n",
       "      <td>72</td>\n",
       "      <td>63</td>\n",
       "      <td>-1</td>\n",
       "      <td>NaN</td>\n",
       "    </tr>\n",
       "  </tbody>\n",
       "</table>\n",
       "</div>"
      ],
      "text/plain": [
       "  Unnamed: 0  Midterm  Project  Final LetterGrade\n",
       "0       Alex      100       80     95           A\n",
       "1      Chris       70       75     90           A\n",
       "2        Eva       60       73     75           C\n",
       "3      Frank       72       63     -1         NaN"
      ]
     },
     "execution_count": 5,
     "metadata": {},
     "output_type": "execute_result"
    }
   ],
   "source": [
    "# Load the file, skipping row 2 and 4\n",
    "df4 = pd.read_csv(\"../../Data/temp/grades.csv\", delimiter=',', skiprows=[2, 4])\n",
    "df4"
   ]
  },
  {
   "cell_type": "code",
   "execution_count": 6,
   "metadata": {},
   "outputs": [
    {
     "data": {
      "text/html": [
       "<div>\n",
       "<style scoped>\n",
       "    .dataframe tbody tr th:only-of-type {\n",
       "        vertical-align: middle;\n",
       "    }\n",
       "\n",
       "    .dataframe tbody tr th {\n",
       "        vertical-align: top;\n",
       "    }\n",
       "\n",
       "    .dataframe thead th {\n",
       "        text-align: right;\n",
       "    }\n",
       "</style>\n",
       "<table border=\"1\" class=\"dataframe\">\n",
       "  <thead>\n",
       "    <tr style=\"text-align: right;\">\n",
       "      <th></th>\n",
       "      <th>Name</th>\n",
       "      <th>Midterm</th>\n",
       "      <th>Project</th>\n",
       "      <th>Final</th>\n",
       "      <th>LetterGrade</th>\n",
       "    </tr>\n",
       "  </thead>\n",
       "  <tbody>\n",
       "    <tr>\n",
       "      <td>0</td>\n",
       "      <td>NaN</td>\n",
       "      <td>Midterm</td>\n",
       "      <td>Project</td>\n",
       "      <td>Final</td>\n",
       "      <td>LetterGrade</td>\n",
       "    </tr>\n",
       "    <tr>\n",
       "      <td>1</td>\n",
       "      <td>Alex</td>\n",
       "      <td>100</td>\n",
       "      <td>80</td>\n",
       "      <td>95</td>\n",
       "      <td>A</td>\n",
       "    </tr>\n",
       "    <tr>\n",
       "      <td>2</td>\n",
       "      <td>Bob</td>\n",
       "      <td>55</td>\n",
       "      <td>60</td>\n",
       "      <td>45</td>\n",
       "      <td>F</td>\n",
       "    </tr>\n",
       "    <tr>\n",
       "      <td>3</td>\n",
       "      <td>Chris</td>\n",
       "      <td>70</td>\n",
       "      <td>75</td>\n",
       "      <td>90</td>\n",
       "      <td>A</td>\n",
       "    </tr>\n",
       "    <tr>\n",
       "      <td>4</td>\n",
       "      <td>Doug</td>\n",
       "      <td>75</td>\n",
       "      <td>70</td>\n",
       "      <td>60</td>\n",
       "      <td>D</td>\n",
       "    </tr>\n",
       "    <tr>\n",
       "      <td>5</td>\n",
       "      <td>Eva</td>\n",
       "      <td>60</td>\n",
       "      <td>73</td>\n",
       "      <td>75</td>\n",
       "      <td>C</td>\n",
       "    </tr>\n",
       "    <tr>\n",
       "      <td>6</td>\n",
       "      <td>Frank</td>\n",
       "      <td>72</td>\n",
       "      <td>63</td>\n",
       "      <td>-1</td>\n",
       "      <td>NaN</td>\n",
       "    </tr>\n",
       "  </tbody>\n",
       "</table>\n",
       "</div>"
      ],
      "text/plain": [
       "    Name  Midterm  Project  Final  LetterGrade\n",
       "0    NaN  Midterm  Project  Final  LetterGrade\n",
       "1   Alex      100       80     95            A\n",
       "2    Bob       55       60     45            F\n",
       "3  Chris       70       75     90            A\n",
       "4   Doug       75       70     60            D\n",
       "5    Eva       60       73     75            C\n",
       "6  Frank       72       63     -1          NaN"
      ]
     },
     "execution_count": 6,
     "metadata": {},
     "output_type": "execute_result"
    }
   ],
   "source": [
    "# Remove column headers from the csv file, then load it\n",
    "df5 = pd.read_csv(\"../../Data/temp/grades.csv\", header=None, names=['Name', 'Midterm', 'Project', 'Final', 'LetterGrade'])\n",
    "# df5 = pd.read_csv(\"Data/temp/grades.csv\", delimiter=',', header=None, names=[1, 2, 3, 4, 5])\n",
    "df5"
   ]
  },
  {
   "cell_type": "code",
   "execution_count": 7,
   "metadata": {},
   "outputs": [
    {
     "data": {
      "text/html": [
       "<div>\n",
       "<style scoped>\n",
       "    .dataframe tbody tr th:only-of-type {\n",
       "        vertical-align: middle;\n",
       "    }\n",
       "\n",
       "    .dataframe tbody tr th {\n",
       "        vertical-align: top;\n",
       "    }\n",
       "\n",
       "    .dataframe thead th {\n",
       "        text-align: right;\n",
       "    }\n",
       "</style>\n",
       "<table border=\"1\" class=\"dataframe\">\n",
       "  <thead>\n",
       "    <tr style=\"text-align: right;\">\n",
       "      <th></th>\n",
       "      <th>Midterm</th>\n",
       "      <th>Project</th>\n",
       "      <th>Final</th>\n",
       "      <th>LetterGrade</th>\n",
       "    </tr>\n",
       "  </thead>\n",
       "  <tbody>\n",
       "    <tr>\n",
       "      <td>Alex</td>\n",
       "      <td>100</td>\n",
       "      <td>80</td>\n",
       "      <td>95</td>\n",
       "      <td>A</td>\n",
       "    </tr>\n",
       "    <tr>\n",
       "      <td>Bob</td>\n",
       "      <td>55</td>\n",
       "      <td>60</td>\n",
       "      <td>45</td>\n",
       "      <td>F</td>\n",
       "    </tr>\n",
       "    <tr>\n",
       "      <td>Chris</td>\n",
       "      <td>70</td>\n",
       "      <td>75</td>\n",
       "      <td>90</td>\n",
       "      <td>A</td>\n",
       "    </tr>\n",
       "    <tr>\n",
       "      <td>Doug</td>\n",
       "      <td>75</td>\n",
       "      <td>70</td>\n",
       "      <td>60</td>\n",
       "      <td>D</td>\n",
       "    </tr>\n",
       "    <tr>\n",
       "      <td>Eva</td>\n",
       "      <td>60</td>\n",
       "      <td>73</td>\n",
       "      <td>75</td>\n",
       "      <td>C</td>\n",
       "    </tr>\n",
       "    <tr>\n",
       "      <td>Frank</td>\n",
       "      <td>72</td>\n",
       "      <td>63</td>\n",
       "      <td>-1</td>\n",
       "      <td>NaN</td>\n",
       "    </tr>\n",
       "  </tbody>\n",
       "</table>\n",
       "</div>"
      ],
      "text/plain": [
       "       Midterm  Project  Final LetterGrade\n",
       "Alex       100       80     95           A\n",
       "Bob         55       60     45           F\n",
       "Chris       70       75     90           A\n",
       "Doug        75       70     60           D\n",
       "Eva         60       73     75           C\n",
       "Frank       72       63     -1         NaN"
      ]
     },
     "execution_count": 7,
     "metadata": {},
     "output_type": "execute_result"
    }
   ],
   "source": [
    "# Set first column as index\n",
    "df6 = pd.read_csv(\"../../Data/temp/grades.csv\", delimiter=',', index_col=0)\n",
    "df6"
   ]
  },
  {
   "cell_type": "code",
   "execution_count": 8,
   "metadata": {},
   "outputs": [
    {
     "data": {
      "text/html": [
       "<div>\n",
       "<style scoped>\n",
       "    .dataframe tbody tr th:only-of-type {\n",
       "        vertical-align: middle;\n",
       "    }\n",
       "\n",
       "    .dataframe tbody tr th {\n",
       "        vertical-align: top;\n",
       "    }\n",
       "\n",
       "    .dataframe thead th {\n",
       "        text-align: right;\n",
       "    }\n",
       "</style>\n",
       "<table border=\"1\" class=\"dataframe\">\n",
       "  <thead>\n",
       "    <tr style=\"text-align: right;\">\n",
       "      <th></th>\n",
       "      <th>Unnamed: 0</th>\n",
       "      <th>Midterm</th>\n",
       "      <th>Project</th>\n",
       "      <th>Final</th>\n",
       "      <th>LetterGrade</th>\n",
       "    </tr>\n",
       "  </thead>\n",
       "  <tbody>\n",
       "    <tr>\n",
       "      <td>0</td>\n",
       "      <td>Alex</td>\n",
       "      <td>100</td>\n",
       "      <td>80</td>\n",
       "      <td>95.0</td>\n",
       "      <td>A</td>\n",
       "    </tr>\n",
       "    <tr>\n",
       "      <td>1</td>\n",
       "      <td>Bob</td>\n",
       "      <td>55</td>\n",
       "      <td>60</td>\n",
       "      <td>45.0</td>\n",
       "      <td>F</td>\n",
       "    </tr>\n",
       "    <tr>\n",
       "      <td>2</td>\n",
       "      <td>Chris</td>\n",
       "      <td>70</td>\n",
       "      <td>75</td>\n",
       "      <td>90.0</td>\n",
       "      <td>A</td>\n",
       "    </tr>\n",
       "    <tr>\n",
       "      <td>3</td>\n",
       "      <td>Doug</td>\n",
       "      <td>75</td>\n",
       "      <td>70</td>\n",
       "      <td>60.0</td>\n",
       "      <td>D</td>\n",
       "    </tr>\n",
       "    <tr>\n",
       "      <td>4</td>\n",
       "      <td>Eva</td>\n",
       "      <td>60</td>\n",
       "      <td>73</td>\n",
       "      <td>75.0</td>\n",
       "      <td>C</td>\n",
       "    </tr>\n",
       "    <tr>\n",
       "      <td>5</td>\n",
       "      <td>Frank</td>\n",
       "      <td>72</td>\n",
       "      <td>63</td>\n",
       "      <td>NaN</td>\n",
       "      <td>NaN</td>\n",
       "    </tr>\n",
       "  </tbody>\n",
       "</table>\n",
       "</div>"
      ],
      "text/plain": [
       "  Unnamed: 0  Midterm  Project  Final LetterGrade\n",
       "0       Alex      100       80   95.0           A\n",
       "1        Bob       55       60   45.0           F\n",
       "2      Chris       70       75   90.0           A\n",
       "3       Doug       75       70   60.0           D\n",
       "4        Eva       60       73   75.0           C\n",
       "5      Frank       72       63    NaN         NaN"
      ]
     },
     "execution_count": 8,
     "metadata": {},
     "output_type": "execute_result"
    }
   ],
   "source": [
    "# Identify -1 as NaN\n",
    "df7 = pd.read_csv(\"../../Data/temp/grades.csv\", delimiter=',', na_values=[-1])\n",
    "df7"
   ]
  },
  {
   "cell_type": "markdown",
   "metadata": {},
   "source": [
    "### 2. Load txt file with values separated by spaces"
   ]
  },
  {
   "cell_type": "code",
   "execution_count": 9,
   "metadata": {},
   "outputs": [],
   "source": [
    "with open(\"../../Data/temp/values.txt\", 'w') as file:\n",
    "    file.write(\"Index Category     Value\\n\")\n",
    "    file.write(\"1            A      2.92\\n\")\n",
    "    file.write(\"2            B     12.14\\n\")\n",
    "    file.write(\"3            C    123.56\\n\")"
   ]
  },
  {
   "cell_type": "code",
   "execution_count": 10,
   "metadata": {},
   "outputs": [
    {
     "data": {
      "text/html": [
       "<div>\n",
       "<style scoped>\n",
       "    .dataframe tbody tr th:only-of-type {\n",
       "        vertical-align: middle;\n",
       "    }\n",
       "\n",
       "    .dataframe tbody tr th {\n",
       "        vertical-align: top;\n",
       "    }\n",
       "\n",
       "    .dataframe thead th {\n",
       "        text-align: right;\n",
       "    }\n",
       "</style>\n",
       "<table border=\"1\" class=\"dataframe\">\n",
       "  <thead>\n",
       "    <tr style=\"text-align: right;\">\n",
       "      <th></th>\n",
       "      <th></th>\n",
       "      <th></th>\n",
       "      <th></th>\n",
       "      <th></th>\n",
       "      <th></th>\n",
       "      <th></th>\n",
       "      <th></th>\n",
       "      <th></th>\n",
       "      <th></th>\n",
       "      <th></th>\n",
       "      <th></th>\n",
       "      <th>Index</th>\n",
       "      <th>Category</th>\n",
       "      <th>Unnamed: 2</th>\n",
       "      <th>Unnamed: 3</th>\n",
       "      <th>Unnamed: 4</th>\n",
       "      <th>Unnamed: 5</th>\n",
       "      <th>Value</th>\n",
       "    </tr>\n",
       "  </thead>\n",
       "  <tbody>\n",
       "    <tr>\n",
       "      <td>1</td>\n",
       "      <td>NaN</td>\n",
       "      <td>NaN</td>\n",
       "      <td>NaN</td>\n",
       "      <td>NaN</td>\n",
       "      <td>NaN</td>\n",
       "      <td>NaN</td>\n",
       "      <td>NaN</td>\n",
       "      <td>NaN</td>\n",
       "      <td>NaN</td>\n",
       "      <td>NaN</td>\n",
       "      <td>NaN</td>\n",
       "      <td>A</td>\n",
       "      <td>NaN</td>\n",
       "      <td>NaN</td>\n",
       "      <td>NaN</td>\n",
       "      <td>NaN</td>\n",
       "      <td>NaN</td>\n",
       "      <td>2.92</td>\n",
       "    </tr>\n",
       "    <tr>\n",
       "      <td>2</td>\n",
       "      <td>NaN</td>\n",
       "      <td>NaN</td>\n",
       "      <td>NaN</td>\n",
       "      <td>NaN</td>\n",
       "      <td>NaN</td>\n",
       "      <td>NaN</td>\n",
       "      <td>NaN</td>\n",
       "      <td>NaN</td>\n",
       "      <td>NaN</td>\n",
       "      <td>NaN</td>\n",
       "      <td>NaN</td>\n",
       "      <td>B</td>\n",
       "      <td>NaN</td>\n",
       "      <td>NaN</td>\n",
       "      <td>NaN</td>\n",
       "      <td>NaN</td>\n",
       "      <td>12.14</td>\n",
       "      <td>NaN</td>\n",
       "    </tr>\n",
       "    <tr>\n",
       "      <td>3</td>\n",
       "      <td>NaN</td>\n",
       "      <td>NaN</td>\n",
       "      <td>NaN</td>\n",
       "      <td>NaN</td>\n",
       "      <td>NaN</td>\n",
       "      <td>NaN</td>\n",
       "      <td>NaN</td>\n",
       "      <td>NaN</td>\n",
       "      <td>NaN</td>\n",
       "      <td>NaN</td>\n",
       "      <td>NaN</td>\n",
       "      <td>C</td>\n",
       "      <td>NaN</td>\n",
       "      <td>NaN</td>\n",
       "      <td>NaN</td>\n",
       "      <td>123.56</td>\n",
       "      <td>NaN</td>\n",
       "      <td>NaN</td>\n",
       "    </tr>\n",
       "  </tbody>\n",
       "</table>\n",
       "</div>"
      ],
      "text/plain": [
       "                                              Index  Category  Unnamed: 2  \\\n",
       "1 NaN NaN NaN NaN NaN NaN NaN NaN NaN NaN NaN     A       NaN         NaN   \n",
       "2 NaN NaN NaN NaN NaN NaN NaN NaN NaN NaN NaN     B       NaN         NaN   \n",
       "3 NaN NaN NaN NaN NaN NaN NaN NaN NaN NaN NaN     C       NaN         NaN   \n",
       "\n",
       "                                               Unnamed: 3  Unnamed: 4  \\\n",
       "1 NaN NaN NaN NaN NaN NaN NaN NaN NaN NaN NaN         NaN         NaN   \n",
       "2 NaN NaN NaN NaN NaN NaN NaN NaN NaN NaN NaN         NaN         NaN   \n",
       "3 NaN NaN NaN NaN NaN NaN NaN NaN NaN NaN NaN         NaN      123.56   \n",
       "\n",
       "                                               Unnamed: 5  Value  \n",
       "1 NaN NaN NaN NaN NaN NaN NaN NaN NaN NaN NaN         NaN   2.92  \n",
       "2 NaN NaN NaN NaN NaN NaN NaN NaN NaN NaN NaN       12.14    NaN  \n",
       "3 NaN NaN NaN NaN NaN NaN NaN NaN NaN NaN NaN         NaN    NaN  "
      ]
     },
     "execution_count": 10,
     "metadata": {},
     "output_type": "execute_result"
    }
   ],
   "source": [
    "# Although read_csv() is still applicable, setting delimiter to a single space will create errors\n",
    "df = pd.read_csv(\"../../Data/temp/values.txt\", delimiter=\" \")\n",
    "df"
   ]
  },
  {
   "cell_type": "code",
   "execution_count": 11,
   "metadata": {},
   "outputs": [
    {
     "data": {
      "text/html": [
       "<div>\n",
       "<style scoped>\n",
       "    .dataframe tbody tr th:only-of-type {\n",
       "        vertical-align: middle;\n",
       "    }\n",
       "\n",
       "    .dataframe tbody tr th {\n",
       "        vertical-align: top;\n",
       "    }\n",
       "\n",
       "    .dataframe thead th {\n",
       "        text-align: right;\n",
       "    }\n",
       "</style>\n",
       "<table border=\"1\" class=\"dataframe\">\n",
       "  <thead>\n",
       "    <tr style=\"text-align: right;\">\n",
       "      <th></th>\n",
       "      <th>Index</th>\n",
       "      <th>Category</th>\n",
       "      <th>Value</th>\n",
       "    </tr>\n",
       "  </thead>\n",
       "  <tbody>\n",
       "    <tr>\n",
       "      <td>0</td>\n",
       "      <td>1</td>\n",
       "      <td>A</td>\n",
       "      <td>2.92</td>\n",
       "    </tr>\n",
       "    <tr>\n",
       "      <td>1</td>\n",
       "      <td>2</td>\n",
       "      <td>B</td>\n",
       "      <td>12.14</td>\n",
       "    </tr>\n",
       "    <tr>\n",
       "      <td>2</td>\n",
       "      <td>3</td>\n",
       "      <td>C</td>\n",
       "      <td>123.56</td>\n",
       "    </tr>\n",
       "  </tbody>\n",
       "</table>\n",
       "</div>"
      ],
      "text/plain": [
       "   Index Category   Value\n",
       "0      1        A    2.92\n",
       "1      2        B   12.14\n",
       "2      3        C  123.56"
      ]
     },
     "execution_count": 11,
     "metadata": {},
     "output_type": "execute_result"
    }
   ],
   "source": [
    "df = pd.read_csv(\"../../Data/temp/values.txt\", delimiter=\"\\s+\")\n",
    "df"
   ]
  },
  {
   "cell_type": "markdown",
   "metadata": {},
   "source": [
    "### 3. Load JSON files\n",
    "\n",
    "**JavaScript Object Notation (JSON)** is a popular file format to storing unstructured data because it is easy for both human and computer to understand.\n",
    "- Its structure is very similar to Python dictionary\n",
    "- Load a json file with json.leads()\n",
    "- Writes to a json file with json.dump()"
   ]
  },
  {
   "cell_type": "code",
   "execution_count": 12,
   "metadata": {},
   "outputs": [],
   "source": [
    "obj = \"\"\"\n",
    "{\"name\": \"Wes\",\n",
    " \"places_lived\": [\"United States\", \"Spain\", \"Germany\"],\n",
    " \"pet\": null,\n",
    " \"siblings\": [{\"name\": \"Scott\", \"age\": 30, \"pets\": [\"Zeus\", \"Zuko\"]},\n",
    "              {\"name\": \"Katie\", \"age\": 38,\n",
    "               \"pets\": [\"Sixes\", \"Stache\", \"Cisco\"]}]\n",
    "}\n",
    "\"\"\""
   ]
  },
  {
   "cell_type": "code",
   "execution_count": 13,
   "metadata": {},
   "outputs": [
    {
     "data": {
      "text/plain": [
       "{'name': 'Wes',\n",
       " 'places_lived': ['United States', 'Spain', 'Germany'],\n",
       " 'pet': None,\n",
       " 'siblings': [{'name': 'Scott', 'age': 30, 'pets': ['Zeus', 'Zuko']},\n",
       "  {'name': 'Katie', 'age': 38, 'pets': ['Sixes', 'Stache', 'Cisco']}]}"
      ]
     },
     "execution_count": 13,
     "metadata": {},
     "output_type": "execute_result"
    }
   ],
   "source": [
    "import json\n",
    "result = json.loads(obj)\n",
    "result"
   ]
  },
  {
   "cell_type": "code",
   "execution_count": 14,
   "metadata": {},
   "outputs": [],
   "source": [
    "?result"
   ]
  },
  {
   "cell_type": "code",
   "execution_count": 15,
   "metadata": {},
   "outputs": [],
   "source": [
    "asjson = json.dumps(result)"
   ]
  },
  {
   "cell_type": "code",
   "execution_count": 16,
   "metadata": {},
   "outputs": [],
   "source": [
    "# Use json.fump(object, file) to write the content of object to file\n",
    "with open(\"../../Data/temp/People.json\", 'w') as file:\n",
    "    json.dump(result, file)"
   ]
  },
  {
   "cell_type": "code",
   "execution_count": 17,
   "metadata": {},
   "outputs": [
    {
     "data": {
      "text/plain": [
       "{'name': 'Wes',\n",
       " 'places_lived': ['United States', 'Spain', 'Germany'],\n",
       " 'pet': None,\n",
       " 'siblings': [{'name': 'Scott', 'age': 30, 'pets': ['Zeus', 'Zuko']},\n",
       "  {'name': 'Katie', 'age': 38, 'pets': ['Sixes', 'Stache', 'Cisco']}]}"
      ]
     },
     "execution_count": 17,
     "metadata": {},
     "output_type": "execute_result"
    }
   ],
   "source": [
    "# Load from People.json\n",
    "with open(\"../../Data/temp/People.json\", \"r\") as file:\n",
    "    people = json.load(file)\n",
    "people"
   ]
  },
  {
   "cell_type": "code",
   "execution_count": null,
   "metadata": {},
   "outputs": [],
   "source": []
  },
  {
   "cell_type": "code",
   "execution_count": 18,
   "metadata": {},
   "outputs": [
    {
     "data": {
      "text/html": [
       "<div>\n",
       "<style scoped>\n",
       "    .dataframe tbody tr th:only-of-type {\n",
       "        vertical-align: middle;\n",
       "    }\n",
       "\n",
       "    .dataframe tbody tr th {\n",
       "        vertical-align: top;\n",
       "    }\n",
       "\n",
       "    .dataframe thead th {\n",
       "        text-align: right;\n",
       "    }\n",
       "</style>\n",
       "<table border=\"1\" class=\"dataframe\">\n",
       "  <thead>\n",
       "    <tr style=\"text-align: right;\">\n",
       "      <th></th>\n",
       "      <th>name</th>\n",
       "      <th>age</th>\n",
       "      <th>pets</th>\n",
       "    </tr>\n",
       "  </thead>\n",
       "  <tbody>\n",
       "    <tr>\n",
       "      <td>0</td>\n",
       "      <td>Scott</td>\n",
       "      <td>30</td>\n",
       "      <td>[Zeus, Zuko]</td>\n",
       "    </tr>\n",
       "    <tr>\n",
       "      <td>1</td>\n",
       "      <td>Katie</td>\n",
       "      <td>38</td>\n",
       "      <td>[Sixes, Stache, Cisco]</td>\n",
       "    </tr>\n",
       "  </tbody>\n",
       "</table>\n",
       "</div>"
      ],
      "text/plain": [
       "    name  age                    pets\n",
       "0  Scott   30            [Zeus, Zuko]\n",
       "1  Katie   38  [Sixes, Stache, Cisco]"
      ]
     },
     "execution_count": 18,
     "metadata": {},
     "output_type": "execute_result"
    }
   ],
   "source": [
    "siblings = pd.DataFrame(result['siblings'], columns=['name', 'age', 'pets'])\n",
    "siblings"
   ]
  },
  {
   "cell_type": "markdown",
   "metadata": {},
   "source": [
    "## II. Web Scrapping\n",
    "When performing data science tasks, it's common to want to use data found on the internet. You'll usually be able to access the data in csv format, or via an Application Programming Interface (API). However, there are times when the data you want can only be accessed as part of a web page. In cases like this, you'll want to use a technique called **web scraping** to get the data from the web page into a format you can work with in your analysis."
   ]
  },
  {
   "cell_type": "code",
   "execution_count": 19,
   "metadata": {},
   "outputs": [
    {
     "data": {
      "text/plain": [
       "<Response [200]>"
      ]
     },
     "execution_count": 19,
     "metadata": {},
     "output_type": "execute_result"
    }
   ],
   "source": [
    "# Download a webpage\n",
    "import requests\n",
    "page = requests.get(\"http://dataquestio.github.io/web-scraping-pages/simple.html\")\n",
    "page #2** status code usually means successful download"
   ]
  },
  {
   "cell_type": "code",
   "execution_count": 20,
   "metadata": {},
   "outputs": [
    {
     "name": "stdout",
     "output_type": "stream",
     "text": [
      "b'<!DOCTYPE html>\\n<html>\\n    <head>\\n        <title>A simple example page</title>\\n    </head>\\n    <body>\\n        <p>Here is some simple content for this page.</p>\\n    </body>\\n</html>'\n"
     ]
    }
   ],
   "source": [
    "# Show what is downloaded\n",
    "print(page.content)"
   ]
  },
  {
   "cell_type": "markdown",
   "metadata": {},
   "source": [
    "We will use **beautifulsoup** library to extract useful information from the html script."
   ]
  },
  {
   "cell_type": "code",
   "execution_count": 21,
   "metadata": {},
   "outputs": [],
   "source": [
    "from bs4 import BeautifulSoup"
   ]
  },
  {
   "cell_type": "code",
   "execution_count": 22,
   "metadata": {},
   "outputs": [
    {
     "name": "stdout",
     "output_type": "stream",
     "text": [
      "<!DOCTYPE html>\n",
      "<html>\n",
      " <head>\n",
      "  <title>\n",
      "   A simple example page\n",
      "  </title>\n",
      " </head>\n",
      " <body>\n",
      "  <p>\n",
      "   Here is some simple content for this page.\n",
      "  </p>\n",
      " </body>\n",
      "</html>\n"
     ]
    }
   ],
   "source": [
    "soup = BeautifulSoup(page.content, 'html.parser')\n",
    "print(soup.prettify())"
   ]
  },
  {
   "cell_type": "code",
   "execution_count": 23,
   "metadata": {},
   "outputs": [
    {
     "data": {
      "text/plain": [
       "['html', '\\n', <html>\n",
       " <head>\n",
       " <title>A simple example page</title>\n",
       " </head>\n",
       " <body>\n",
       " <p>Here is some simple content for this page.</p>\n",
       " </body>\n",
       " </html>]"
      ]
     },
     "execution_count": 23,
     "metadata": {},
     "output_type": "execute_result"
    }
   ],
   "source": [
    "# using the children attribute to select all the top-level tags\n",
    "list(soup.children)"
   ]
  },
  {
   "cell_type": "code",
   "execution_count": 24,
   "metadata": {},
   "outputs": [
    {
     "name": "stdout",
     "output_type": "stream",
     "text": [
      "[<class 'bs4.element.Doctype'>, <class 'bs4.element.NavigableString'>, <class 'bs4.element.Tag'>]\n"
     ]
    }
   ],
   "source": [
    "# type of each children\n",
    "print([type(item) for item in list(soup.children)])"
   ]
  },
  {
   "cell_type": "code",
   "execution_count": 25,
   "metadata": {},
   "outputs": [
    {
     "name": "stdout",
     "output_type": "stream",
     "text": [
      "<html>\n",
      "<head>\n",
      "<title>A simple example page</title>\n",
      "</head>\n",
      "<body>\n",
      "<p>Here is some simple content for this page.</p>\n",
      "</body>\n",
      "</html>\n"
     ]
    }
   ],
   "source": [
    "# select the html tag and its children by taking the third item in the list:\n",
    "html = list(soup.children)[2]\n",
    "print(html)"
   ]
  },
  {
   "cell_type": "code",
   "execution_count": 26,
   "metadata": {
    "scrolled": true
   },
   "outputs": [
    {
     "name": "stdout",
     "output_type": "stream",
     "text": [
      "0\n",
      "\n",
      "1<head>\n",
      "<title>A simple example page</title>\n",
      "</head>\n",
      "2\n",
      "\n",
      "3<body>\n",
      "<p>Here is some simple content for this page.</p>\n",
      "</body>\n",
      "4\n",
      "\n"
     ]
    }
   ],
   "source": [
    "print('\\n'.join([str(idx) + str(item) for idx, item in enumerate(list(html.children))]))"
   ]
  },
  {
   "cell_type": "code",
   "execution_count": 27,
   "metadata": {
    "scrolled": true
   },
   "outputs": [
    {
     "data": {
      "text/plain": [
       "5"
      ]
     },
     "execution_count": 27,
     "metadata": {},
     "output_type": "execute_result"
    }
   ],
   "source": [
    "len(list(html.children))"
   ]
  },
  {
   "cell_type": "code",
   "execution_count": 28,
   "metadata": {},
   "outputs": [
    {
     "name": "stdout",
     "output_type": "stream",
     "text": [
      "[<class 'bs4.element.NavigableString'>, <class 'bs4.element.Tag'>, <class 'bs4.element.NavigableString'>, <class 'bs4.element.Tag'>, <class 'bs4.element.NavigableString'>]\n"
     ]
    }
   ],
   "source": [
    "print([type(item) for item in list(html.children)])"
   ]
  },
  {
   "cell_type": "code",
   "execution_count": 29,
   "metadata": {},
   "outputs": [
    {
     "name": "stdout",
     "output_type": "stream",
     "text": [
      "<body>\n",
      "<p>Here is some simple content for this page.</p>\n",
      "</body>\n"
     ]
    }
   ],
   "source": [
    "body = list(html.children)[3]\n",
    "print(body)"
   ]
  },
  {
   "cell_type": "code",
   "execution_count": 30,
   "metadata": {},
   "outputs": [
    {
     "name": "stdout",
     "output_type": "stream",
     "text": [
      "['\\n', <p>Here is some simple content for this page.</p>, '\\n']\n"
     ]
    }
   ],
   "source": [
    "print(list(body.children))"
   ]
  },
  {
   "cell_type": "code",
   "execution_count": 31,
   "metadata": {},
   "outputs": [
    {
     "name": "stdout",
     "output_type": "stream",
     "text": [
      "<p>Here is some simple content for this page.</p>\n"
     ]
    }
   ],
   "source": [
    "p = list(body.children)[1]\n",
    "print(p)"
   ]
  },
  {
   "cell_type": "code",
   "execution_count": 32,
   "metadata": {},
   "outputs": [
    {
     "data": {
      "text/plain": [
       "'Here is some simple content for this page.'"
      ]
     },
     "execution_count": 32,
     "metadata": {},
     "output_type": "execute_result"
    }
   ],
   "source": [
    "p.get_text()"
   ]
  },
  {
   "cell_type": "markdown",
   "metadata": {},
   "source": [
    "#### FInding all instances of a tag at once"
   ]
  },
  {
   "cell_type": "code",
   "execution_count": 33,
   "metadata": {},
   "outputs": [
    {
     "data": {
      "text/plain": [
       "[<p>Here is some simple content for this page.</p>]"
      ]
     },
     "execution_count": 33,
     "metadata": {},
     "output_type": "execute_result"
    }
   ],
   "source": [
    "soup = BeautifulSoup(page.content, 'html.parser')\n",
    "soup.find_all('p')"
   ]
  },
  {
   "cell_type": "code",
   "execution_count": 34,
   "metadata": {},
   "outputs": [
    {
     "data": {
      "text/plain": [
       "'Here is some simple content for this page.'"
      ]
     },
     "execution_count": 34,
     "metadata": {},
     "output_type": "execute_result"
    }
   ],
   "source": [
    "soup.find_all('p')[0].get_text()"
   ]
  },
  {
   "cell_type": "code",
   "execution_count": 35,
   "metadata": {},
   "outputs": [
    {
     "data": {
      "text/plain": [
       "<p>Here is some simple content for this page.</p>"
      ]
     },
     "execution_count": 35,
     "metadata": {},
     "output_type": "execute_result"
    }
   ],
   "source": [
    "# Find the first instance of a tag\n",
    "soup.find('p')"
   ]
  },
  {
   "cell_type": "markdown",
   "metadata": {},
   "source": [
    "#### Searching for tags by class and id"
   ]
  },
  {
   "cell_type": "code",
   "execution_count": 36,
   "metadata": {},
   "outputs": [
    {
     "data": {
      "text/plain": [
       "<html>\n",
       "<head>\n",
       "<title>A simple example page</title>\n",
       "</head>\n",
       "<body>\n",
       "<div>\n",
       "<p class=\"inner-text first-item\" id=\"first\">\n",
       "                First paragraph.\n",
       "            </p>\n",
       "<p class=\"inner-text\">\n",
       "                Second paragraph.\n",
       "            </p>\n",
       "</div>\n",
       "<p class=\"outer-text first-item\" id=\"second\">\n",
       "<b>\n",
       "                First outer paragraph.\n",
       "            </b>\n",
       "</p>\n",
       "<p class=\"outer-text\">\n",
       "<b>\n",
       "                Second outer paragraph.\n",
       "            </b>\n",
       "</p>\n",
       "</body>\n",
       "</html>"
      ]
     },
     "execution_count": 36,
     "metadata": {},
     "output_type": "execute_result"
    }
   ],
   "source": [
    "# Let's look at another webpage with classes and id's\n",
    "page = requests.get(\"http://dataquestio.github.io/web-scraping-pages/ids_and_classes.html\")\n",
    "soup = BeautifulSoup(page.content, 'html.parser')\n",
    "soup"
   ]
  },
  {
   "cell_type": "code",
   "execution_count": 37,
   "metadata": {},
   "outputs": [
    {
     "data": {
      "text/plain": [
       "[<p class=\"outer-text first-item\" id=\"second\">\n",
       " <b>\n",
       "                 First outer paragraph.\n",
       "             </b>\n",
       " </p>, <p class=\"outer-text\">\n",
       " <b>\n",
       "                 Second outer paragraph.\n",
       "             </b>\n",
       " </p>]"
      ]
     },
     "execution_count": 37,
     "metadata": {},
     "output_type": "execute_result"
    }
   ],
   "source": [
    "# Find all tags of a class\n",
    "soup.find_all(class_=\"outer-text\")"
   ]
  },
  {
   "cell_type": "code",
   "execution_count": 38,
   "metadata": {
    "scrolled": true
   },
   "outputs": [
    {
     "data": {
      "text/plain": [
       "[<p class=\"inner-text first-item\" id=\"first\">\n",
       "                 First paragraph.\n",
       "             </p>]"
      ]
     },
     "execution_count": 38,
     "metadata": {},
     "output_type": "execute_result"
    }
   ],
   "source": [
    "soup.find_all(id=\"first\")"
   ]
  },
  {
   "cell_type": "code",
   "execution_count": 39,
   "metadata": {},
   "outputs": [
    {
     "data": {
      "text/plain": [
       "[<p class=\"inner-text first-item\" id=\"first\">\n",
       "                 First paragraph.\n",
       "             </p>, <p class=\"inner-text\">\n",
       "                 Second paragraph.\n",
       "             </p>, <p class=\"outer-text first-item\" id=\"second\">\n",
       " <b>\n",
       "                 First outer paragraph.\n",
       "             </b>\n",
       " </p>, <p class=\"outer-text\">\n",
       " <b>\n",
       "                 Second outer paragraph.\n",
       "             </b>\n",
       " </p>]"
      ]
     },
     "execution_count": 39,
     "metadata": {},
     "output_type": "execute_result"
    }
   ],
   "source": [
    "soup.find_all('p')"
   ]
  },
  {
   "cell_type": "markdown",
   "metadata": {},
   "source": [
    "#### Downloading the weather data\n",
    "1. Open the [weather forecast page](https://forecast.weather.gov/MapClick.php?lat=40.7146&lon=-74.0071#.Xbc5aXVKhhE)\n",
    "2. Display the source code (On Chrome use \"Developer Tools\")\n",
    "3. Identify the item containing data (On Chrome right click the values and select \"Inspect\")"
   ]
  },
  {
   "cell_type": "code",
   "execution_count": 40,
   "metadata": {},
   "outputs": [
    {
     "name": "stdout",
     "output_type": "stream",
     "text": [
      "<div class=\"tombstone-container\">\n",
      " <p class=\"period-name\">\n",
      "  Overnight\n",
      "  <br/>\n",
      "  <br/>\n",
      " </p>\n",
      " <p>\n",
      "  <img alt=\"Overnight: Mostly cloudy, with a steady temperature around 35. Wind chill values between 30 and 35. Southwest wind around 8 mph. \" class=\"forecast-icon\" src=\"newimages/medium/nbkn.png\" title=\"Overnight: Mostly cloudy, with a steady temperature around 35. Wind chill values between 30 and 35. Southwest wind around 8 mph. \"/>\n",
      " </p>\n",
      " <p class=\"short-desc\">\n",
      "  Mostly Cloudy\n",
      " </p>\n",
      " <p class=\"temp temp-low\">\n",
      "  Low: 35 °F\n",
      " </p>\n",
      "</div>\n"
     ]
    }
   ],
   "source": [
    "page = requests.get(\"https://forecast.weather.gov/MapClick.php?lat=40.7146&lon=-74.0071#.Xbc5aXVKhhE\")\n",
    "soup = BeautifulSoup(page.content, 'html.parser')\n",
    "seven_day = soup.find(id=\"seven-day-forecast\")\n",
    "# print(len(seven_day))\n",
    "# print(seven_day)\n",
    "forecast_items = seven_day.find_all(class_=\"tombstone-container\")\n",
    "# print(len(forecast_items))\n",
    "# print(forecast_items)\n",
    "tonight = forecast_items[0]\n",
    "print(tonight.prettify())"
   ]
  },
  {
   "cell_type": "code",
   "execution_count": 41,
   "metadata": {},
   "outputs": [
    {
     "name": "stdout",
     "output_type": "stream",
     "text": [
      "Overnight\n",
      "Mostly Cloudy\n",
      "Low: 35 °F\n"
     ]
    }
   ],
   "source": [
    "# Find today's weather\n",
    "period = tonight.find(class_=\"period-name\").get_text()\n",
    "short_desc = tonight.find(class_=\"short-desc\").get_text()\n",
    "temp = tonight.find(class_=\"temp\").get_text()\n",
    "print(period)\n",
    "print(short_desc)\n",
    "print(temp)"
   ]
  },
  {
   "cell_type": "code",
   "execution_count": 42,
   "metadata": {},
   "outputs": [
    {
     "data": {
      "text/plain": [
       "['Overnight',\n",
       " 'Friday',\n",
       " 'FridayNight',\n",
       " 'Saturday',\n",
       " 'SaturdayNight',\n",
       " 'Sunday',\n",
       " 'SundayNight',\n",
       " 'Monday',\n",
       " 'MondayNight']"
      ]
     },
     "execution_count": 42,
     "metadata": {},
     "output_type": "execute_result"
    }
   ],
   "source": [
    "# Find weather forecast for the week\n",
    "period_tags = seven_day.select(\".tombstone-container .period-name\")\n",
    "periods = [pt.get_text() for pt in period_tags]\n",
    "periods"
   ]
  },
  {
   "cell_type": "code",
   "execution_count": 43,
   "metadata": {},
   "outputs": [
    {
     "name": "stdout",
     "output_type": "stream",
     "text": [
      "['Mostly Cloudy', 'Slight ChanceLight Rainthen MostlyCloudy', 'PatchyDrizzle andPatchy Fog', 'Slight ChanceShowers andAreas Fog', 'ChanceShowers andAreas Fog', 'ShowersLikely andBreezy', 'Partly Cloudy', 'Partly Sunny', 'Partly Cloudy']\n",
      "['Low: 35 °F', 'High: 53 °F', 'Low: 51 °F', 'High: 61 °F', 'Low: 56 °F', 'High: 65 °F', 'Low: 44 °F', 'High: 49 °F', 'Low: 40 °F']\n",
      "['Overnight: Mostly cloudy, with a steady temperature around 35. Wind chill values between 30 and 35. Southwest wind around 8 mph. ', 'Friday: A slight chance of drizzle or light rain between 9am and noon.  Mostly cloudy, with a high near 53. Wind chill values between 30 and 40 early. Southwest wind 9 to 11 mph.  Chance of precipitation is 20%.', 'Friday Night: Patchy drizzle and fog with a slight chance of light rain, mainly after 3am.  Cloudy, with a steady temperature around 51. Southwest wind 7 to 9 mph. ', 'Saturday: A 20 percent chance of showers.  Areas of fog.  Otherwise, mostly cloudy, with a high near 61. South wind 10 to 15 mph. ', 'Saturday Night: A 50 percent chance of showers.  Areas of fog.  Otherwise, mostly cloudy, with a low around 56. South wind 14 to 18 mph. ', 'Sunday: Showers likely.  Cloudy through mid morning, then gradual clearing, with a high near 65. Breezy.  Chance of precipitation is 70%. New precipitation amounts of less than a tenth of an inch possible. ', 'Sunday Night: Partly cloudy, with a low around 44.', 'Monday: Partly sunny, with a high near 49.', 'Monday Night: Partly cloudy, with a low around 40.']\n"
     ]
    }
   ],
   "source": [
    "short_descs = [sd.get_text() for sd in seven_day.select(\".tombstone-container .short-desc\")]\n",
    "temps = [t.get_text() for t in seven_day.select(\".tombstone-container .temp\")]\n",
    "descs = [d[\"title\"] for d in seven_day.select(\".tombstone-container img\")]\n",
    "print(short_descs)\n",
    "print(temps)\n",
    "print(descs)"
   ]
  },
  {
   "cell_type": "code",
   "execution_count": 44,
   "metadata": {},
   "outputs": [
    {
     "data": {
      "text/html": [
       "<div>\n",
       "<style scoped>\n",
       "    .dataframe tbody tr th:only-of-type {\n",
       "        vertical-align: middle;\n",
       "    }\n",
       "\n",
       "    .dataframe tbody tr th {\n",
       "        vertical-align: top;\n",
       "    }\n",
       "\n",
       "    .dataframe thead th {\n",
       "        text-align: right;\n",
       "    }\n",
       "</style>\n",
       "<table border=\"1\" class=\"dataframe\">\n",
       "  <thead>\n",
       "    <tr style=\"text-align: right;\">\n",
       "      <th></th>\n",
       "      <th>period</th>\n",
       "      <th>short_desc</th>\n",
       "      <th>temp</th>\n",
       "      <th>desc</th>\n",
       "    </tr>\n",
       "  </thead>\n",
       "  <tbody>\n",
       "    <tr>\n",
       "      <td>0</td>\n",
       "      <td>Overnight</td>\n",
       "      <td>Mostly Cloudy</td>\n",
       "      <td>Low: 35 °F</td>\n",
       "      <td>Overnight: Mostly cloudy, with a steady temper...</td>\n",
       "    </tr>\n",
       "    <tr>\n",
       "      <td>1</td>\n",
       "      <td>Friday</td>\n",
       "      <td>Slight ChanceLight Rainthen MostlyCloudy</td>\n",
       "      <td>High: 53 °F</td>\n",
       "      <td>Friday: A slight chance of drizzle or light ra...</td>\n",
       "    </tr>\n",
       "    <tr>\n",
       "      <td>2</td>\n",
       "      <td>FridayNight</td>\n",
       "      <td>PatchyDrizzle andPatchy Fog</td>\n",
       "      <td>Low: 51 °F</td>\n",
       "      <td>Friday Night: Patchy drizzle and fog with a sl...</td>\n",
       "    </tr>\n",
       "    <tr>\n",
       "      <td>3</td>\n",
       "      <td>Saturday</td>\n",
       "      <td>Slight ChanceShowers andAreas Fog</td>\n",
       "      <td>High: 61 °F</td>\n",
       "      <td>Saturday: A 20 percent chance of showers.  Are...</td>\n",
       "    </tr>\n",
       "    <tr>\n",
       "      <td>4</td>\n",
       "      <td>SaturdayNight</td>\n",
       "      <td>ChanceShowers andAreas Fog</td>\n",
       "      <td>Low: 56 °F</td>\n",
       "      <td>Saturday Night: A 50 percent chance of showers...</td>\n",
       "    </tr>\n",
       "    <tr>\n",
       "      <td>5</td>\n",
       "      <td>Sunday</td>\n",
       "      <td>ShowersLikely andBreezy</td>\n",
       "      <td>High: 65 °F</td>\n",
       "      <td>Sunday: Showers likely.  Cloudy through mid mo...</td>\n",
       "    </tr>\n",
       "    <tr>\n",
       "      <td>6</td>\n",
       "      <td>SundayNight</td>\n",
       "      <td>Partly Cloudy</td>\n",
       "      <td>Low: 44 °F</td>\n",
       "      <td>Sunday Night: Partly cloudy, with a low around...</td>\n",
       "    </tr>\n",
       "    <tr>\n",
       "      <td>7</td>\n",
       "      <td>Monday</td>\n",
       "      <td>Partly Sunny</td>\n",
       "      <td>High: 49 °F</td>\n",
       "      <td>Monday: Partly sunny, with a high near 49.</td>\n",
       "    </tr>\n",
       "    <tr>\n",
       "      <td>8</td>\n",
       "      <td>MondayNight</td>\n",
       "      <td>Partly Cloudy</td>\n",
       "      <td>Low: 40 °F</td>\n",
       "      <td>Monday Night: Partly cloudy, with a low around...</td>\n",
       "    </tr>\n",
       "  </tbody>\n",
       "</table>\n",
       "</div>"
      ],
      "text/plain": [
       "          period                                short_desc         temp  \\\n",
       "0      Overnight                             Mostly Cloudy   Low: 35 °F   \n",
       "1         Friday  Slight ChanceLight Rainthen MostlyCloudy  High: 53 °F   \n",
       "2    FridayNight               PatchyDrizzle andPatchy Fog   Low: 51 °F   \n",
       "3       Saturday         Slight ChanceShowers andAreas Fog  High: 61 °F   \n",
       "4  SaturdayNight                ChanceShowers andAreas Fog   Low: 56 °F   \n",
       "5         Sunday                   ShowersLikely andBreezy  High: 65 °F   \n",
       "6    SundayNight                             Partly Cloudy   Low: 44 °F   \n",
       "7         Monday                              Partly Sunny  High: 49 °F   \n",
       "8    MondayNight                             Partly Cloudy   Low: 40 °F   \n",
       "\n",
       "                                                desc  \n",
       "0  Overnight: Mostly cloudy, with a steady temper...  \n",
       "1  Friday: A slight chance of drizzle or light ra...  \n",
       "2  Friday Night: Patchy drizzle and fog with a sl...  \n",
       "3  Saturday: A 20 percent chance of showers.  Are...  \n",
       "4  Saturday Night: A 50 percent chance of showers...  \n",
       "5  Sunday: Showers likely.  Cloudy through mid mo...  \n",
       "6  Sunday Night: Partly cloudy, with a low around...  \n",
       "7         Monday: Partly sunny, with a high near 49.  \n",
       "8  Monday Night: Partly cloudy, with a low around...  "
      ]
     },
     "execution_count": 44,
     "metadata": {},
     "output_type": "execute_result"
    }
   ],
   "source": [
    "# Load the weather data as a data frame\n",
    "import pandas as pd\n",
    "weather = pd.DataFrame({\n",
    "    \"period\": periods,\n",
    "    \"short_desc\": short_descs,\n",
    "    \"temp\": temps,\n",
    "    \"desc\":descs\n",
    "})\n",
    "weather"
   ]
  },
  {
   "cell_type": "code",
   "execution_count": 45,
   "metadata": {},
   "outputs": [
    {
     "data": {
      "text/plain": [
       "period        object\n",
       "short_desc    object\n",
       "temp          object\n",
       "desc          object\n",
       "dtype: object"
      ]
     },
     "execution_count": 45,
     "metadata": {},
     "output_type": "execute_result"
    }
   ],
   "source": [
    "weather.dtypes"
   ]
  },
  {
   "cell_type": "code",
   "execution_count": 46,
   "metadata": {},
   "outputs": [
    {
     "data": {
      "text/html": [
       "<div>\n",
       "<style scoped>\n",
       "    .dataframe tbody tr th:only-of-type {\n",
       "        vertical-align: middle;\n",
       "    }\n",
       "\n",
       "    .dataframe tbody tr th {\n",
       "        vertical-align: top;\n",
       "    }\n",
       "\n",
       "    .dataframe thead th {\n",
       "        text-align: right;\n",
       "    }\n",
       "</style>\n",
       "<table border=\"1\" class=\"dataframe\">\n",
       "  <thead>\n",
       "    <tr style=\"text-align: right;\">\n",
       "      <th></th>\n",
       "      <th>period</th>\n",
       "      <th>short_desc</th>\n",
       "      <th>temp</th>\n",
       "      <th>desc</th>\n",
       "      <th>temp_num</th>\n",
       "    </tr>\n",
       "  </thead>\n",
       "  <tbody>\n",
       "    <tr>\n",
       "      <td>0</td>\n",
       "      <td>Overnight</td>\n",
       "      <td>Mostly Cloudy</td>\n",
       "      <td>Low: 35 °F</td>\n",
       "      <td>Overnight: Mostly cloudy, with a steady temper...</td>\n",
       "      <td>35</td>\n",
       "    </tr>\n",
       "    <tr>\n",
       "      <td>1</td>\n",
       "      <td>Friday</td>\n",
       "      <td>Slight ChanceLight Rainthen MostlyCloudy</td>\n",
       "      <td>High: 53 °F</td>\n",
       "      <td>Friday: A slight chance of drizzle or light ra...</td>\n",
       "      <td>53</td>\n",
       "    </tr>\n",
       "    <tr>\n",
       "      <td>2</td>\n",
       "      <td>FridayNight</td>\n",
       "      <td>PatchyDrizzle andPatchy Fog</td>\n",
       "      <td>Low: 51 °F</td>\n",
       "      <td>Friday Night: Patchy drizzle and fog with a sl...</td>\n",
       "      <td>51</td>\n",
       "    </tr>\n",
       "    <tr>\n",
       "      <td>3</td>\n",
       "      <td>Saturday</td>\n",
       "      <td>Slight ChanceShowers andAreas Fog</td>\n",
       "      <td>High: 61 °F</td>\n",
       "      <td>Saturday: A 20 percent chance of showers.  Are...</td>\n",
       "      <td>61</td>\n",
       "    </tr>\n",
       "    <tr>\n",
       "      <td>4</td>\n",
       "      <td>SaturdayNight</td>\n",
       "      <td>ChanceShowers andAreas Fog</td>\n",
       "      <td>Low: 56 °F</td>\n",
       "      <td>Saturday Night: A 50 percent chance of showers...</td>\n",
       "      <td>56</td>\n",
       "    </tr>\n",
       "    <tr>\n",
       "      <td>5</td>\n",
       "      <td>Sunday</td>\n",
       "      <td>ShowersLikely andBreezy</td>\n",
       "      <td>High: 65 °F</td>\n",
       "      <td>Sunday: Showers likely.  Cloudy through mid mo...</td>\n",
       "      <td>65</td>\n",
       "    </tr>\n",
       "    <tr>\n",
       "      <td>6</td>\n",
       "      <td>SundayNight</td>\n",
       "      <td>Partly Cloudy</td>\n",
       "      <td>Low: 44 °F</td>\n",
       "      <td>Sunday Night: Partly cloudy, with a low around...</td>\n",
       "      <td>44</td>\n",
       "    </tr>\n",
       "    <tr>\n",
       "      <td>7</td>\n",
       "      <td>Monday</td>\n",
       "      <td>Partly Sunny</td>\n",
       "      <td>High: 49 °F</td>\n",
       "      <td>Monday: Partly sunny, with a high near 49.</td>\n",
       "      <td>49</td>\n",
       "    </tr>\n",
       "    <tr>\n",
       "      <td>8</td>\n",
       "      <td>MondayNight</td>\n",
       "      <td>Partly Cloudy</td>\n",
       "      <td>Low: 40 °F</td>\n",
       "      <td>Monday Night: Partly cloudy, with a low around...</td>\n",
       "      <td>40</td>\n",
       "    </tr>\n",
       "  </tbody>\n",
       "</table>\n",
       "</div>"
      ],
      "text/plain": [
       "          period                                short_desc         temp  \\\n",
       "0      Overnight                             Mostly Cloudy   Low: 35 °F   \n",
       "1         Friday  Slight ChanceLight Rainthen MostlyCloudy  High: 53 °F   \n",
       "2    FridayNight               PatchyDrizzle andPatchy Fog   Low: 51 °F   \n",
       "3       Saturday         Slight ChanceShowers andAreas Fog  High: 61 °F   \n",
       "4  SaturdayNight                ChanceShowers andAreas Fog   Low: 56 °F   \n",
       "5         Sunday                   ShowersLikely andBreezy  High: 65 °F   \n",
       "6    SundayNight                             Partly Cloudy   Low: 44 °F   \n",
       "7         Monday                              Partly Sunny  High: 49 °F   \n",
       "8    MondayNight                             Partly Cloudy   Low: 40 °F   \n",
       "\n",
       "                                                desc  temp_num  \n",
       "0  Overnight: Mostly cloudy, with a steady temper...        35  \n",
       "1  Friday: A slight chance of drizzle or light ra...        53  \n",
       "2  Friday Night: Patchy drizzle and fog with a sl...        51  \n",
       "3  Saturday: A 20 percent chance of showers.  Are...        61  \n",
       "4  Saturday Night: A 50 percent chance of showers...        56  \n",
       "5  Sunday: Showers likely.  Cloudy through mid mo...        65  \n",
       "6  Sunday Night: Partly cloudy, with a low around...        44  \n",
       "7         Monday: Partly sunny, with a high near 49.        49  \n",
       "8  Monday Night: Partly cloudy, with a low around...        40  "
      ]
     },
     "execution_count": 46,
     "metadata": {},
     "output_type": "execute_result"
    }
   ],
   "source": [
    "# extract numeric temperature\n",
    "temp_nums = weather[\"temp\"].str.extract(\"(?P<temp_num>\\d+)\", expand=False)\n",
    "weather[\"temp_num\"] = temp_nums.astype('int')\n",
    "weather"
   ]
  },
  {
   "cell_type": "code",
   "execution_count": 47,
   "metadata": {},
   "outputs": [
    {
     "data": {
      "text/plain": [
       "0     True\n",
       "1    False\n",
       "2     True\n",
       "3    False\n",
       "4     True\n",
       "5    False\n",
       "6     True\n",
       "7    False\n",
       "8     True\n",
       "Name: temp, dtype: bool"
      ]
     },
     "execution_count": 47,
     "metadata": {},
     "output_type": "execute_result"
    }
   ],
   "source": [
    "# Identify day temperature from night temperature\n",
    "is_night = weather[\"temp\"].str.contains(\"Low\")\n",
    "weather[\"is_night\"] = is_night\n",
    "is_night"
   ]
  },
  {
   "cell_type": "code",
   "execution_count": 48,
   "metadata": {},
   "outputs": [
    {
     "data": {
      "text/html": [
       "<div>\n",
       "<style scoped>\n",
       "    .dataframe tbody tr th:only-of-type {\n",
       "        vertical-align: middle;\n",
       "    }\n",
       "\n",
       "    .dataframe tbody tr th {\n",
       "        vertical-align: top;\n",
       "    }\n",
       "\n",
       "    .dataframe thead th {\n",
       "        text-align: right;\n",
       "    }\n",
       "</style>\n",
       "<table border=\"1\" class=\"dataframe\">\n",
       "  <thead>\n",
       "    <tr style=\"text-align: right;\">\n",
       "      <th></th>\n",
       "      <th>period</th>\n",
       "      <th>short_desc</th>\n",
       "      <th>temp</th>\n",
       "      <th>desc</th>\n",
       "      <th>temp_num</th>\n",
       "      <th>is_night</th>\n",
       "    </tr>\n",
       "  </thead>\n",
       "  <tbody>\n",
       "    <tr>\n",
       "      <td>0</td>\n",
       "      <td>Overnight</td>\n",
       "      <td>Mostly Cloudy</td>\n",
       "      <td>Low: 35 °F</td>\n",
       "      <td>Overnight: Mostly cloudy, with a steady temper...</td>\n",
       "      <td>35</td>\n",
       "      <td>True</td>\n",
       "    </tr>\n",
       "    <tr>\n",
       "      <td>2</td>\n",
       "      <td>FridayNight</td>\n",
       "      <td>PatchyDrizzle andPatchy Fog</td>\n",
       "      <td>Low: 51 °F</td>\n",
       "      <td>Friday Night: Patchy drizzle and fog with a sl...</td>\n",
       "      <td>51</td>\n",
       "      <td>True</td>\n",
       "    </tr>\n",
       "    <tr>\n",
       "      <td>4</td>\n",
       "      <td>SaturdayNight</td>\n",
       "      <td>ChanceShowers andAreas Fog</td>\n",
       "      <td>Low: 56 °F</td>\n",
       "      <td>Saturday Night: A 50 percent chance of showers...</td>\n",
       "      <td>56</td>\n",
       "      <td>True</td>\n",
       "    </tr>\n",
       "    <tr>\n",
       "      <td>6</td>\n",
       "      <td>SundayNight</td>\n",
       "      <td>Partly Cloudy</td>\n",
       "      <td>Low: 44 °F</td>\n",
       "      <td>Sunday Night: Partly cloudy, with a low around...</td>\n",
       "      <td>44</td>\n",
       "      <td>True</td>\n",
       "    </tr>\n",
       "    <tr>\n",
       "      <td>8</td>\n",
       "      <td>MondayNight</td>\n",
       "      <td>Partly Cloudy</td>\n",
       "      <td>Low: 40 °F</td>\n",
       "      <td>Monday Night: Partly cloudy, with a low around...</td>\n",
       "      <td>40</td>\n",
       "      <td>True</td>\n",
       "    </tr>\n",
       "  </tbody>\n",
       "</table>\n",
       "</div>"
      ],
      "text/plain": [
       "          period                   short_desc        temp  \\\n",
       "0      Overnight                Mostly Cloudy  Low: 35 °F   \n",
       "2    FridayNight  PatchyDrizzle andPatchy Fog  Low: 51 °F   \n",
       "4  SaturdayNight   ChanceShowers andAreas Fog  Low: 56 °F   \n",
       "6    SundayNight                Partly Cloudy  Low: 44 °F   \n",
       "8    MondayNight                Partly Cloudy  Low: 40 °F   \n",
       "\n",
       "                                                desc  temp_num  is_night  \n",
       "0  Overnight: Mostly cloudy, with a steady temper...        35      True  \n",
       "2  Friday Night: Patchy drizzle and fog with a sl...        51      True  \n",
       "4  Saturday Night: A 50 percent chance of showers...        56      True  \n",
       "6  Sunday Night: Partly cloudy, with a low around...        44      True  \n",
       "8  Monday Night: Partly cloudy, with a low around...        40      True  "
      ]
     },
     "execution_count": 48,
     "metadata": {},
     "output_type": "execute_result"
    }
   ],
   "source": [
    "weather[is_night]"
   ]
  },
  {
   "cell_type": "code",
   "execution_count": 49,
   "metadata": {},
   "outputs": [],
   "source": [
    "# Get new headlines from New York Times?\n",
    "# Get current stock prices?\n",
    "# Monitor alarms?;\n",
    "# Download files?"
   ]
  }
 ],
 "metadata": {
  "kernelspec": {
   "display_name": "Python 3",
   "language": "python",
   "name": "python3"
  },
  "language_info": {
   "codemirror_mode": {
    "name": "ipython",
    "version": 3
   },
   "file_extension": ".py",
   "mimetype": "text/x-python",
   "name": "python",
   "nbconvert_exporter": "python",
   "pygments_lexer": "ipython3",
   "version": "3.7.4"
  }
 },
 "nbformat": 4,
 "nbformat_minor": 2
}
